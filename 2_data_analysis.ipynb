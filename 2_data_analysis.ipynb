{
  "nbformat": 4,
  "nbformat_minor": 0,
  "metadata": {
    "colab": {
      "name": "2_data_analysis.ipynb",
      "provenance": [],
      "collapsed_sections": [],
      "toc_visible": true,
      "authorship_tag": "ABX9TyPjIGzNAEEXSvAl5Iw+JUq9",
      "include_colab_link": true
    },
    "kernelspec": {
      "name": "python3",
      "display_name": "Python 3"
    },
    "language_info": {
      "name": "python"
    }
  },
  "cells": [
    {
      "cell_type": "markdown",
      "metadata": {
        "id": "view-in-github",
        "colab_type": "text"
      },
      "source": [
        "<a href=\"https://colab.research.google.com/github/kwojtylko/flat_price_estimator/blob/main/2_data_analysis.ipynb\" target=\"_parent\"><img src=\"https://colab.research.google.com/assets/colab-badge.svg\" alt=\"Open In Colab\"/></a>"
      ]
    },
    {
      "cell_type": "markdown",
      "metadata": {
        "id": "-38_Gt97htr0"
      },
      "source": [
        "##Analiza danych"
      ]
    },
    {
      "cell_type": "code",
      "metadata": {
        "id": "mbhku4zLhrBm"
      },
      "source": [
        "# import bibliotek\n",
        "import requests\n",
        "from bs4 import BeautifulSoup\n",
        "import time\n",
        "import pandas as pd\n",
        "import numpy as np"
      ],
      "execution_count": 1,
      "outputs": []
    },
    {
      "cell_type": "code",
      "metadata": {
        "id": "T7GtopBHiL5G"
      },
      "source": [
        "# wczytywanie danych\n",
        "gratka_df = pd.read_csv(\"gratka_dane_new.csv\")"
      ],
      "execution_count": 58,
      "outputs": []
    },
    {
      "cell_type": "code",
      "metadata": {
        "id": "nLHN2bM9iUap",
        "colab": {
          "base_uri": "https://localhost:8080/",
          "height": 1000
        },
        "outputId": "4cd93b04-8c03-49a1-9266-4b4d57557ece"
      },
      "source": [
        "pd.set_option('max_colwidth', 400)\n",
        "gratka_df"
      ],
      "execution_count": 59,
      "outputs": [
        {
          "output_type": "execute_result",
          "data": {
            "text/html": [
              "<div>\n",
              "<style scoped>\n",
              "    .dataframe tbody tr th:only-of-type {\n",
              "        vertical-align: middle;\n",
              "    }\n",
              "\n",
              "    .dataframe tbody tr th {\n",
              "        vertical-align: top;\n",
              "    }\n",
              "\n",
              "    .dataframe thead th {\n",
              "        text-align: right;\n",
              "    }\n",
              "</style>\n",
              "<table border=\"1\" class=\"dataframe\">\n",
              "  <thead>\n",
              "    <tr style=\"text-align: right;\">\n",
              "      <th></th>\n",
              "      <th>url_base</th>\n",
              "      <th>url_page</th>\n",
              "      <th>page</th>\n",
              "      <th>location</th>\n",
              "      <th>title</th>\n",
              "      <th>link</th>\n",
              "      <th>description</th>\n",
              "      <th>area_m2</th>\n",
              "      <th>n_rooms</th>\n",
              "      <th>n_floor</th>\n",
              "      <th>price_per_m2</th>\n",
              "    </tr>\n",
              "  </thead>\n",
              "  <tbody>\n",
              "    <tr>\n",
              "      <th>0</th>\n",
              "      <td>https://gratka.pl/nieruchomosci/mieszkania/krakow/pierwotny</td>\n",
              "      <td>https://gratka.pl/nieruchomosci/mieszkania/krakow/pierwotny?page=1</td>\n",
              "      <td>1</td>\n",
              "      <td>Kraków,                                         Krowodrza,                                         małopolskie</td>\n",
              "      <td>Nowe mieszkanie Kraków Krowodrza, ul. Pod Fortem</td>\n",
              "      <td>https://gratka.pl/nieruchomosci/nowe-mieszkanie-krakow-krowodrza-ul-pod-fortem/ob/14399332</td>\n",
              "      <td>Poznajcie bliżej naszą inwestycję – Krowodrza Fort \\n\\nNasza nowa inwestycja Krowodrza Fort to mieszkania z rynku pierwotnego, głównie dwu – lub trzy pokojowe. Du</td>\n",
              "      <td>44.93</td>\n",
              "      <td>2</td>\n",
              "      <td>7.0</td>\n",
              "      <td>10700</td>\n",
              "    </tr>\n",
              "    <tr>\n",
              "      <th>1</th>\n",
              "      <td>https://gratka.pl/nieruchomosci/mieszkania/krakow/pierwotny</td>\n",
              "      <td>https://gratka.pl/nieruchomosci/mieszkania/krakow/pierwotny?page=1</td>\n",
              "      <td>1</td>\n",
              "      <td>Kraków,                                         Podgórze,                                         małopolskie</td>\n",
              "      <td>Nowe mieszkanie Kraków Podgórze, ul. Golikówka</td>\n",
              "      <td>https://gratka.pl/nieruchomosci/nowe-mieszkanie-krakow-podgorze-ul-golikowka/ob/19878365</td>\n",
              "      <td>Kukla Nieruchomości prezentujeMieszkanie 2- pokojowe o powierzchni 42 m2 zlokalizowane w domu wolnostojącym przy ulicy Golikówka w dzielnicy Rybitwy. Mieszkanie</td>\n",
              "      <td>42.00</td>\n",
              "      <td>2</td>\n",
              "      <td>1.0</td>\n",
              "      <td>7024</td>\n",
              "    </tr>\n",
              "    <tr>\n",
              "      <th>2</th>\n",
              "      <td>https://gratka.pl/nieruchomosci/mieszkania/krakow/pierwotny</td>\n",
              "      <td>https://gratka.pl/nieruchomosci/mieszkania/krakow/pierwotny?page=1</td>\n",
              "      <td>1</td>\n",
              "      <td>Kraków,                                         Krowodrza,                                         małopolskie</td>\n",
              "      <td>Nowe mieszkanie Kraków Krowodrza, ul. Pod Fortem</td>\n",
              "      <td>https://gratka.pl/nieruchomosci/nowe-mieszkanie-krakow-krowodrza-ul-pod-fortem/ob/14403264</td>\n",
              "      <td>Poznajcie bliżej naszą inwestycję – Krowodrza Fort \\n\\nNasza nowa inwestycja Krowodrza Fort to mieszkania z rynku pierwotnego, głównie dwu – lub trzy pokojowe. Du</td>\n",
              "      <td>59.15</td>\n",
              "      <td>3</td>\n",
              "      <td>1.0</td>\n",
              "      <td>9400</td>\n",
              "    </tr>\n",
              "    <tr>\n",
              "      <th>3</th>\n",
              "      <td>https://gratka.pl/nieruchomosci/mieszkania/krakow/pierwotny</td>\n",
              "      <td>https://gratka.pl/nieruchomosci/mieszkania/krakow/pierwotny?page=1</td>\n",
              "      <td>1</td>\n",
              "      <td>Kraków,                                         Krowodrza,                                         małopolskie</td>\n",
              "      <td>Nowe mieszkanie Kraków Krowodrza, ul. Pod Fortem</td>\n",
              "      <td>https://gratka.pl/nieruchomosci/nowe-mieszkanie-krakow-krowodrza-ul-pod-fortem/ob/14398368</td>\n",
              "      <td>Poznajcie bliżej naszą inwestycję – Krowodrza Fort \\n\\nNasza nowa inwestycja Krowodrza Fort to mieszkania z rynku pierwotnego, głównie dwu – lub trzy pokojowe. Du</td>\n",
              "      <td>50.56</td>\n",
              "      <td>2</td>\n",
              "      <td>7.0</td>\n",
              "      <td>10300</td>\n",
              "    </tr>\n",
              "    <tr>\n",
              "      <th>4</th>\n",
              "      <td>https://gratka.pl/nieruchomosci/mieszkania/krakow/pierwotny</td>\n",
              "      <td>https://gratka.pl/nieruchomosci/mieszkania/krakow/pierwotny?page=1</td>\n",
              "      <td>1</td>\n",
              "      <td>Kraków,                                         Krowodrza,                                         małopolskie</td>\n",
              "      <td>Nowe mieszkanie Kraków Krowodrza, ul. Pod Fortem</td>\n",
              "      <td>https://gratka.pl/nieruchomosci/nowe-mieszkanie-krakow-krowodrza-ul-pod-fortem/ob/14398296</td>\n",
              "      <td>Poznajcie bliżej naszą inwestycję – Krowodrza Fort \\n\\nNasza nowa inwestycja Krowodrza Fort to mieszkania z rynku pierwotnego, głównie dwu – lub trzy pokojowe. Du</td>\n",
              "      <td>76.35</td>\n",
              "      <td>4</td>\n",
              "      <td>6.0</td>\n",
              "      <td>9700</td>\n",
              "    </tr>\n",
              "    <tr>\n",
              "      <th>...</th>\n",
              "      <td>...</td>\n",
              "      <td>...</td>\n",
              "      <td>...</td>\n",
              "      <td>...</td>\n",
              "      <td>...</td>\n",
              "      <td>...</td>\n",
              "      <td>...</td>\n",
              "      <td>...</td>\n",
              "      <td>...</td>\n",
              "      <td>...</td>\n",
              "      <td>...</td>\n",
              "    </tr>\n",
              "    <tr>\n",
              "      <th>3476</th>\n",
              "      <td>https://gratka.pl/nieruchomosci/mieszkania/krakow/pierwotny</td>\n",
              "      <td>https://gratka.pl/nieruchomosci/mieszkania/krakow/pierwotny?page=110</td>\n",
              "      <td>110</td>\n",
              "      <td>Kraków,                                         Płaszów,                                         małopolskie</td>\n",
              "      <td>Nowe mieszkanie Kraków Płaszów, ul. Myśliwska</td>\n",
              "      <td>https://gratka.pl/nieruchomosci/nowe-mieszkanie-krakow-plaszow-ul-mysliwska/ob/17790039</td>\n",
              "      <td>W budynkach Myśliwska Solar Garden w Krakowie-Płaszowie na piętrach oraz na poziomie garażu zaplanowane są komórki lokatorskie w cenie 3250 zł/m2. Metraże komór</td>\n",
              "      <td>42.22</td>\n",
              "      <td>2</td>\n",
              "      <td>0.0</td>\n",
              "      <td>9995</td>\n",
              "    </tr>\n",
              "    <tr>\n",
              "      <th>3477</th>\n",
              "      <td>https://gratka.pl/nieruchomosci/mieszkania/krakow/pierwotny</td>\n",
              "      <td>https://gratka.pl/nieruchomosci/mieszkania/krakow/pierwotny?page=110</td>\n",
              "      <td>110</td>\n",
              "      <td>Kraków,                                         Płaszów,                                         małopolskie</td>\n",
              "      <td>Nowe mieszkanie Kraków Płaszów, ul. Myśliwska</td>\n",
              "      <td>https://gratka.pl/nieruchomosci/nowe-mieszkanie-krakow-plaszow-ul-mysliwska/ob/17790031</td>\n",
              "      <td>W budynkach Myśliwska Solar Garden w Krakowie-Płaszowie na piętrach oraz na poziomie garażu zaplanowane są komórki lokatorskie w cenie 3250 zł/m2. Metraże komór</td>\n",
              "      <td>67.07</td>\n",
              "      <td>3</td>\n",
              "      <td>1.0</td>\n",
              "      <td>8916</td>\n",
              "    </tr>\n",
              "    <tr>\n",
              "      <th>3478</th>\n",
              "      <td>https://gratka.pl/nieruchomosci/mieszkania/krakow/pierwotny</td>\n",
              "      <td>https://gratka.pl/nieruchomosci/mieszkania/krakow/pierwotny?page=110</td>\n",
              "      <td>110</td>\n",
              "      <td>Kraków,                                         Płaszów,                                         małopolskie</td>\n",
              "      <td>Nowe mieszkanie Kraków Płaszów, ul. Myśliwska</td>\n",
              "      <td>https://gratka.pl/nieruchomosci/nowe-mieszkanie-krakow-plaszow-ul-mysliwska/ob/17790023</td>\n",
              "      <td>W budynkach Myśliwska Solar Garden w Krakowie-Płaszowie na piętrach oraz na poziomie garażu zaplanowane są komórki lokatorskie w cenie 3250 zł/m2. Metraże komór</td>\n",
              "      <td>63.05</td>\n",
              "      <td>3</td>\n",
              "      <td>1.0</td>\n",
              "      <td>9056</td>\n",
              "    </tr>\n",
              "    <tr>\n",
              "      <th>3479</th>\n",
              "      <td>https://gratka.pl/nieruchomosci/mieszkania/krakow/pierwotny</td>\n",
              "      <td>https://gratka.pl/nieruchomosci/mieszkania/krakow/pierwotny?page=110</td>\n",
              "      <td>110</td>\n",
              "      <td>Kraków,                                         Płaszów,                                         małopolskie</td>\n",
              "      <td>Nowe mieszkanie Kraków Płaszów, ul. Myśliwska</td>\n",
              "      <td>https://gratka.pl/nieruchomosci/nowe-mieszkanie-krakow-plaszow-ul-mysliwska/ob/17790013</td>\n",
              "      <td>W budynkach Myśliwska Solar Garden w Krakowie-Płaszowie na piętrach oraz na poziomie garażu zaplanowane są komórki lokatorskie w cenie 3250 zł/m2. Metraże komór</td>\n",
              "      <td>62.59</td>\n",
              "      <td>3</td>\n",
              "      <td>0.0</td>\n",
              "      <td>9394</td>\n",
              "    </tr>\n",
              "    <tr>\n",
              "      <th>3480</th>\n",
              "      <td>https://gratka.pl/nieruchomosci/mieszkania/krakow/pierwotny</td>\n",
              "      <td>https://gratka.pl/nieruchomosci/mieszkania/krakow/pierwotny?page=110</td>\n",
              "      <td>110</td>\n",
              "      <td>Kraków,                                         Płaszów,                                         małopolskie</td>\n",
              "      <td>Nowe mieszkanie Kraków Płaszów, ul. Myśliwska</td>\n",
              "      <td>https://gratka.pl/nieruchomosci/nowe-mieszkanie-krakow-plaszow-ul-mysliwska/ob/17789991</td>\n",
              "      <td>W budynkach Myśliwska Solar Garden w Krakowie-Płaszowie na piętrach oraz na poziomie garażu zaplanowane są komórki lokatorskie w cenie 3250 zł/m2. Metraże komór</td>\n",
              "      <td>63.77</td>\n",
              "      <td>3</td>\n",
              "      <td>0.0</td>\n",
              "      <td>9032</td>\n",
              "    </tr>\n",
              "  </tbody>\n",
              "</table>\n",
              "<p>3481 rows × 11 columns</p>\n",
              "</div>"
            ],
            "text/plain": [
              "                                                         url_base  ... price_per_m2\n",
              "0     https://gratka.pl/nieruchomosci/mieszkania/krakow/pierwotny  ...        10700\n",
              "1     https://gratka.pl/nieruchomosci/mieszkania/krakow/pierwotny  ...         7024\n",
              "2     https://gratka.pl/nieruchomosci/mieszkania/krakow/pierwotny  ...         9400\n",
              "3     https://gratka.pl/nieruchomosci/mieszkania/krakow/pierwotny  ...        10300\n",
              "4     https://gratka.pl/nieruchomosci/mieszkania/krakow/pierwotny  ...         9700\n",
              "...                                                           ...  ...          ...\n",
              "3476  https://gratka.pl/nieruchomosci/mieszkania/krakow/pierwotny  ...         9995\n",
              "3477  https://gratka.pl/nieruchomosci/mieszkania/krakow/pierwotny  ...         8916\n",
              "3478  https://gratka.pl/nieruchomosci/mieszkania/krakow/pierwotny  ...         9056\n",
              "3479  https://gratka.pl/nieruchomosci/mieszkania/krakow/pierwotny  ...         9394\n",
              "3480  https://gratka.pl/nieruchomosci/mieszkania/krakow/pierwotny  ...         9032\n",
              "\n",
              "[3481 rows x 11 columns]"
            ]
          },
          "metadata": {
            "tags": []
          },
          "execution_count": 59
        }
      ]
    },
    {
      "cell_type": "code",
      "metadata": {
        "colab": {
          "base_uri": "https://localhost:8080/"
        },
        "id": "NXLIdPmwifD-",
        "outputId": "06b75aa1-f40c-4920-9661-71271e4d58b3"
      },
      "source": [
        "gratka_df.info()"
      ],
      "execution_count": 60,
      "outputs": [
        {
          "output_type": "stream",
          "text": [
            "<class 'pandas.core.frame.DataFrame'>\n",
            "RangeIndex: 3481 entries, 0 to 3480\n",
            "Data columns (total 11 columns):\n",
            " #   Column        Non-Null Count  Dtype  \n",
            "---  ------        --------------  -----  \n",
            " 0   url_base      3481 non-null   object \n",
            " 1   url_page      3481 non-null   object \n",
            " 2   page          3481 non-null   int64  \n",
            " 3   location      3481 non-null   object \n",
            " 4   title         3481 non-null   object \n",
            " 5   link          3481 non-null   object \n",
            " 6   description   3481 non-null   object \n",
            " 7   area_m2       3481 non-null   float64\n",
            " 8   n_rooms       3481 non-null   int64  \n",
            " 9   n_floor       3481 non-null   float64\n",
            " 10  price_per_m2  3481 non-null   int64  \n",
            "dtypes: float64(2), int64(3), object(6)\n",
            "memory usage: 299.3+ KB\n"
          ],
          "name": "stdout"
        }
      ]
    },
    {
      "cell_type": "code",
      "metadata": {
        "colab": {
          "base_uri": "https://localhost:8080/",
          "height": 300
        },
        "id": "DODYZpR_ihkf",
        "outputId": "2621918a-fd7e-48d3-f4ed-f1f758956241"
      },
      "source": [
        "gratka_df.describe()"
      ],
      "execution_count": 61,
      "outputs": [
        {
          "output_type": "execute_result",
          "data": {
            "text/html": [
              "<div>\n",
              "<style scoped>\n",
              "    .dataframe tbody tr th:only-of-type {\n",
              "        vertical-align: middle;\n",
              "    }\n",
              "\n",
              "    .dataframe tbody tr th {\n",
              "        vertical-align: top;\n",
              "    }\n",
              "\n",
              "    .dataframe thead th {\n",
              "        text-align: right;\n",
              "    }\n",
              "</style>\n",
              "<table border=\"1\" class=\"dataframe\">\n",
              "  <thead>\n",
              "    <tr style=\"text-align: right;\">\n",
              "      <th></th>\n",
              "      <th>page</th>\n",
              "      <th>area_m2</th>\n",
              "      <th>n_rooms</th>\n",
              "      <th>n_floor</th>\n",
              "      <th>price_per_m2</th>\n",
              "    </tr>\n",
              "  </thead>\n",
              "  <tbody>\n",
              "    <tr>\n",
              "      <th>count</th>\n",
              "      <td>3481.000000</td>\n",
              "      <td>3481.000000</td>\n",
              "      <td>3481.000000</td>\n",
              "      <td>3481.000000</td>\n",
              "      <td>3481.000000</td>\n",
              "    </tr>\n",
              "    <tr>\n",
              "      <th>mean</th>\n",
              "      <td>55.598966</td>\n",
              "      <td>55.448914</td>\n",
              "      <td>2.559609</td>\n",
              "      <td>2.392129</td>\n",
              "      <td>10631.935363</td>\n",
              "    </tr>\n",
              "    <tr>\n",
              "      <th>std</th>\n",
              "      <td>31.648347</td>\n",
              "      <td>26.350922</td>\n",
              "      <td>1.027479</td>\n",
              "      <td>2.197552</td>\n",
              "      <td>2941.337028</td>\n",
              "    </tr>\n",
              "    <tr>\n",
              "      <th>min</th>\n",
              "      <td>1.000000</td>\n",
              "      <td>13.300000</td>\n",
              "      <td>1.000000</td>\n",
              "      <td>0.000000</td>\n",
              "      <td>4999.000000</td>\n",
              "    </tr>\n",
              "    <tr>\n",
              "      <th>25%</th>\n",
              "      <td>28.000000</td>\n",
              "      <td>39.000000</td>\n",
              "      <td>2.000000</td>\n",
              "      <td>1.000000</td>\n",
              "      <td>8893.000000</td>\n",
              "    </tr>\n",
              "    <tr>\n",
              "      <th>50%</th>\n",
              "      <td>56.000000</td>\n",
              "      <td>51.080000</td>\n",
              "      <td>3.000000</td>\n",
              "      <td>2.000000</td>\n",
              "      <td>9940.000000</td>\n",
              "    </tr>\n",
              "    <tr>\n",
              "      <th>75%</th>\n",
              "      <td>83.000000</td>\n",
              "      <td>66.110000</td>\n",
              "      <td>3.000000</td>\n",
              "      <td>4.000000</td>\n",
              "      <td>11955.000000</td>\n",
              "    </tr>\n",
              "    <tr>\n",
              "      <th>max</th>\n",
              "      <td>110.000000</td>\n",
              "      <td>230.000000</td>\n",
              "      <td>6.000000</td>\n",
              "      <td>14.000000</td>\n",
              "      <td>40000.000000</td>\n",
              "    </tr>\n",
              "  </tbody>\n",
              "</table>\n",
              "</div>"
            ],
            "text/plain": [
              "              page      area_m2      n_rooms      n_floor  price_per_m2\n",
              "count  3481.000000  3481.000000  3481.000000  3481.000000   3481.000000\n",
              "mean     55.598966    55.448914     2.559609     2.392129  10631.935363\n",
              "std      31.648347    26.350922     1.027479     2.197552   2941.337028\n",
              "min       1.000000    13.300000     1.000000     0.000000   4999.000000\n",
              "25%      28.000000    39.000000     2.000000     1.000000   8893.000000\n",
              "50%      56.000000    51.080000     3.000000     2.000000   9940.000000\n",
              "75%      83.000000    66.110000     3.000000     4.000000  11955.000000\n",
              "max     110.000000   230.000000     6.000000    14.000000  40000.000000"
            ]
          },
          "metadata": {
            "tags": []
          },
          "execution_count": 61
        }
      ]
    },
    {
      "cell_type": "code",
      "metadata": {
        "colab": {
          "base_uri": "https://localhost:8080/",
          "height": 49
        },
        "id": "ndhbkAveixWk",
        "outputId": "919bb6a2-1cd3-49d0-962b-03c8b9c4a1a2"
      },
      "source": [
        "#sprawdzenie duplikatów\n",
        "gratka_df[gratka_df.duplicated()]"
      ],
      "execution_count": 62,
      "outputs": [
        {
          "output_type": "execute_result",
          "data": {
            "text/html": [
              "<div>\n",
              "<style scoped>\n",
              "    .dataframe tbody tr th:only-of-type {\n",
              "        vertical-align: middle;\n",
              "    }\n",
              "\n",
              "    .dataframe tbody tr th {\n",
              "        vertical-align: top;\n",
              "    }\n",
              "\n",
              "    .dataframe thead th {\n",
              "        text-align: right;\n",
              "    }\n",
              "</style>\n",
              "<table border=\"1\" class=\"dataframe\">\n",
              "  <thead>\n",
              "    <tr style=\"text-align: right;\">\n",
              "      <th></th>\n",
              "      <th>url_base</th>\n",
              "      <th>url_page</th>\n",
              "      <th>page</th>\n",
              "      <th>location</th>\n",
              "      <th>title</th>\n",
              "      <th>link</th>\n",
              "      <th>description</th>\n",
              "      <th>area_m2</th>\n",
              "      <th>n_rooms</th>\n",
              "      <th>n_floor</th>\n",
              "      <th>price_per_m2</th>\n",
              "    </tr>\n",
              "  </thead>\n",
              "  <tbody>\n",
              "  </tbody>\n",
              "</table>\n",
              "</div>"
            ],
            "text/plain": [
              "Empty DataFrame\n",
              "Columns: [url_base, url_page, page, location, title, link, description, area_m2, n_rooms, n_floor, price_per_m2]\n",
              "Index: []"
            ]
          },
          "metadata": {
            "tags": []
          },
          "execution_count": 62
        }
      ]
    },
    {
      "cell_type": "code",
      "metadata": {
        "colab": {
          "base_uri": "https://localhost:8080/"
        },
        "id": "A6Y0zo0pkOwf",
        "outputId": "324da9d4-a3eb-435c-e89b-0b6854378795"
      },
      "source": [
        "gratka_df[\"area_m2\"].value_counts()"
      ],
      "execution_count": 63,
      "outputs": [
        {
          "output_type": "execute_result",
          "data": {
            "text/plain": [
              "58.00    18\n",
              "59.09    17\n",
              "13.44    17\n",
              "32.00    13\n",
              "84.17    13\n",
              "         ..\n",
              "92.03     1\n",
              "71.49     1\n",
              "88.36     1\n",
              "58.15     1\n",
              "97.59     1\n",
              "Name: area_m2, Length: 1521, dtype: int64"
            ]
          },
          "metadata": {
            "tags": []
          },
          "execution_count": 63
        }
      ]
    },
    {
      "cell_type": "code",
      "metadata": {
        "colab": {
          "base_uri": "https://localhost:8080/"
        },
        "id": "r6mj3Lxdm29T",
        "outputId": "dbb14f6f-b04f-4390-b527-6dac0f2dc9ed"
      },
      "source": [
        "gratka_df[\"n_rooms\"].value_counts()"
      ],
      "execution_count": 64,
      "outputs": [
        {
          "output_type": "execute_result",
          "data": {
            "text/plain": [
              "3    1245\n",
              "2    1171\n",
              "1     529\n",
              "4     399\n",
              "5     114\n",
              "6      23\n",
              "Name: n_rooms, dtype: int64"
            ]
          },
          "metadata": {
            "tags": []
          },
          "execution_count": 64
        }
      ]
    },
    {
      "cell_type": "code",
      "metadata": {
        "colab": {
          "base_uri": "https://localhost:8080/"
        },
        "id": "tEmIWcykm6_P",
        "outputId": "c7c44e57-afda-4f31-9e78-ca6e7cb42e06"
      },
      "source": [
        "gratka_df[\"n_floor\"].value_counts()"
      ],
      "execution_count": 65,
      "outputs": [
        {
          "output_type": "execute_result",
          "data": {
            "text/plain": [
              "1.0     836\n",
              "0.0     658\n",
              "2.0     634\n",
              "3.0     463\n",
              "4.0     365\n",
              "5.0     230\n",
              "6.0     100\n",
              "7.0      70\n",
              "8.0      57\n",
              "9.0      41\n",
              "10.0     12\n",
              "13.0      6\n",
              "14.0      3\n",
              "11.0      3\n",
              "12.0      3\n",
              "Name: n_floor, dtype: int64"
            ]
          },
          "metadata": {
            "tags": []
          },
          "execution_count": 65
        }
      ]
    },
    {
      "cell_type": "code",
      "metadata": {
        "colab": {
          "base_uri": "https://localhost:8080/"
        },
        "id": "nxqOWkqfnAgE",
        "outputId": "80c6f393-0ab0-40f6-b85c-0b7f280dfa6d"
      },
      "source": [
        "gratka_df[\"price_per_m2\"].value_counts()"
      ],
      "execution_count": 66,
      "outputs": [
        {
          "output_type": "execute_result",
          "data": {
            "text/plain": [
              "9200     50\n",
              "10200    50\n",
              "9000     45\n",
              "8400     41\n",
              "9500     40\n",
              "         ..\n",
              "10724     1\n",
              "10734     1\n",
              "10746     1\n",
              "12795     1\n",
              "12288     1\n",
              "Name: price_per_m2, Length: 1519, dtype: int64"
            ]
          },
          "metadata": {
            "tags": []
          },
          "execution_count": 66
        }
      ]
    },
    {
      "cell_type": "code",
      "metadata": {
        "colab": {
          "base_uri": "https://localhost:8080/",
          "height": 455
        },
        "id": "4_7qABk9nHCc",
        "outputId": "80895ed0-e829-4b5d-b4b4-716dd1ad58f8"
      },
      "source": [
        "# średnia cena m2 mieszkania wg. metrażu\n",
        "gratka_df.groupby(\"area_m2\").agg(dict(price_per_m2 = \"mean\")).sort_values(by = \"price_per_m2\", ascending = False)"
      ],
      "execution_count": 67,
      "outputs": [
        {
          "output_type": "execute_result",
          "data": {
            "text/html": [
              "<div>\n",
              "<style scoped>\n",
              "    .dataframe tbody tr th:only-of-type {\n",
              "        vertical-align: middle;\n",
              "    }\n",
              "\n",
              "    .dataframe tbody tr th {\n",
              "        vertical-align: top;\n",
              "    }\n",
              "\n",
              "    .dataframe thead th {\n",
              "        text-align: right;\n",
              "    }\n",
              "</style>\n",
              "<table border=\"1\" class=\"dataframe\">\n",
              "  <thead>\n",
              "    <tr style=\"text-align: right;\">\n",
              "      <th></th>\n",
              "      <th>price_per_m2</th>\n",
              "    </tr>\n",
              "    <tr>\n",
              "      <th>area_m2</th>\n",
              "      <th></th>\n",
              "    </tr>\n",
              "  </thead>\n",
              "  <tbody>\n",
              "    <tr>\n",
              "      <th>170.00</th>\n",
              "      <td>29412.0</td>\n",
              "    </tr>\n",
              "    <tr>\n",
              "      <th>25.01</th>\n",
              "      <td>25977.5</td>\n",
              "    </tr>\n",
              "    <tr>\n",
              "      <th>106.00</th>\n",
              "      <td>25377.0</td>\n",
              "    </tr>\n",
              "    <tr>\n",
              "      <th>225.35</th>\n",
              "      <td>25000.0</td>\n",
              "    </tr>\n",
              "    <tr>\n",
              "      <th>226.14</th>\n",
              "      <td>25000.0</td>\n",
              "    </tr>\n",
              "    <tr>\n",
              "      <th>...</th>\n",
              "      <td>...</td>\n",
              "    </tr>\n",
              "    <tr>\n",
              "      <th>91.05</th>\n",
              "      <td>5437.0</td>\n",
              "    </tr>\n",
              "    <tr>\n",
              "      <th>136.05</th>\n",
              "      <td>5250.0</td>\n",
              "    </tr>\n",
              "    <tr>\n",
              "      <th>76.64</th>\n",
              "      <td>5193.0</td>\n",
              "    </tr>\n",
              "    <tr>\n",
              "      <th>75.50</th>\n",
              "      <td>5099.0</td>\n",
              "    </tr>\n",
              "    <tr>\n",
              "      <th>77.16</th>\n",
              "      <td>4999.0</td>\n",
              "    </tr>\n",
              "  </tbody>\n",
              "</table>\n",
              "<p>1521 rows × 1 columns</p>\n",
              "</div>"
            ],
            "text/plain": [
              "         price_per_m2\n",
              "area_m2              \n",
              "170.00        29412.0\n",
              "25.01         25977.5\n",
              "106.00        25377.0\n",
              "225.35        25000.0\n",
              "226.14        25000.0\n",
              "...               ...\n",
              "91.05          5437.0\n",
              "136.05         5250.0\n",
              "76.64          5193.0\n",
              "75.50          5099.0\n",
              "77.16          4999.0\n",
              "\n",
              "[1521 rows x 1 columns]"
            ]
          },
          "metadata": {
            "tags": []
          },
          "execution_count": 67
        }
      ]
    },
    {
      "cell_type": "code",
      "metadata": {
        "colab": {
          "base_uri": "https://localhost:8080/",
          "height": 269
        },
        "id": "XE3gTBbYqhJP",
        "outputId": "67d02409-9844-4b43-ade1-629f455eb789"
      },
      "source": [
        "# średnia cena m2 mieszkania wg. liczby pokoi\n",
        "gratka_df.groupby(\"n_rooms\").agg(dict(price_per_m2 = \"mean\")).sort_values(by = \"price_per_m2\", ascending = False)"
      ],
      "execution_count": 68,
      "outputs": [
        {
          "output_type": "execute_result",
          "data": {
            "text/html": [
              "<div>\n",
              "<style scoped>\n",
              "    .dataframe tbody tr th:only-of-type {\n",
              "        vertical-align: middle;\n",
              "    }\n",
              "\n",
              "    .dataframe tbody tr th {\n",
              "        vertical-align: top;\n",
              "    }\n",
              "\n",
              "    .dataframe thead th {\n",
              "        text-align: right;\n",
              "    }\n",
              "</style>\n",
              "<table border=\"1\" class=\"dataframe\">\n",
              "  <thead>\n",
              "    <tr style=\"text-align: right;\">\n",
              "      <th></th>\n",
              "      <th>price_per_m2</th>\n",
              "    </tr>\n",
              "    <tr>\n",
              "      <th>n_rooms</th>\n",
              "      <th></th>\n",
              "    </tr>\n",
              "  </thead>\n",
              "  <tbody>\n",
              "    <tr>\n",
              "      <th>6</th>\n",
              "      <td>18120.347826</td>\n",
              "    </tr>\n",
              "    <tr>\n",
              "      <th>1</th>\n",
              "      <td>13625.718336</td>\n",
              "    </tr>\n",
              "    <tr>\n",
              "      <th>2</th>\n",
              "      <td>10603.261315</td>\n",
              "    </tr>\n",
              "    <tr>\n",
              "      <th>5</th>\n",
              "      <td>9996.657895</td>\n",
              "    </tr>\n",
              "    <tr>\n",
              "      <th>3</th>\n",
              "      <td>9670.033735</td>\n",
              "    </tr>\n",
              "    <tr>\n",
              "      <th>4</th>\n",
              "      <td>9498.155388</td>\n",
              "    </tr>\n",
              "  </tbody>\n",
              "</table>\n",
              "</div>"
            ],
            "text/plain": [
              "         price_per_m2\n",
              "n_rooms              \n",
              "6        18120.347826\n",
              "1        13625.718336\n",
              "2        10603.261315\n",
              "5         9996.657895\n",
              "3         9670.033735\n",
              "4         9498.155388"
            ]
          },
          "metadata": {
            "tags": []
          },
          "execution_count": 68
        }
      ]
    },
    {
      "cell_type": "code",
      "metadata": {
        "colab": {
          "base_uri": "https://localhost:8080/",
          "height": 551
        },
        "id": "DdZMdYI1rHNt",
        "outputId": "62d8000f-8bc0-4fe3-fc17-cee44c60c9bf"
      },
      "source": [
        "# średnia cena m2 mieszkania wg. nr piętra, na którym mieszkanie się znajduje\n",
        "gratka_df.groupby(\"n_floor\").agg(dict(price_per_m2 = \"mean\")).sort_values(by = \"price_per_m2\", ascending = False)"
      ],
      "execution_count": 69,
      "outputs": [
        {
          "output_type": "execute_result",
          "data": {
            "text/html": [
              "<div>\n",
              "<style scoped>\n",
              "    .dataframe tbody tr th:only-of-type {\n",
              "        vertical-align: middle;\n",
              "    }\n",
              "\n",
              "    .dataframe tbody tr th {\n",
              "        vertical-align: top;\n",
              "    }\n",
              "\n",
              "    .dataframe thead th {\n",
              "        text-align: right;\n",
              "    }\n",
              "</style>\n",
              "<table border=\"1\" class=\"dataframe\">\n",
              "  <thead>\n",
              "    <tr style=\"text-align: right;\">\n",
              "      <th></th>\n",
              "      <th>price_per_m2</th>\n",
              "    </tr>\n",
              "    <tr>\n",
              "      <th>n_floor</th>\n",
              "      <th></th>\n",
              "    </tr>\n",
              "  </thead>\n",
              "  <tbody>\n",
              "    <tr>\n",
              "      <th>10.0</th>\n",
              "      <td>13734.500000</td>\n",
              "    </tr>\n",
              "    <tr>\n",
              "      <th>9.0</th>\n",
              "      <td>12335.609756</td>\n",
              "    </tr>\n",
              "    <tr>\n",
              "      <th>14.0</th>\n",
              "      <td>12206.666667</td>\n",
              "    </tr>\n",
              "    <tr>\n",
              "      <th>13.0</th>\n",
              "      <td>12068.333333</td>\n",
              "    </tr>\n",
              "    <tr>\n",
              "      <th>12.0</th>\n",
              "      <td>11670.000000</td>\n",
              "    </tr>\n",
              "    <tr>\n",
              "      <th>11.0</th>\n",
              "      <td>11413.333333</td>\n",
              "    </tr>\n",
              "    <tr>\n",
              "      <th>4.0</th>\n",
              "      <td>11296.402740</td>\n",
              "    </tr>\n",
              "    <tr>\n",
              "      <th>3.0</th>\n",
              "      <td>11173.732181</td>\n",
              "    </tr>\n",
              "    <tr>\n",
              "      <th>5.0</th>\n",
              "      <td>11026.082609</td>\n",
              "    </tr>\n",
              "    <tr>\n",
              "      <th>8.0</th>\n",
              "      <td>10968.596491</td>\n",
              "    </tr>\n",
              "    <tr>\n",
              "      <th>2.0</th>\n",
              "      <td>10757.922713</td>\n",
              "    </tr>\n",
              "    <tr>\n",
              "      <th>7.0</th>\n",
              "      <td>10712.900000</td>\n",
              "    </tr>\n",
              "    <tr>\n",
              "      <th>6.0</th>\n",
              "      <td>10579.400000</td>\n",
              "    </tr>\n",
              "    <tr>\n",
              "      <th>1.0</th>\n",
              "      <td>10232.339713</td>\n",
              "    </tr>\n",
              "    <tr>\n",
              "      <th>0.0</th>\n",
              "      <td>9909.539514</td>\n",
              "    </tr>\n",
              "  </tbody>\n",
              "</table>\n",
              "</div>"
            ],
            "text/plain": [
              "         price_per_m2\n",
              "n_floor              \n",
              "10.0     13734.500000\n",
              "9.0      12335.609756\n",
              "14.0     12206.666667\n",
              "13.0     12068.333333\n",
              "12.0     11670.000000\n",
              "11.0     11413.333333\n",
              "4.0      11296.402740\n",
              "3.0      11173.732181\n",
              "5.0      11026.082609\n",
              "8.0      10968.596491\n",
              "2.0      10757.922713\n",
              "7.0      10712.900000\n",
              "6.0      10579.400000\n",
              "1.0      10232.339713\n",
              "0.0       9909.539514"
            ]
          },
          "metadata": {
            "tags": []
          },
          "execution_count": 69
        }
      ]
    },
    {
      "cell_type": "code",
      "metadata": {
        "colab": {
          "base_uri": "https://localhost:8080/",
          "height": 542
        },
        "id": "PhzoYaqIsUHM",
        "outputId": "ae0812d0-663a-4343-8a29-348b7f744931"
      },
      "source": [
        "# analiza ceny wg. metrażu\n",
        "import plotly.express as px\n",
        "\n",
        "px.box(gratka_df, \n",
        "       x = \"area_m2\", \n",
        "       y = \"price_per_m2\",\n",
        "       title = \"Cena 1m2 mieszkania w zależności od metrażu całego mieszkania\")"
      ],
      "execution_count": 70,
      "outputs": [
        {
          "output_type": "display_data",
          "data": {
            "text/html": [
              "<html>\n",
              "<head><meta charset=\"utf-8\" /></head>\n",
              "<body>\n",
              "    <div>\n",
              "            <script src=\"https://cdnjs.cloudflare.com/ajax/libs/mathjax/2.7.5/MathJax.js?config=TeX-AMS-MML_SVG\"></script><script type=\"text/javascript\">if (window.MathJax) {MathJax.Hub.Config({SVG: {font: \"STIX-Web\"}});}</script>\n",
              "                <script type=\"text/javascript\">window.PlotlyConfig = {MathJaxConfig: 'local'};</script>\n",
              "        <script src=\"https://cdn.plot.ly/plotly-latest.min.js\"></script>    \n",
              "            <div id=\"2868b95b-f50c-46bf-a223-1370f36cea3b\" class=\"plotly-graph-div\" style=\"height:525px; width:100%;\"></div>\n",
              "            <script type=\"text/javascript\">\n",
              "                \n",
              "                    window.PLOTLYENV=window.PLOTLYENV || {};\n",
              "                    \n",
              "                if (document.getElementById(\"2868b95b-f50c-46bf-a223-1370f36cea3b\")) {\n",
              "                    Plotly.newPlot(\n",
              "                        '2868b95b-f50c-46bf-a223-1370f36cea3b',\n",
              "                        [{\"alignmentgroup\": \"True\", \"hoverlabel\": {\"namelength\": 0}, \"hovertemplate\": \"area_m2=%{x}<br>price_per_m2=%{y}\", \"legendgroup\": \"\", \"marker\": {\"color\": \"#636efa\"}, \"name\": \"\", \"notched\": false, \"offsetgroup\": \"\", \"orientation\": \"v\", \"showlegend\": false, \"type\": \"box\", \"x\": [44.93, 42.0, 59.15, 50.56, 76.35, 53.29, 31.26, 42.0, 42.0, 32.71, 39.88, 73.15, 64.28, 56.64, 36.48, 48.83, 40.93, 73.15, 28.0, 49.02, 27.5, 34.18, 66.21, 73.94, 38.51, 73.0, 48.48, 48.64, 71.97, 84.17, 41.6, 44.6, 73.94, 43.33, 29.76, 86.82, 47.6, 28.44, 36.13, 27.92, 64.81, 62.4, 50.64, 67.52, 65.43, 58.77, 61.45, 72.93, 64.17, 91.05, 33.29, 61.64, 109.84, 31.58, 50.74, 36.13, 37.96, 32.71, 35.0, 65.0, 86.82, 36.13, 37.96, 47.6, 28.44, 36.13, 27.92, 32.4, 38.32, 87.1, 25.0, 61.38, 62.98, 64.8, 56.95, 27.84, 40.93, 29.12, 34.74, 52.35, 31.78, 44.2, 72.3, 34.74, 99.19, 46.69, 78.84, 58.78, 42.76, 68.33, 48.85, 43.0, 54.73, 40.5, 69.57, 39.07, 61.45, 41.63, 48.83, 42.21, 90.84, 58.78, 40.66, 78.41, 40.66, 64.16, 77.03, 46.69, 84.17, 70.38, 86.78, 44.21, 63.55, 38.39, 27.38, 39.52, 40.79, 34.68, 36.26, 44.65, 39.04, 42.42, 67.86, 60.06, 46.63, 48.13, 47.0, 40.0, 70.0, 46.69, 60.23, 45.14, 50.8, 34.74, 39.96, 79.91, 99.89, 75.86, 46.69, 84.17, 32.4, 48.18, 35.47, 38.32, 45.02, 70.61, 44.67, 31.93, 50.41, 58.87, 81.12, 79.97, 58.87, 50.41, 50.41, 58.87, 81.12, 55.16, 44.83, 31.45, 49.15, 57.54, 43.38, 73.46, 55.44, 56.11, 58.28, 85.0, 80.53, 70.15, 58.68, 48.96, 33.3, 47.6, 42.37, 64.0, 53.01, 38.03, 36.23, 27.5, 69.5, 46.1, 33.8, 92.31, 46.88, 46.88, 91.01, 82.81, 64.56, 82.81, 39.17, 47.02, 48.44, 82.81, 82.81, 46.1, 46.1, 68.0, 46.0, 68.0, 90.0, 67.0, 66.0, 61.0, 54.0, 109.0, 46.0, 75.0, 58.0, 64.0, 66.0, 40.0, 55.0, 34.74, 43.0, 39.03, 32.21, 57.73, 30.79, 19.65, 67.8, 83.03, 61.4, 44.2, 70.15, 44.99, 48.96, 38.17, 65.64, 36.57, 53.17, 68.24, 58.68, 47.6, 42.37, 70.15, 65.61, 41.21, 109.62, 16.5, 31.9, 58.68, 67.14, 44.99, 48.96, 51.05, 74.45, 65.46, 47.87, 57.69, 42.53, 67.14, 44.99, 51.05, 48.96, 74.45, 57.69, 65.46, 47.87, 44.18, 29.28, 44.99, 67.14, 38.17, 74.45, 51.05, 53.17, 65.46, 44.18, 57.69, 47.87, 42.53, 90.31, 79.97, 57.94, 50.67, 46.63, 73.42, 67.27, 68.57, 51.57, 43.45, 62.92, 66.17, 72.3, 27.5, 46.1, 33.8, 35.93, 65.9, 47.0, 44.88, 39.78, 44.6, 44.71, 43.81, 44.78, 44.66, 39.57, 28.72, 27.5, 37.0, 58.62, 53.2, 53.0, 61.55, 57.94, 54.14, 31.69, 45.04, 46.28, 50.32, 41.49, 44.78, 41.43, 40.11, 38.78, 58.89, 38.7, 57.94, 56.08, 86.41, 62.99, 76.64, 40.85, 33.88, 88.01, 99.52, 68.0, 104.0, 26.2, 33.0, 61.5, 38.0, 49.0, 52.0, 32.0, 63.28, 57.91, 57.8, 63.28, 48.0, 26.17, 49.35, 52.5, 27.06, 65.5, 90.0, 46.0, 82.1, 75.0, 84.34, 75.0, 65.64, 53.17, 25.16, 44.99, 51.05, 67.14, 74.45, 39.07, 48.96, 57.69, 48.8, 55.27, 38.39, 64.17, 49.34, 49.34, 43.0, 76.11, 64.17, 64.17, 61.52, 58.02, 45.81, 50.56, 67.0, 73.09, 39.0, 40.0, 31.0, 44.62, 33.0, 51.68, 39.54, 75.86, 73.15, 136.05, 78.84, 74.8, 73.09, 16.24, 38.0, 24.44, 33.29, 38.39, 41.48, 16.67, 31.44, 16.22, 74.8, 34.9, 52.57, 35.0, 81.75, 84.32, 32.56, 85.26, 78.17, 36.09, 34.79, 43.0, 73.2, 73.09, 68.09, 67.69, 63.25, 43.38, 39.75, 63.55, 40.93, 58.89, 35.82, 46.09, 62.12, 55.41, 37.67, 40.93, 58.06, 57.9, 29.79, 16.67, 17.17, 16.41, 16.48, 16.5, 26.43, 67.69, 61.0, 66.0, 39.83, 26.3, 40.49, 184.21, 114.33, 27.33, 108.08, 90.71, 98.15, 90.52, 88.84, 89.46, 99.14, 117.3, 132.97, 22.62, 101.45, 21.46, 16.4, 22.5, 15.68, 13.3, 14.21, 42.42, 60.28, 65.16, 65.32, 55.34, 15.55, 20.37, 16.5, 48.01, 49.61, 51.41, 52.48, 80.64, 35.2, 37.65, 49.35, 39.88, 37.12, 57.36, 40.13, 65.17, 40.86, 62.42, 41.32, 41.45, 34.79, 225.35, 83.43, 67.0, 49.0, 73.94, 53.5, 44.94, 53.07, 48.18, 33.0, 45.0, 62.53, 109.0, 54.0, 71.27, 51.4, 67.0, 27.06, 86.16, 35.0, 32.0, 70.56, 73.38, 29.75, 57.82, 67.95, 74.95, 120.69, 65.77, 55.48, 31.88, 73.46, 61.45, 66.11, 36.68, 86.16, 73.32, 61.58, 25.12, 40.62, 58.67, 70.83, 58.59, 57.77, 51.37, 35.51, 49.2, 32.83, 48.01, 45.08, 38.86, 36.0, 44.77, 57.36, 46.51, 40.0, 83.0, 78.0, 51.6, 46.0, 65.0, 56.0, 52.0, 32.0, 58.0, 138.83, 40.93, 53.5, 44.94, 60.13, 44.0, 82.81, 33.22, 40.62, 65.0, 25.46, 74.8, 35.25, 61.37, 34.67, 33.91, 36.68, 36.98, 40.55, 40.66, 41.32, 55.9, 68.02, 67.8, 42.54, 51.98, 41.6, 50.17, 42.81, 36.35, 42.86, 59.84, 43.64, 45.76, 45.76, 74.05, 54.96, 45.64, 48.7, 61.52, 113.01, 64.0, 16.22, 19.65, 68.33, 43.81, 48.38, 68.02, 37.4, 39.88, 34.15, 42.03, 55.0, 75.0, 30.79, 65.52, 66.0, 50.36, 84.32, 29.75, 81.59, 82.08, 76.99, 74.97, 40.0, 69.04, 87.94, 68.71, 67.92, 46.63, 67.55, 121.49, 63.31, 61.14, 28.55, 38.47, 44.0, 40.13, 49.85, 31.69, 40.97, 66.84, 58.0, 65.5, 65.5, 58.0, 58.0, 37.35, 50.0, 37.5, 66.74, 31.53, 37.3, 34.79, 85.26, 39.07, 90.84, 78.17, 85.26, 117.5, 40.7, 47.5, 100.0, 65.32, 184.21, 82.0, 67.92, 27.04, 83.43, 29.75, 55.83, 70.28, 46.3, 39.07, 34.92, 70.0, 61.0, 49.0, 37.23, 63.91, 33.3, 38.51, 80.88, 54.44, 74.0, 56.66, 66.74, 53.96, 45.76, 58.62, 39.52, 43.91, 39.9, 35.56, 33.67, 48.0, 35.68, 104.74, 50.2, 109.76, 67.95, 89.0, 32.0, 61.95, 35.34, 36.59, 36.27, 36.59, 36.27, 35.77, 36.27, 36.59, 36.27, 121.49, 28.0, 38.01, 42.21, 57.6, 71.0, 56.0, 84.0, 110.0, 71.5, 85.0, 48.89, 60.08, 32.0, 60.66, 38.0, 59.08, 55.0, 59.59, 46.0, 37.56, 68.0, 83.0, 63.31, 38.86, 49.77, 25.3, 44.08, 47.99, 44.08, 44.18, 59.0, 71.49, 50.16, 55.46, 47.32, 44.44, 58.06, 57.75, 109.62, 102.0, 37.28, 55.41, 46.98, 50.73, 54.22, 50.73, 75.53, 51.0, 36.0, 52.01, 36.55, 45.0, 27.0, 40.6, 34.15, 50.6, 50.56, 51.68, 60.1, 73.16, 104.57, 48.38, 68.33, 40.12, 49.86, 48.83, 66.84, 67.9, 41.63, 48.83, 66.84, 40.93, 67.99, 41.46, 41.63, 63.55, 57.29, 67.99, 41.6, 40.97, 48.83, 31.69, 50.16, 46.09, 49.49, 40.89, 29.12, 57.37, 63.55, 65.48, 99.19, 55.83, 62.42, 77.1, 47.33, 47.67, 41.0, 75.5, 57.0, 62.5, 44.0, 44.0, 52.71, 41.5, 63.0, 41.81, 41.41, 73.35, 63.0, 38.39, 59.0, 31.5, 39.54, 26.2, 44.3, 53.0, 39.32, 70.28, 78.17, 99.19, 39.32, 27.3, 29.69, 38.74, 39.32, 49.9, 29.69, 26.35, 38.91, 29.66, 29.69, 29.69, 27.93, 28.98, 38.74, 29.86, 24.89, 26.85, 38.47, 51.84, 62.0, 64.31, 62.89, 65.48, 55.84, 37.3, 84.17, 57.43, 46.7, 63.0, 42.03, 42.69, 42.68, 42.69, 42.68, 44.94, 44.94, 44.46, 42.68, 41.65, 42.68, 42.69, 42.69, 42.69, 44.46, 44.94, 84.0, 83.27, 87.03, 53.5, 109.82, 47.55, 34.2, 34.2, 34.2, 34.2, 63.28, 63.28, 226.14, 43.89, 36.59, 35.35, 36.17, 49.46, 49.46, 32.67, 56.31, 32.67, 48.0, 51.0, 48.0, 40.73, 53.0, 50.06, 33.5, 67.92, 48.33, 73.32, 97.67, 82.43, 85.19, 56.89, 44.77, 34.58, 16.22, 65.41, 37.67, 57.83, 27.21, 57.64, 47.58, 67.95, 64.52, 43.74, 68.17, 49.88, 35.34, 36.27, 55.39, 65.3, 108.82, 57.67, 38.39, 47.01, 83.5, 66.18, 20.13, 15.95, 37.67, 32.96, 61.77, 35.0, 27.0, 26.84, 39.0, 33.31, 29.33, 37.24, 36.26, 35.83, 109.62, 65.32, 65.16, 73.38, 47.31, 118.2, 71.2, 79.01, 135.42, 184.21, 43.05, 27.06, 53.53, 35.92, 48.64, 51.33, 49.0, 38.22, 39.54, 57.76, 52.5, 69.64, 52.14, 57.11, 44.08, 65.94, 15.99, 15.69, 188.81, 184.88, 59.09, 55.84, 60.26, 65.43, 63.18, 65.48, 62.42, 57.43, 64.89, 58.93, 18.7, 62.5, 56.28, 72.3, 67.99, 41.6, 63.55, 66.84, 40.8, 58.58, 33.91, 29.75, 84.32, 32.0, 34.74, 72.3, 40.96, 57.99, 57.75, 38.32, 37.9, 50.0, 96.6, 96.6, 96.6, 96.6, 96.6, 97.3, 96.6, 96.6, 55.8, 55.8, 55.8, 55.8, 55.8, 55.8, 55.8, 55.8, 66.74, 97.3, 56.6, 73.0, 28.85, 53.4, 53.4, 66.51, 32.67, 45.29, 88.17, 46.63, 47.67, 44.91, 46.35, 75.1, 48.33, 73.42, 34.97, 27.47, 27.62, 26.99, 26.43, 77.1, 70.28, 51.9, 73.35, 59.09, 74.97, 36.98, 46.63, 40.55, 54.81, 94.19, 37.27, 160.88, 49.3, 38.39, 57.29, 51.45, 60.1, 47.98, 41.18, 80.88, 55.27, 48.98, 65.16, 82.28, 73.41, 59.49, 67.99, 67.99, 27.55, 40.78, 39.07, 40.78, 45.87, 42.86, 46.27, 51.45, 46.27, 51.45, 51.45, 66.74, 80.88, 66.74, 80.88, 38.51, 56.66, 39.4, 38.51, 56.66, 58.77, 73.94, 73.99, 73.94, 36.7, 39.01, 39.29, 40.88, 42.47, 41.78, 45.49, 49.03, 46.55, 54.41, 59.94, 65.21, 64.05, 76.62, 85.91, 94.19, 36.72, 43.64, 40.79, 43.64, 45.49, 45.76, 56.89, 45.76, 46.55, 57.05, 57.6, 58.42, 58.62, 58.61, 44.63, 64.43, 42.0, 43.32, 42.7, 61.79, 65.19, 58.09, 55.43, 58.05, 41.82, 42.7, 42.7, 72.1, 51.05, 57.69, 63.88, 57.69, 67.14, 71.53, 71.53, 71.81, 74.45, 87.7, 43.0, 64.17, 16.67, 44.39, 36.52, 36.52, 49.0, 36.69, 65.18, 160.88, 75.86, 39.96, 40.99, 44.99, 74.3, 57.43, 41.12, 40.73, 82.35, 33.88, 79.31, 58.05, 47.01, 67.86, 66.54, 52.0, 53.2, 44.39, 43.9, 48.13, 35.43, 48.13, 43.9, 57.43, 60.82, 47.09, 57.1, 82.08, 72.3, 75.3, 69.64, 69.84, 75.3, 67.84, 48.31, 46.88, 53.96, 53.58, 75.2, 52.4, 61.86, 55.07, 38.66, 38.89, 50.09, 50.64, 39.61, 34.5, 68.33, 51.0, 66.5, 38.67, 25.68, 33.26, 28.02, 28.92, 29.69, 52.48, 29.16, 29.69, 52.34, 51.28, 52.42, 25.59, 39.6, 27.29, 50.64, 26.35, 33.3, 42.68, 33.24, 27.29, 49.44, 57.88, 51.41, 38.74, 33.3, 33.24, 33.44, 33.22, 52.48, 42.69, 27.29, 46.63, 50.0, 90.84, 99.19, 56.9, 70.0, 71.81, 71.53, 43.78, 48.5, 28.0, 35.0, 27.5, 26.36, 25.01, 26.39, 25.3, 25.98, 27.92, 29.5, 29.5, 76.99, 48.85, 81.06, 81.06, 81.06, 81.06, 81.06, 81.06, 81.06, 50.06, 48.33, 48.31, 67.96, 73.35, 50.13, 68.31, 68.06, 68.07, 57.43, 88.73, 61.14, 35.35, 35.73, 36.59, 36.59, 36.21, 35.34, 45.61, 57.81, 109.63, 35.68, 104.74, 34.67, 121.49, 59.1, 36.19, 74.68, 75.23, 70.28, 46.93, 76.31, 76.37, 57.54, 76.37, 90.92, 34.67, 97.02, 52.45, 58.78, 75.74, 61.11, 75.86, 54.01, 68.33, 68.31, 48.13, 64.84, 64.89, 58.93, 64.89, 64.89, 58.93, 44.08, 13.3, 16.4, 126.2, 126.69, 52.74, 134.73, 184.21, 57.84, 82.95, 80.58, 84.17, 49.41, 58.04, 68.09, 39.78, 44.13, 65.69, 13.3, 22.62, 21.46, 48.85, 68.17, 65.73, 99.52, 67.89, 132.09, 63.5, 38.92, 52.3, 51.12, 50.9, 88.0, 120.0, 115.0, 85.0, 56.66, 54.45, 56.93, 54.0, 75.53, 29.0, 25.53, 160.88, 44.91, 35.73, 41.45, 75.53, 54.22, 50.73, 91.9, 99.19, 67.52, 67.89, 73.25, 50.7, 66.84, 50.16, 29.12, 84.17, 73.0, 73.94, 55.83, 70.28, 60.26, 47.67, 46.98, 55.41, 54.23, 39.07, 35.43, 58.93, 25.01, 44.91, 126.2, 34.92, 37.3, 38.86, 43.89, 73.16, 58.0, 51.32, 73.99, 38.51, 64.56, 64.89, 48.33, 41.6, 52.25, 67.82, 64.56, 67.82, 64.56, 67.82, 39.75, 50.55, 68.71, 55.99, 64.89, 75.0, 35.43, 52.0, 35.9, 35.92, 34.49, 44.62, 44.21, 75.86, 46.69, 48.9, 49.3, 52.0, 55.1, 39.54, 53.33, 57.76, 57.76, 66.54, 59.09, 59.08, 59.09, 59.09, 68.01, 63.28, 78.26, 45.79, 39.18, 41.5, 41.32, 81.75, 73.0, 36.68, 36.68, 41.32, 48.0, 28.44, 66.0, 36.27, 65.77, 74.0, 73.94, 88.63, 50.74, 59.09, 59.09, 65.45, 59.09, 49.79, 50.74, 55.09, 67.9, 42.62, 96.46, 47.38, 62.0, 61.5, 25.0, 65.26, 60.82, 59.1, 65.97, 37.0, 51.27, 68.0, 67.91, 67.85, 45.9, 68.33, 41.32, 58.0, 86.7, 98.61, 118.93, 114.87, 119.21, 115.11, 119.69, 115.27, 85.37, 30.91, 87.9, 62.4, 87.7, 160.88, 44.21, 84.17, 45.32, 44.72, 47.09, 57.76, 59.08, 63.55, 66.84, 34.08, 40.79, 50.64, 48.33, 67.86, 41.5, 146.09, 117.51, 26.91, 53.12, 74.8, 84.32, 50.34, 43.0, 43.0, 57.81, 44.82, 34.74, 39.6, 91.76, 42.17, 125.96, 36.18, 51.0, 53.19, 37.5, 50.0, 49.61, 26.55, 55.0, 37.5, 58.79, 50.0, 57.0, 48.01, 55.9, 39.0, 41.32, 62.64, 58.0, 48.33, 57.76, 73.25, 59.2, 65.45, 67.78, 49.78, 67.96, 68.01, 59.09, 66.54, 51.0, 67.8, 50.06, 73.32, 68.06, 67.89, 41.0, 39.75, 75.0, 75.0, 58.0, 63.31, 61.14, 52.96, 27.5, 36.0, 42.0, 48.0, 43.44, 36.18, 36.21, 77.0, 48.57, 135.52, 85.0, 33.3, 66.84, 63.55, 59.2, 45.14, 43.9, 64.89, 53.84, 35.43, 47.0, 72.93, 67.89, 50.0, 52.15, 52.25, 51.41, 51.41, 43.9, 61.0, 67.53, 59.09, 68.07, 40.3, 45.14, 78.73, 116.0, 46.35, 116.5, 54.75, 84.32, 75.23, 60.82, 88.73, 57.81, 59.09, 32.56, 81.59, 38.86, 79.13, 52.2, 48.96, 51.63, 49.03, 46.54, 44.26, 57.1, 44.26, 38.86, 46.69, 57.52, 70.78, 57.81, 44.26, 125.62, 49.9, 46.69, 54.0, 84.17, 87.8, 161.0, 35.5, 65.32, 110.0, 58.0, 47.4, 86.2, 33.0, 72.3, 74.42, 54.36, 100.22, 63.49, 38.92, 44.99, 53.17, 82.49, 91.01, 48.18, 53.58, 74.9, 64.11, 82.31, 64.11, 91.45, 53.41, 51.05, 99.52, 48.96, 65.64, 53.17, 67.14, 66.54, 61.03, 36.68, 40.73, 40.73, 54.81, 51.01, 53.33, 54.81, 58.0, 59.08, 59.09, 66.12, 57.69, 61.08, 49.34, 44.99, 57.69, 48.8, 40.96, 70.07, 40.99, 39.18, 63.55, 67.55, 57.37, 34.49, 33.28, 40.93, 67.99, 40.89, 39.07, 34.73, 34.53, 61.11, 99.84, 40.97, 48.83, 66.23, 50.16, 66.84, 46.04, 31.69, 57.99, 35.0, 46.27, 40.78, 42.21, 50.16, 45.87, 51.45, 109.62, 29.5, 44.21, 28.0, 62.0, 32.0, 46.5, 61.78, 47.32, 57.02, 61.01, 35.35, 68.64, 59.09, 46.54, 35.34, 63.0, 70.68, 70.25, 67.22, 100.09, 57.75, 108.95, 65.32, 64.81, 57.84, 104.26, 78.84, 74.31, 63.55, 54.75, 45.0, 68.0, 50.9, 48.01, 40.59, 37.27, 34.74, 71.73, 54.0, 31.69, 64.0, 40.89, 31.45, 30.95, 33.53, 31.52, 83.0, 25.03, 34.08, 28.06, 47.82, 28.06, 31.08, 35.72, 46.69, 46.69, 156.95, 16.4, 16.24, 21.46, 15.84, 22.62, 22.5, 16.04, 13.44, 13.44, 15.76, 16.18, 16.28, 16.14, 14.21, 16.01, 15.5, 15.68, 16.04, 16.23, 15.76, 13.44, 13.44, 16.13, 16.4, 16.24, 21.46, 15.84, 22.62, 22.5, 16.04, 13.44, 13.44, 15.76, 16.18, 16.28, 16.14, 14.21, 16.01, 15.5, 15.68, 16.04, 16.23, 15.76, 13.44, 13.44, 16.13, 16.4, 16.24, 21.46, 15.84, 22.62, 22.5, 16.04, 13.44, 13.44, 15.76, 16.18, 16.28, 16.14, 14.21, 16.01, 15.5, 15.68, 16.04, 16.23, 15.76, 13.44, 13.44, 16.13, 16.4, 16.24, 21.46, 15.84, 22.62, 22.5, 16.04, 13.44, 13.44, 15.76, 16.18, 16.28, 16.14, 14.21, 16.01, 15.5, 15.68, 16.04, 16.23, 15.76, 13.44, 13.44, 16.13, 15.78, 63.31, 34.85, 36.35, 50.17, 36.35, 42.39, 51.47, 117.51, 47.4, 61.8, 58.0, 110.0, 65.32, 70.38, 42.85, 160.88, 40.95, 35.43, 33.98, 43.9, 34.74, 15.63, 21.06, 15.27, 22.0, 21.71, 15.61, 13.3, 13.3, 15.34, 15.72, 15.83, 15.99, 13.92, 15.71, 15.2, 15.38, 15.74, 15.84, 15.34, 13.3, 13.3, 15.69, 15.78, 15.63, 15.25, 15.27, 15.9, 15.51, 13.3, 13.3, 15.34, 15.72, 15.83, 15.99, 13.92, 15.71, 15.2, 15.38, 15.74, 15.84, 15.34, 13.3, 13.3, 15.69, 49.9, 41.0, 30.51, 41.14, 34.08, 46.54, 47.39, 65.16, 125.46, 43.0, 57.91, 57.8, 66.01, 62.0, 45.14, 45.14, 36.81, 75.84, 46.2, 68.66, 84.17, 45.32, 40.93, 35.73, 75.86, 35.35, 43.9, 25.73, 51.17, 64.89, 39.04, 74.37, 49.02, 73.35, 67.8, 48.33, 75.2, 63.55, 53.96, 43.83, 35.56, 57.5, 48.0, 46.67, 35.5, 66.0, 61.0, 28.06, 40.0, 42.4, 51.32, 52.01, 48.64, 61.89, 40.79, 33.98, 40.86, 30.51, 34.53, 36.07, 94.19, 54.26, 48.01, 49.0, 41.02, 62.53, 31.69, 66.84, 40.97, 63.55, 110.0, 36.0, 58.0, 50.64, 25.98, 82.28, 79.31, 65.18, 55.59, 50.0, 45.5, 65.0, 47.0, 46.39, 56.4, 50.17, 48.09, 57.5, 104.14, 65.5, 34.46, 35.92, 81.75, 34.63, 55.09, 48.5, 49.3, 80.88, 47.13, 47.76, 48.62, 36.43, 81.82, 52.25, 52.25, 43.9, 51.17, 44.6, 37.0, 37.0, 52.0, 52.0, 60.0, 75.0, 74.0, 62.28, 55.23, 43.0, 148.2, 26.0, 28.0, 26.0, 30.24, 74.8, 84.17, 99.89, 46.6, 47.04, 79.0, 65.0, 42.67, 33.31, 62.0, 120.0, 53.0, 33.91, 74.9, 44.5, 65.73, 35.0, 46.59, 61.27, 110.0, 32.77, 54.22, 34.46, 50.34, 38.66, 33.77, 33.67, 33.04, 86.89, 50.59, 33.91, 75.93, 104.57, 46.27, 73.16, 66.74, 60.82, 88.73, 36.0, 60.22, 35.59, 34.73, 51.41, 36.26, 39.57, 41.6, 59.09, 55.2, 67.15, 45.76, 57.05, 58.15, 33.91, 54.75, 49.73, 34.46, 39.31, 33.83, 33.04, 27.67, 79.01, 74.8, 27.67, 79.02, 37.33, 38.97, 81.59, 61.11, 34.73, 51.33, 74.8, 49.09, 39.31, 54.75, 50.14, 49.73, 33.6, 38.55, 49.09, 35.51, 50.14, 40.93, 87.7, 27.67, 35.27, 50.14, 34.46, 33.83, 35.68, 31.27, 104.57, 13.44, 15.34, 39.2, 49.42, 50.14, 36.14, 25.25, 29.75, 42.19, 42.25, 41.46, 53.21, 41.63, 226.14, 50.59, 43.98, 63.25, 82.5, 66.5, 66.5, 59.5, 61.0, 41.5, 36.35, 42.81, 58.7, 48.09, 114.65, 61.11, 31.37, 51.32, 66.84, 41.63, 55.24, 62.97, 51.3, 83.1, 44.2, 73.35, 36.26, 32.0, 160.0, 72.1, 84.0, 62.4, 41.0, 57.0, 46.0, 67.0, 57.0, 40.85, 79.0, 66.0, 65.0, 76.99, 65.6, 65.28, 22.62, 16.28, 50.63, 56.05, 65.24, 50.63, 86.08, 45.0, 66.0, 44.37, 44.37, 45.32, 58.0, 126.7, 45.5, 45.5, 104.0, 47.0, 90.0, 68.0, 104.0, 86.0, 65.5, 58.0, 51.38, 48.91, 51.17, 53.0, 55.9, 43.74, 35.65, 46.15, 67.8, 63.0, 35.5, 57.74, 41.12, 49.0, 66.13, 30.0, 68.17, 74.95, 70.0, 63.28, 38.63, 50.82, 52.02, 52.25, 52.42, 68.4, 34.7, 31.44, 48.34, 186.7, 57.81, 87.7, 230.0, 230.0, 226.14, 230.0, 32.0, 48.31, 46.5, 104.74, 27.85, 51.98, 33.5, 53.34, 93.0, 176.0, 42.0, 42.0, 35.53, 35.43, 29.75, 32.0, 40.12, 27.44, 50.68, 59.07, 74.8, 83.43, 146.09, 81.75, 39.32, 160.88, 87.7, 64.73, 55.48, 104.33, 36.19, 35.35, 57.64, 27.9, 50.59, 35.92, 75.0, 41.12, 38.86, 63.0, 78.0, 132.0, 44.21, 53.0, 34.0, 46.0, 62.0, 94.0, 28.0, 35.51, 87.7, 43.89, 36.0, 46.0, 35.34, 38.86, 34.67, 47.06, 40.54, 57.03, 55.34, 40.48, 40.46, 55.68, 66.03, 75.1, 72.4, 170.0, 44.5, 62.96, 43.13, 29.14, 60.65, 53.31, 53.16, 44.97, 43.89, 35.34, 27.9, 43.89, 35.34, 27.9, 160.88, 42.18, 35.43, 58.76, 34.68, 36.59, 38.86, 69.0, 61.14, 66.0, 37.0, 28.3, 66.0, 125.46, 174.77, 125.46, 57.77, 44.77, 35.88, 66.81, 30.79, 81.69, 49.41, 58.05, 95.36, 73.15, 76.33, 55.52, 30.63, 57.77, 44.77, 35.88, 66.81, 30.79, 81.69, 49.41, 58.05, 95.36, 73.15, 76.33, 55.52, 30.63, 74.43, 28.24, 42.54, 76.77, 39.17, 68.08, 91.45, 36.02, 103.05, 87.94, 40.26, 43.98, 52.8, 34.67, 60.66, 86.24, 55.06, 43.17, 56.59, 66.0, 125.46, 174.77, 125.46, 57.77, 44.77, 35.88, 66.81, 30.79, 81.69, 49.41, 58.05, 95.36, 73.15, 76.33, 55.52, 30.63, 74.43, 28.24, 42.54, 76.77, 39.17, 68.08, 91.45, 36.02, 103.05, 87.94, 40.26, 43.98, 52.8, 34.67, 60.66, 86.24, 55.06, 43.17, 56.59, 28.53, 56.73, 33.0, 33.0, 38.86, 65.38, 44.88, 51.41, 177.59, 28.75, 42.47, 75.04, 64.56, 39.17, 82.81, 48.44, 60.13, 47.02, 27.86, 64.11, 129.51, 27.72, 70.19, 61.29, 148.24, 57.54, 66.45, 36.0, 82.11, 36.0, 55.0, 36.58, 36.58, 105.73, 50.59, 46.88, 51.01, 43.66, 92.31, 126.7, 82.68, 82.32, 86.98, 108.9, 80.39, 75.2, 53.96, 51.16, 132.09, 47.02, 83.79, 146.69, 67.89, 97.59, 26.28, 53.41, 76.94, 52.09, 61.09, 64.16, 79.97, 49.15, 64.28, 63.8, 71.2, 61.95, 60.28, 71.68, 44.99, 64.6, 35.2, 56.28, 22.52, 22.56, 24.01, 20.97, 43.79, 73.15, 63.8, 32.87, 47.88, 53.2, 51.23, 51.08, 51.57, 48.61, 62.18, 81.4, 59.09, 40.73, 36.98, 67.53, 58.89, 82.44, 57.5, 41.0, 65.0, 67.3, 88.73, 50.5, 52.0, 84.36, 63.28, 49.46, 32.67, 32.67, 36.45, 35.56, 50.64, 29.0, 49.22, 55.41, 54.22, 50.73, 74.83, 66.81, 44.5, 35.5, 39.0, 63.28, 32.67, 36.91, 76.38, 58.0, 35.43, 49.34, 34.5, 67.0, 61.86, 61.0, 76.38, 63.28, 38.86, 32.0, 36.15, 33.0, 46.96, 55.83, 36.98, 49.85, 34.67, 65.94, 63.88, 39.52, 80.14, 54.55, 25.0, 26.0, 26.0, 26.0, 26.0, 52.0, 29.0, 30.0, 28.0, 25.0, 25.27, 53.12, 121.35, 37.85, 42.3, 37.9, 40.97, 55.23, 62.28, 44.37, 82.35, 35.5, 44.1, 44.0, 88.0, 65.0, 49.89, 61.89, 83.5, 33.17, 42.67, 82.28, 39.27, 37.05, 47.04, 35.35, 76.75, 62.63, 37.0, 87.49, 44.19, 39.11, 65.66, 42.86, 43.14, 73.42, 67.97, 53.33, 66.54, 62.64, 59.08, 55.9, 49.78, 50.77, 45.9, 40.73, 40.66, 40.55, 36.68, 48.31, 50.13, 68.33, 48.85, 38.58, 43.78, 48.85, 126.69, 46.67, 62.28, 55.23, 81.59, 51.17, 24.89, 41.66, 51.79, 61.45, 37.77, 74.37, 61.4, 107.0, 44.37, 61.0, 43.8, 84.58, 87.7, 160.88, 43.72, 36.14, 143.71, 70.83, 139.4, 65.0, 83.79, 87.49, 82.49, 64.11, 75.2, 53.96, 60.13, 46.88, 43.83, 39.17, 143.71, 35.73, 69.37, 120.31, 65.38, 45.51, 29.31, 35.5, 44.35, 50.74, 41.6, 86.24, 91.51, 75.04, 77.57, 82.32, 71.68, 62.12, 50.59, 36.17, 33.91, 40.99, 81.06, 74.37, 70.19, 64.1, 57.77, 52.25, 35.88, 92.05, 45.7, 51.1, 33.18, 58.76, 41.05, 71.5, 66.5, 60.0, 51.0, 63.5, 44.0, 48.5, 35.0, 41.5, 29.0, 33.03, 25.3, 32.79, 45.06, 28.32, 25.36, 63.0, 49.9, 53.33, 40.55, 36.68, 29.14, 225.35, 58.5, 39.31, 32.61, 56.64, 40.71, 63.48, 50.01, 62.81, 66.0, 126.69, 51.25, 33.82, 92.0, 123.0, 51.8, 163.89, 78.02, 96.96, 125.62, 108.0, 65.0, 70.0, 75.3, 28.36, 54.36, 34.73, 57.81, 62.66, 46.54, 88.73, 84.17, 44.26, 35.35, 82.59, 42.44, 50.64, 24.89, 50.8, 74.31, 33.28, 46.93, 125.46, 48.18, 59.09, 67.52, 35.41, 27.34, 125.46, 30.25, 59.82, 63.71, 45.5, 100.0, 175.0, 52.2, 52.2, 76.48, 74.98, 70.03, 57.13, 50.06, 54.31, 44.51, 34.5, 82.52, 71.27, 60.87, 67.63, 55.43, 50.2, 44.6, 65.32, 57.84, 94.96, 64.0, 31.12, 112.04, 65.62, 66.04, 65.69, 94.9, 95.88, 49.5, 104.77, 64.89, 48.13, 43.9, 84.17, 60.82, 44.25, 44.26, 57.52, 74.95, 46.63, 54.0, 46.0, 28.0, 25.0, 34.0, 26.0, 102.0, 103.0, 126.0, 49.0, 126.74, 60.54, 68.08, 30.63, 74.43, 112.0, 107.0, 108.0, 147.0, 125.46, 70.84, 65.6, 82.44, 45.92, 77.22, 82.44, 65.1, 75.26, 174.77, 184.88, 112.0, 115.0, 115.0, 115.0, 37.85, 117.5, 38.53, 70.0, 140.0, 77.16, 50.94, 64.28, 60.18, 64.28, 62.5, 58.31, 58.31, 60.14, 63.8, 64.28, 42.41, 58.31, 25.48, 48.57, 61.95, 61.14, 63.23, 16.5, 16.22, 16.04, 17.44, 15.55, 35.0, 38.92, 47.6, 44.83, 70.15, 42.37, 58.04, 50.63, 66.12, 38.86, 46.65, 45.56, 44.6, 43.81, 38.79, 44.5, 40.01, 68.01, 51.08, 51.41, 48.06, 45.0, 40.59, 27.29, 37.16, 33.24, 25.03, 58.68, 58.68, 56.93, 56.93, 47.38, 44.6, 42.06, 32.78, 37.67, 40.13, 70.61, 58.87, 52.45, 42.0, 38.28, 37.32, 71.44, 44.67, 60.66, 62.84, 59.09, 61.03, 26.18, 29.79, 17.17, 20.01, 28.24, 45.93, 45.12, 50.09, 51.41, 51.23, 37.7, 71.92, 43.78, 96.25, 51.01, 42.39, 51.54, 47.54, 85.19, 68.46, 52.78, 39.6, 37.33, 36.86, 35.73, 97.02, 75.04, 56.28, 113.45, 66.0, 80.68, 81.91, 75.55, 63.31, 51.08, 48.01, 41.65, 44.46, 38.91, 34.96, 40.55, 29.16, 33.24, 28.98, 27.29, 25.5, 24.89, 29.69, 58.79, 61.45, 53.11, 49.41, 126.2, 138.12, 217.42, 53.27, 98.89, 109.63, 79.63, 60.55, 65.36, 48.9, 57.89, 43.86, 34.53, 69.15, 50.8, 38.97, 51.0, 33.28, 66.5, 35.0, 41.5, 28.0, 61.03, 50.64, 40.66, 36.98, 61.45, 51.6, 33.22, 42.04, 24.89, 52.37, 35.49, 22.5, 61.89, 13.3, 15.69, 42.41, 48.57, 60.25, 73.28, 62.4, 86.2, 63.28, 37.67, 31.44, 20.37, 17.17, 20.01, 16.67, 16.5, 17.17, 16.41, 16.41, 16.2, 16.22, 14.47, 57.91, 58.31, 63.8, 62.49, 62.89, 64.28, 63.8, 73.15, 60.18, 62.5, 63.28, 42.19, 57.91, 47.64, 18.6, 30.0, 41.0, 127.05, 35.29, 54.03, 33.65, 30.0, 34.6, 29.0, 94.77, 94.77, 45.0, 40.41, 48.18, 29.69, 56.2, 92.93, 75.55, 47.31, 50.1, 82.52, 70.61, 64.04, 55.03, 74.45, 39.47, 49.34, 61.82, 51.91, 80.88, 73.16, 51.45, 60.1, 40.78, 146.09, 51.33, 81.75, 75.2, 27.67, 53.33, 64.56, 39.17, 43.83, 81.06, 70.28, 32.77, 57.77, 56.89, 71.68, 97.02, 86.24, 58.05, 50.59, 33.91, 63.36, 56.28, 56.98, 43.64, 29.76, 38.97, 70.71, 55.99, 65.2, 40.47, 48.82, 36.17, 72.19, 40.5, 40.5, 35.6, 35.47, 80.67, 104.09, 45.8, 64.89, 48.13, 47.88, 45.14, 44.08, 43.9, 75.76, 115.5, 39.96, 88.73, 84.17, 30.7, 70.47, 70.7, 90.7, 68.21, 69.57, 70.7, 66.31, 60.49, 62.16, 54.73, 54.73, 66.12, 66.54, 65.45, 62.64, 62.4, 61.03, 57.76, 50.63, 59.08, 48.18, 49.78, 59.08, 67.89, 52.14, 52.37, 51.37, 39.54, 38.22, 50.98, 37.24, 35.83, 36.26, 146.09, 81.75, 49.63, 40.12, 32.0, 32.0, 27.67, 76.2, 30.46, 72.15, 67.55, 61.11, 50.8, 40.06, 34.73, 57.92, 62.84, 55.87, 92.93, 54.0, 126.74, 92.93, 32.73, 34.71, 32.6, 31.03, 34.85, 25.74, 70.7, 32.73, 34.85, 31.03, 69.04, 77.0, 94.0, 156.0, 61.0, 58.0, 58.0, 52.0, 91.0, 57.0, 50.0, 41.0, 70.84, 69.6, 92.0, 67.89, 99.52, 52.46, 34.96, 37.16, 28.55, 96.25, 72.86, 96.25, 71.81, 96.25, 68.15, 71.81, 43.9, 55.75, 61.76, 49.23, 54.6, 34.75, 34.75, 33.18, 41.56, 41.1, 61.9, 32.63, 55.94, 49.39, 54.84, 34.92, 34.86, 33.32, 41.71, 31.35, 41.13, 56.05, 49.52, 61.62, 35.03, 54.88, 34.96, 33.42, 41.83, 31.46, 54.0, 106.0, 96.0, 94.0, 41.0, 177.59, 38.39, 56.09, 59.66, 69.24, 183.93, 109.49, 98.93, 109.0, 79.63, 104.32, 79.64, 57.83, 57.83, 57.83, 66.01, 36.6, 35.68, 49.85, 61.06, 61.06, 49.15, 51.08, 49.15, 34.74, 38.53, 40.61, 26.07, 33.17, 50.76, 42.18, 34.85, 25.29, 32.55, 67.0, 29.57, 29.33, 54.75, 38.55, 33.83, 71.53, 71.81, 43.78, 147.0, 74.7, 74.44, 29.16, 25.0, 176.0, 72.55, 43.4, 58.76, 43.26, 41.05, 63.66, 46.08, 42.28, 92.03, 88.36, 33.18, 32.79, 58.81, 59.69, 52.45, 38.59, 59.69, 61.79, 69.09, 43.32, 38.29, 40.2, 58.76, 58.05, 53.35, 53.35, 42.23, 52.94, 58.05, 56.11, 66.52, 60.27, 71.79, 45.64, 62.15, 42.42, 69.24, 42.7, 38.28, 41.82, 74.32, 58.09, 57.44, 53.89, 61.63, 37.48, 59.7, 43.38, 52.45, 65.61, 66.94, 38.59, 72.12, 71.94, 59.69, 41.21, 42.72, 61.79, 42.42, 70.62, 74.36, 56.57, 43.32, 56.0, 74.44, 40.13, 39.22, 53.39, 65.26, 56.11, 60.28, 55.58, 45.64, 58.83, 63.54, 62.14, 58.05, 73.94, 70.77, 53.34, 42.23, 58.05, 58.28, 58.28, 61.79, 65.61, 65.19, 71.79, 74.05, 41.21, 54.65, 42.42, 54.96, 58.61, 41.82, 42.0, 41.82, 41.82, 41.66, 62.15, 39.22, 71.94, 65.61, 42.72, 59.66, 75.76, 42.42, 56.09, 42.22, 67.07, 63.05, 62.59, 63.77], \"x0\": \" \", \"xaxis\": \"x\", \"y\": [10700, 7024, 9400, 10300, 9700, 9200, 10850, 7024, 7024, 10670, 13014, 9000, 9400, 13000, 14000, 10200, 10200, 10239, 14200, 8548, 11600, 11966, 8537, 10320, 11020, 9575, 9440, 7750, 15200, 8899, 10200, 13901, 10320, 23620, 20120, 23620, 20000, 20620, 23620, 20120, 8000, 7700, 8500, 7433, 7702, 8000, 8000, 7422, 8950, 5437, 26620, 8000, 7800, 20120, 8500, 23620, 21620, 10058, 10343, 10901, 23620, 23620, 21620, 20000, 20620, 23620, 20120, 12809, 12761, 12100, 11051, 7450, 7399, 7407, 7954, 10800, 10200, 10750, 12925, 7851, 10151, 8394, 9668, 12925, 10072, 8760, 10134, 11245, 10524, 7800, 8300, 6802, 8728, 8765, 8350, 10724, 5793, 10200, 10200, 10790, 10997, 6295, 6997, 5497, 6997, 5845, 5543, 10259, 9493, 7957, 7300, 9450, 9900, 9550, 8766, 8477, 8300, 11505, 8100, 11624, 11501, 10229, 7800, 8000, 9800, 14108, 14532, 12625, 9190, 8546, 8617, 11054, 10807, 12637, 12487, 10312, 9601, 9742, 8546, 8911, 12809, 9024, 9727, 12761, 10400, 8950, 9750, 10400, 9700, 9250, 8550, 8900, 10555, 9650, 9650, 9100, 8350, 8600, 9500, 10000, 9600, 8800, 10677, 7887, 8813, 10723, 10045, 5100, 7900, 9200, 9650, 7750, 11350, 10450, 15066, 7563, 7593, 8151, 8004, 9080, 14364, 14310, 15984, 8300, 9800, 9200, 9200, 8600, 8700, 8500, 10400, 9200, 10600, 8500, 8500, 9792, 9588, 7801, 12939, 7801, 14222, 12147, 11402, 10500, 12239, 8400, 10848, 12286, 9148, 11234, 9823, 10427, 12694, 12090, 6802, 10735, 12419, 10913, 15990, 16298, 11018, 7407, 7401, 9000, 9100, 9500, 9500, 9700, 9500, 9900, 9600, 9500, 9450, 10100, 10250, 8950, 10358, 10838, 8342, 17835, 17220, 9250, 9300, 9400, 9400, 9400, 9200, 9326, 9400, 9400, 9400, 9200, 9300, 9300, 9300, 9100, 9300, 9225, 9400, 9400, 18500, 9200, 9100, 11801, 9000, 9200, 9200, 9125, 9200, 9200, 9200, 9200, 8900, 8900, 6196, 8960, 9800, 7400, 9500, 9100, 13500, 8749, 7699, 5796, 10360, 11964, 14094, 14742, 11300, 12124, 8305, 9336, 9703, 9552, 9550, 9769, 9670, 9897, 9730, 12152, 11000, 7931, 9297, 8837, 7671, 9800, 9800, 10100, 10250, 9900, 10800, 10100, 10000, 10300, 9500, 10000, 10300, 14202, 9948, 6196, 8024, 7600, 5993, 5193, 6989, 10900, 11900, 9100, 6941, 7252, 14084, 15914, 7333, 7368, 7245, 7269, 10094, 10800, 8844, 8838, 11000, 10376, 14100, 9321, 9524, 9054, 8901, 14222, 12939, 8392, 8907, 13500, 8893, 9000, 9100, 9600, 9100, 9100, 9000, 8900, 9000, 9100, 9100, 9200, 9000, 9600, 9000, 9400, 9300, 9400, 8600, 8600, 8800, 8350, 8450, 10000, 7700, 12147, 7302, 8795, 8921, 10806, 9800, 13016, 7700, 17172, 9346, 10239, 5250, 9881, 12000, 7400, 11634, 8100, 13584, 11084, 10914, 10583, 16605, 16605, 18450, 12000, 15387, 14499, 11400, 12500, 12000, 13300, 9430, 9582, 10700, 10894, 10465, 7564, 7400, 7397, 9529, 9695, 10369, 10700, 9900, 10200, 14472, 15012, 10200, 12500, 11800, 14760, 10200, 9452, 8832, 17220, 17220, 16605, 17835, 18450, 17835, 9150, 9529, 10500, 11402, 12679, 10875, 9089, 6299, 6500, 8900, 6500, 7100, 6900, 7100, 7100, 7100, 6770, 6500, 6100, 12572, 6900, 11759, 11524, 11262, 12288, 12980, 12955, 10433, 10107, 8367, 8367, 9297, 19065, 16605, 18450, 9900, 9825, 9700, 9625, 7440, 9659, 9960, 9400, 10055, 10048, 11663, 10786, 10000, 13191, 9596, 11500, 10350, 10894, 25000, 11800, 6269, 7714, 10320, 8785, 9524, 7700, 10772, 9273, 8111, 10635, 8400, 12239, 7902, 7617, 9800, 9150, 8626, 12700, 13500, 7902, 8057, 14000, 9149, 8212, 8900, 14900, 8342, 8984, 15000, 8208, 10991, 8522, 9500, 7950, 7400, 9800, 10350, 14500, 9600, 9844, 9750, 12100, 7650, 10743, 9825, 14496, 9477, 9800, 9850, 9444, 12100, 12012, 10500, 6975, 5530, 5513, 9126, 10848, 5800, 6223, 6346, 7875, 9148, 14168, 10200, 8785, 9524, 9600, 9396, 8600, 10837, 14734, 10538, 11725, 12000, 14000, 10437, 14000, 14000, 9500, 9500, 9300, 9300, 9300, 8400, 7400, 7400, 15300, 8638, 10200, 9900, 10050, 10000, 11106, 9525, 10700, 10600, 10400, 9198, 10057, 10623, 7721, 8800, 15000, 11234, 17528, 16298, 7800, 9518, 10728, 7400, 9650, 9650, 11154, 9517, 12694, 12286, 15200, 16250, 9823, 12900, 12000, 13300, 12300, 8400, 8900, 8400, 10427, 13434, 8600, 9000, 8900, 9800, 9500, 14900, 9800, 10304, 13900, 9450, 9545, 10575, 9950, 10500, 10200, 9700, 8810, 8183, 8183, 9121, 8810, 7805, 9638, 10424, 8100, 10435, 10965, 11469, 9371, 10468, 10997, 9582, 9606, 12000, 7862, 9263, 9056, 8367, 6299, 8402, 8900, 14978, 11800, 13300, 10013, 9946, 9914, 10468, 10567, 12986, 9574, 9898, 7814, 8104, 11117, 10361, 7600, 12140, 10699, 11630, 8100, 10110, 10420, 9400, 7900, 10580, 10045, 10600, 11900, 12795, 10692, 9996, 10322, 8342, 8212, 8978, 12594, 9100, 10433, 10278, 10278, 10433, 10588, 10743, 10433, 10898, 10743, 14900, 13990, 7445, 9400, 7795, 11732, 7375, 5893, 7818, 13594, 9008, 9523, 9882, 13600, 7336, 9974, 10968, 9818, 9400, 10304, 9824, 7059, 5602, 9800, 11812, 12600, 9486, 12681, 12482, 13362, 12449, 9644, 8212, 9865, 8987, 9865, 10761, 9452, 9160, 8342, 13246, 23310, 12600, 12700, 12800, 10950, 12400, 12200, 7637, 8181, 7606, 8342, 9842, 8000, 11081, 11154, 9644, 7700, 7700, 9100, 7650, 7950, 10728, 7800, 13300, 9948, 10200, 9700, 9900, 10200, 10200, 9700, 10200, 9900, 10200, 10200, 9900, 9900, 9900, 10200, 10200, 10200, 10250, 10150, 10200, 10200, 10200, 10750, 9900, 9900, 9911, 10072, 10013, 9917, 9455, 10332, 9838, 10463, 5099, 7947, 7520, 8909, 8477, 8900, 6892, 5825, 9000, 9000, 7400, 5540, 17062, 6027, 7968, 17172, 8092, 6682, 6415, 10550, 9946, 9710, 10072, 10550, 11900, 11725, 10550, 10550, 9325, 11725, 11900, 9925, 11725, 11725, 11725, 11725, 11725, 10550, 11725, 11900, 8752, 9540, 9529, 7482, 6996, 9500, 9148, 10011, 10429, 9255, 9385, 10471, 5897, 9625, 10200, 10200, 10200, 10200, 9900, 9900, 9900, 10200, 9700, 10200, 10200, 10200, 10200, 9900, 9900, 5404, 9504, 11556, 6449, 8342, 9989, 10000, 10000, 10000, 10000, 8500, 8500, 25000, 10020, 10734, 10278, 10294, 9000, 9000, 10000, 8500, 10000, 8800, 8800, 9000, 9200, 8700, 9000, 9800, 7800, 9000, 7400, 9018, 9288, 9288, 11600, 12100, 12500, 17835, 8522, 15068, 9144, 14500, 9091, 9865, 8212, 8522, 10330, 8832, 10175, 10898, 10743, 14967, 8212, 8419, 11100, 11800, 13000, 10400, 10900, 15990, 18757, 15375, 14500, 8946, 8763, 8111, 8789, 10487, 10386, 10225, 8200, 8100, 8200, 8342, 8367, 8367, 8057, 9865, 8070, 8600, 11800, 5650, 6299, 9686, 9150, 7700, 8200, 7750, 13800, 11296, 8100, 8100, 8400, 9621, 10827, 7650, 9788, 13816, 6700, 11500, 11500, 7944, 6300, 9122, 10011, 9442, 9155, 9481, 9148, 9596, 9385, 10772, 12201, 15500, 7984, 13000, 9668, 9900, 10200, 9900, 9700, 8946, 8979, 14000, 14000, 12000, 14000, 13212, 9668, 12183, 9126, 9296, 12761, 12375, 9802, 5490, 5490, 5490, 5490, 5490, 5451, 5490, 5490, 6590, 6590, 6590, 6590, 6590, 6590, 6590, 6590, 8100, 5590, 6690, 7438, 12000, 12000, 12000, 12000, 10000, 10500, 8500, 9800, 10153, 10123, 10011, 8900, 9000, 7400, 8850, 9150, 9150, 8150, 9150, 9455, 9946, 7818, 7400, 8400, 8400, 9500, 9800, 9300, 8400, 8990, 12240, 6200, 11900, 9750, 9900, 9750, 9100, 12800, 10305, 7750, 9100, 11900, 10700, 10800, 10600, 10700, 9900, 9900, 12820, 11210, 9100, 11000, 10840, 10512, 10110, 9590, 10370, 9640, 9440, 8100, 7600, 9000, 7500, 10210, 11630, 12240, 11020, 11930, 9410, 9810, 10700, 10320, 12600, 12040, 12040, 12860, 10890, 12600, 12380, 12440, 12230, 10900, 12330, 9730, 10680, 12490, 12280, 8980, 11850, 10830, 11130, 10620, 11240, 10730, 10220, 11130, 11130, 10320, 11030, 10930, 9710, 9865, 9500, 10420, 10457, 10188, 10137, 9958, 9667, 10246, 10354, 10234, 10350, 10286, 10510, 10050, 9400, 9200, 7400, 9400, 9300, 7949, 7949, 7699, 9000, 7950, 9550, 9150, 17220, 14170, 14500, 15000, 12100, 14500, 10700, 6200, 9346, 12487, 12174, 9200, 9724, 9385, 12000, 9300, 8573, 9500, 10300, 12000, 13000, 6793, 10700, 6500, 6500, 14170, 11367, 14315, 11262, 14108, 11367, 9211, 9191, 9960, 9790, 8400, 10705, 10544, 10827, 10796, 10544, 7977, 9000, 9800, 9100, 8900, 8500, 6500, 8000, 10900, 10890, 11490, 10600, 10800, 10500, 11020, 7800, 12800, 13101, 10050, 11900, 11350, 11725, 11725, 11725, 9625, 11725, 11725, 7650, 7650, 7650, 11900, 10550, 11900, 9700, 11900, 11350, 10200, 11350, 11800, 8495, 8207, 9700, 10550, 11350, 11350, 11282, 11350, 9700, 10200, 11900, 9800, 13400, 10997, 10072, 11598, 10557, 7699, 7949, 10000, 13000, 13700, 13100, 40000, 23620, 40000, 20120, 23620, 20120, 20120, 14300, 13700, 8900, 8300, 11500, 11200, 12800, 11700, 12500, 11200, 11100, 9000, 9000, 9000, 7800, 7400, 9000, 7800, 7831, 7800, 9559, 8892, 10304, 9873, 9768, 10898, 10743, 10436, 10743, 10351, 9297, 8308, 11130, 10041, 14500, 14900, 9628, 12600, 13700, 8867, 11050, 15300, 11900, 11550, 13450, 11550, 11900, 14000, 15000, 14000, 10905, 10153, 10784, 9346, 10931, 7800, 7800, 14315, 10626, 10772, 12540, 10772, 10926, 12540, 13362, 12898, 11524, 15582, 7950, 15074, 15626, 6299, 9126, 11925, 9916, 8911, 15887, 8050, 8900, 9125, 8475, 7764, 12650, 11721, 12247, 8300, 7800, 7800, 9100, 7500, 11793, 9800, 12000, 9625, 7650, 9057, 14983, 15959, 16038, 15065, 11630, 12500, 8915, 8278, 11600, 11628, 11602, 6200, 10123, 9768, 10350, 11600, 10950, 12000, 7900, 10072, 7850, 7792, 7399, 8400, 9250, 9700, 10300, 8911, 7432, 10320, 10013, 9946, 9442, 10048, 12500, 12600, 10920, 10212, 11262, 12540, 11955, 9886, 15582, 10567, 10429, 11812, 10020, 7800, 8400, 7564, 10700, 10210, 10900, 10926, 8959, 9750, 7675, 12000, 12500, 11500, 11900, 10000, 10700, 11200, 9000, 11341, 10618, 11682, 11262, 7651, 8204, 11200, 10620, 9800, 9477, 9346, 8760, 7736, 11142, 9019, 10700, 8093, 8400, 8400, 8400, 7700, 8400, 8400, 8400, 8400, 7800, 10650, 12506, 8517, 12455, 9300, 9300, 12000, 7817, 9500, 9500, 9300, 13521, 20620, 8622, 10278, 8212, 10699, 9510, 8500, 8500, 8400, 8400, 7700, 8400, 8500, 8500, 10692, 7806, 11450, 19000, 8175, 8048, 11234, 11716, 12908, 9355, 9628, 8900, 8595, 9000, 7801, 7800, 7800, 8998, 7800, 9293, 8397, 19000, 19000, 18000, 18000, 17000, 17000, 16000, 16000, 15000, 15000, 15000, 7700, 7950, 6200, 10608, 8911, 10790, 10935, 10384, 8400, 8400, 9450, 9250, 10150, 10151, 8500, 9000, 7800, 9300, 20000, 12000, 9625, 8678, 12000, 12500, 12892, 10465, 10465, 9151, 12450, 12925, 10550, 10778, 12046, 5856, 9848, 9557, 9128, 10427, 9638, 9734, 11635, 11253, 10397, 9287, 9658, 11209, 9790, 8400, 9946, 9293, 7695, 8397, 9000, 8397, 7400, 8382, 7700, 7800, 8500, 7800, 7800, 8400, 7995, 17490, 7800, 9000, 7400, 7800, 7792, 9732, 10700, 8907, 8907, 9034, 9800, 10304, 8500, 11055, 10886, 10119, 8958, 9544, 9800, 9800, 8899, 9500, 12452, 12941, 11350, 9700, 9900, 14020, 11055, 11139, 10464, 10754, 11262, 8000, 7404, 9087, 9799, 7888, 7876, 7863, 7898, 11367, 10492, 7199, 8400, 7400, 11000, 11276, 12448, 8222, 12708, 8190, 10300, 12500, 8885, 9191, 8892, 9497, 9122, 13300, 12300, 11812, 9541, 9618, 7750, 7650, 11287, 9862, 10596, 9615, 10371, 10782, 9402, 9718, 10582, 9151, 9693, 7149, 9825, 8760, 9444, 8780, 7941, 6196, 11183, 8492, 8280, 9109, 9473, 8333, 9879, 10360, 10333, 10835, 7800, 9664, 11615, 9400, 9300, 7900, 9200, 8707, 8900, 7900, 9500, 8500, 8500, 9100, 9400, 9400, 9100, 9400, 9200, 9400, 9200, 8000, 7700, 9500, 9300, 9300, 8400, 8500, 8400, 8400, 8400, 8601, 8600, 7700, 9300, 7761, 9550, 9300, 9500, 9400, 12183, 10761, 12174, 12711, 9900, 11162, 9900, 10620, 13792, 10200, 9900, 10200, 12772, 13216, 13293, 11111, 10006, 10200, 10200, 6700, 10150, 9700, 11599, 10250, 8832, 13300, 10110, 11000, 10790, 10330, 10320, 9490, 8110, 14000, 11061, 14100, 12500, 13700, 13100, 8459, 9863, 9752, 8419, 11570, 9309, 9460, 10722, 10433, 9977, 6700, 6700, 6700, 7800, 9160, 7800, 8212, 8000, 8832, 10068, 10452, 10685, 9900, 10300, 10200, 8890, 9625, 9900, 10200, 12000, 12637, 10442, 6528, 10050, 7003, 9719, 10474, 10746, 9597, 10692, 26494, 11866, 10123, 10800, 11970, 10798, 10692, 10129, 8760, 8760, 8533, 13591, 13813, 14463, 14341, 13785, 13852, 14162, 15633, 15633, 14143, 14040, 14041, 14162, 16086, 14277, 14747, 14578, 14251, 14084, 14865, 15951, 15951, 14171, 13591, 13813, 14463, 14341, 13785, 13852, 14162, 15633, 15633, 14143, 14040, 14041, 14162, 16086, 14277, 14747, 14578, 14251, 14084, 14865, 15951, 15951, 14171, 13333, 13550, 14211, 14068, 13546, 13611, 13892, 15336, 15336, 14139, 13772, 13773, 13893, 15780, 14006, 14466, 14300, 13979, 13816, 14581, 15647, 15647, 13901, 13333, 13550, 14211, 14068, 13546, 13611, 13892, 15336, 15336, 14139, 13772, 13773, 13893, 15780, 14006, 14466, 14300, 13979, 13816, 14581, 15647, 15647, 13901, 13856, 13176, 13481, 10000, 9900, 10000, 10134, 7622, 12000, 9473, 8235, 9109, 8280, 8492, 9465, 10208, 6200, 10154, 11262, 10371, 10339, 12637, 14079, 14458, 14593, 13893, 14062, 14275, 15497, 15497, 14526, 14175, 14165, 14023, 16108, 14273, 14752, 14579, 14246, 14156, 14981, 15811, 15811, 14291, 13856, 13989, 14338, 14319, 13752, 14098, 15392, 15392, 14526, 14175, 14077, 13936, 16008, 14184, 14660, 14489, 14157, 14068, 14526, 15707, 15707, 13936, 11222, 9425, 10800, 9844, 10076, 8788, 9495, 8651, 7158, 9605, 8844, 8838, 8607, 11690, 11276, 11276, 9800, 10926, 12703, 8724, 8899, 10128, 9750, 9768, 9346, 10156, 10911, 20120, 11706, 10772, 14319, 12500, 8752, 7400, 7800, 9000, 7900, 9450, 9100, 9200, 10600, 15496, 11925, 13600, 9437, 7727, 9558, 10699, 8775, 10241, 7650, 7650, 7750, 7575, 10152, 10377, 12947, 10800, 12724, 12448, 9090, 10621, 9248, 18143, 9873, 10635, 10100, 9250, 9750, 9450, 8273, 11028, 9259, 9300, 20120, 10800, 10300, 10700, 11600, 8684, 11407, 12000, 11170, 11440, 9900, 9900, 10650, 9200, 10092, 8626, 10820, 11200, 12000, 11220, 10700, 8054, 11900, 7600, 11900, 12600, 10900, 13500, 5488, 7359, 7399, 10911, 13000, 8430, 13921, 14379, 14121, 13490, 13537, 12453, 12809, 8012, 8673, 9884, 22500, 14478, 14547, 14339, 15000, 12500, 8899, 9601, 9807, 12600, 8819, 9159, 12400, 13743, 9290, 15160, 8434, 13500, 8300, 6499, 8900, 13000, 10300, 10300, 7818, 10800, 10950, 10978, 12900, 10890, 11990, 11900, 13000, 11500, 13000, 13500, 11800, 7950, 10110, 8050, 8400, 9027, 8441, 11000, 8951, 10890, 12352, 8675, 7731, 9047, 9591, 8360, 8859, 11988, 10730, 10520, 10570, 14000, 10700, 10800, 10820, 10500, 11230, 13000, 13300, 11800, 12000, 14000, 13500, 9778, 12035, 12300, 9802, 12352, 12500, 12000, 10400, 10300, 10300, 10600, 10600, 11985, 10890, 10800, 10890, 11200, 9750, 7950, 13300, 13297, 10600, 11220, 11900, 10600, 10521, 8900, 15336, 14981, 8546, 10097, 10800, 10315, 10798, 13300, 9384, 9500, 9550, 9250, 9750, 25000, 12350, 8835, 12500, 13200, 13498, 13600, 13300, 12689, 13300, 10200, 10050, 9800, 10688, 9237, 9802, 10106, 7586, 8999, 9734, 8392, 7300, 7552, 7300, 8500, 7400, 7860, 9875, 6234, 9556, 9750, 7700, 9732, 9402, 9761, 9224, 7944, 7100, 10549, 10930, 8671, 8900, 7590, 7622, 14417, 14602, 10500, 9800, 7860, 10990, 10600, 9800, 8820, 8993, 8542, 8583, 9017, 12000, 9187, 11407, 10129, 11170, 14200, 10588, 10096, 8349, 8458, 9086, 7383, 7517, 11941, 7340, 8400, 16200, 16700, 16200, 11018, 10270, 9577, 11200, 12900, 12100, 10700, 14258, 7400, 8900, 11043, 8500, 15000, 7489, 7431, 6966, 7427, 10921, 15389, 15394, 9000, 8838, 9497, 7950, 24348, 24348, 25000, 23913, 13906, 9000, 12901, 10996, 13627, 12466, 10000, 11809, 10516, 16193, 7024, 7024, 7748, 8044, 13300, 14000, 13300, 14000, 12500, 13000, 12000, 11800, 20000, 12000, 10450, 6200, 7950, 9400, 9231, 9364, 9924, 9970, 8511, 10569, 13000, 11734, 14000, 12000, 9496, 12460, 9731, 11801, 9025, 12279, 12618, 10630, 9933, 8394, 13800, 11183, 7950, 9126, 9164, 11630, 8744, 9238, 14000, 15500, 9600, 9150, 9150, 9550, 9900, 9150, 7269, 8788, 13000, 29412, 6499, 5550, 6499, 13000, 8071, 8546, 8524, 9284, 9126, 9970, 10655, 9126, 9970, 10655, 6200, 9415, 10415, 5808, 11505, 10522, 10010, 8536, 10304, 8939, 10784, 17200, 8939, 7325, 6321, 6998, 11800, 12100, 12600, 7300, 15200, 9200, 14977, 12500, 11500, 9200, 11550, 11150, 15400, 11800, 12100, 12600, 7300, 15200, 9200, 14977, 12500, 11500, 9200, 11550, 11150, 15400, 16650, 14100, 15300, 9400, 10600, 16650, 9100, 10800, 7300, 7900, 6999, 9200, 6449, 14000, 12500, 11500, 12500, 13007, 8700, 8939, 7325, 6321, 6998, 11800, 12100, 12600, 7300, 15200, 9200, 14977, 12500, 11500, 9200, 11550, 11150, 15400, 16650, 14100, 15300, 9400, 10600, 16650, 9100, 10800, 7300, 7900, 6999, 9200, 6449, 14000, 12500, 11500, 12500, 13007, 8700, 12392, 8500, 12500, 12076, 9496, 8244, 8556, 9500, 14922, 15700, 10478, 11500, 8500, 10400, 7900, 10600, 9600, 9200, 9500, 9500, 15350, 9800, 11150, 12050, 15350, 11650, 9600, 18583, 8400, 13611, 14000, 12282, 12500, 15000, 13000, 9800, 9500, 9800, 8300, 14700, 12800, 11800, 12500, 15000, 11800, 7900, 8900, 8900, 14576, 9200, 7900, 14700, 7200, 7100, 8100, 9400, 5550, 5897, 6199, 5749, 5700, 6649, 9400, 9100, 8400, 9100, 15200, 11800, 10500, 13000, 14000, 13000, 14609, 14583, 13703, 14592, 11304, 9200, 9100, 10800, 11654, 8853, 9350, 9146, 10507, 10300, 10000, 9214, 7700, 8600, 9100, 7100, 14202, 8273, 10417, 12171, 9831, 7563, 8441, 19525, 7269, 7101, 7822, 8067, 9152, 10000, 14952, 8183, 9380, 12560, 12200, 11500, 10950, 12000, 11500, 7700, 8517, 9268, 9462, 8500, 10000, 8155, 7057, 8086, 10697, 9350, 9550, 7448, 8000, 9328, 7500, 8500, 9753, 12469, 13555, 10455, 6814, 6430, 9500, 9950, 14500, 12419, 13000, 7566, 6851, 6984, 15674, 14660, 14411, 14612, 14533, 14328, 14609, 14258, 15600, 14521, 8904, 14966, 13500, 12655, 12742, 12375, 9550, 8673, 8012, 8993, 8573, 9856, 9068, 9523, 7920, 10000, 8599, 7575, 10400, 11250, 12400, 10800, 17291, 18327, 12600, 17500, 22000, 17500, 7541, 15000, 17500, 17500, 9800, 8563, 8716, 7400, 7400, 8400, 7700, 7700, 8400, 8400, 8500, 8500, 9000, 9300, 9300, 9300, 9500, 9000, 9000, 7800, 8300, 9850, 10000, 8300, 7950, 8035, 8012, 8673, 12300, 12097, 11700, 9500, 7200, 11100, 7600, 9668, 6950, 7467, 8993, 10500, 12200, 10800, 7950, 6200, 10110, 9934, 6941, 9844, 7132, 12500, 8300, 7900, 7900, 8500, 8300, 9100, 9600, 9200, 9200, 10600, 6941, 14000, 8300, 8600, 7999, 8745, 10235, 9577, 9800, 8500, 16999, 11500, 12500, 11800, 12300, 11800, 11800, 13000, 13000, 14000, 14000, 11930, 11000, 11600, 11150, 11200, 12100, 10300, 12600, 18286, 21871, 17999, 8891, 9207, 9866, 13300, 13600, 12000, 12800, 12600, 13500, 13000, 13000, 13400, 13100, 15900, 14100, 8814, 9000, 15247, 16900, 26999, 9325, 8400, 9300, 9500, 13000, 25000, 14000, 14000, 14000, 13000, 13000, 13000, 13000, 14000, 7544, 6710, 15500, 15500, 9946, 10976, 16526, 17500, 17500, 12882, 7149, 13300, 13300, 8990, 9947, 13011, 10467, 12352, 9324, 8123, 9218, 8667, 8899, 10145, 9590, 11850, 9700, 9500, 11500, 10610, 9541, 12290, 12700, 7404, 8000, 8000, 7300, 12765, 14539, 7166, 10314, 7522, 7200, 9868, 8900, 8514, 8100, 8000, 8710, 8710, 8900, 9600, 9750, 9900, 10250, 10080, 8888, 7902, 8438, 8458, 8865, 9946, 10723, 8367, 8832, 8372, 7656, 10000, 6292, 7239, 7193, 7079, 8377, 8292, 10000, 9020, 11080, 14731, 11822, 9493, 9684, 11051, 11048, 10240, 8900, 9800, 20370, 19978, 20536, 18680, 17306, 18766, 11838, 11850, 15249, 15102, 13496, 15810, 16650, 15400, 16650, 12041, 11895, 12086, 14669, 7158, 8700, 8900, 8200, 9400, 8900, 8200, 8700, 8700, 6664, 6442, 20000, 17826, 16870, 17304, 12655, 9999, 12800, 10557, 8790, 4999, 6199, 9200, 9200, 9200, 8900, 9000, 9000, 9200, 8900, 9200, 9300, 9000, 14500, 9500, 9300, 10304, 9950, 13500, 14500, 15000, 14000, 15500, 9714, 12000, 9700, 9500, 9200, 10100, 8800, 8500, 7700, 8904, 8617, 8319, 8430, 8103, 8739, 8562, 8573, 7400, 9200, 9300, 9490, 9487, 9800, 11500, 10150, 10930, 11500, 9500, 9100, 7884, 7884, 8837, 10500, 9387, 10200, 13500, 9968, 8650, 8950, 9628, 9857, 10397, 9968, 9600, 9600, 10850, 9800, 8400, 7700, 13100, 13750, 13500, 13000, 13244, 9859, 9680, 9327, 8848, 8779, 9549, 7898, 10000, 7345, 8920, 9500, 9000, 8750, 10000, 9000, 8900, 9800, 13000, 13000, 14000, 15000, 11500, 12500, 15000, 13485, 13290, 14500, 12800, 9800, 9625, 9900, 9450, 9900, 9925, 10550, 9700, 11725, 11343, 11725, 11900, 11725, 11900, 11725, 9325, 11300, 8850, 15887, 15225, 14400, 19964, 8285, 12593, 8251, 8467, 8255, 7681, 7981, 7895, 8841, 13014, 10918, 10807, 12292, 12980, 13792, 13399, 13286, 13300, 14071, 7700, 8500, 9300, 9500, 11300, 9700, 11350, 9425, 11900, 7650, 8850, 14481, 7575, 15661, 14490, 9300, 9300, 10800, 8862, 8239, 8334, 9845, 15990, 16913, 18346, 16605, 15990, 16912, 16605, 16605, 18142, 16912, 18268, 17835, 18450, 7803, 9000, 8900, 8900, 9200, 9200, 8900, 9000, 9200, 8900, 9850, 9160, 7834, 13161, 17473, 13167, 11439, 14653, 15081, 16097, 14033, 12967, 11850, 13414, 8325, 8220, 10414, 10542, 7800, 11502, 13700, 13500, 12800, 9865, 10485, 8888, 8367, 8520, 9182, 9915, 10112, 9245, 9112, 9700, 7600, 7800, 9440, 9100, 10950, 20000, 13800, 12000, 8500, 14500, 8942, 8500, 10600, 9200, 11200, 11050, 15300, 12200, 11600, 11800, 11500, 11500, 12500, 13000, 13500, 8902, 13000, 9161, 9464, 10417, 9341, 10600, 11700, 10600, 11500, 7750, 14000, 13004, 8715, 8614, 9900, 10000, 9700, 10067, 24999, 10618, 13692, 12510, 11276, 12681, 11367, 10150, 20491, 12237, 8892, 8780, 15197, 12900, 7700, 11330, 7802, 7802, 7500, 8005, 8106, 8106, 8208, 8309, 7700, 7700, 7700, 7700, 7700, 7700, 8400, 8502, 8401, 8500, 8500, 8401, 8000, 7650, 6950, 7200, 8100, 8100, 7650, 8200, 8200, 8100, 20000, 12000, 13500, 13300, 14000, 14000, 14500, 7800, 13300, 10381, 10792, 10784, 11004, 12207, 12928, 8660, 9900, 22000, 13483, 12074, 13351, 13500, 13932, 13500, 13933, 13825, 13501, 14685, 11799, 13932, 13501, 13825, 12440, 8416, 7813, 8585, 5700, 6600, 6600, 6192, 5800, 6800, 5900, 6902, 8900, 7170, 5400, 7200, 9100, 7300, 10550, 10550, 9982, 7399, 7699, 7449, 7918, 7349, 8217, 7699, 11367, 9600, 9200, 9100, 9600, 10200, 10200, 10200, 10300, 10400, 9100, 10400, 9500, 9000, 9500, 10100, 10100, 10100, 10200, 10300, 10300, 9400, 8900, 9000, 10100, 9500, 10000, 10100, 10200, 10200, 8926, 25377, 6094, 7181, 9220, 15500, 9200, 10283, 10050, 10221, 7612, 8093, 9649, 8298, 8464, 9500, 8560, 8074, 8089, 8179, 7740, 11347, 11130, 7821, 10899, 10899, 9499, 9299, 9499, 10438, 12510, 10750, 12000, 11000, 16500, 9384, 9440, 10676, 10415, 6746, 5614, 11251, 10300, 11290, 11900, 7949, 7699, 10000, 12823, 11098, 12077, 13000, 14200, 15057, 10999, 9724, 9207, 9940, 9866, 8600, 9200, 9400, 6414, 6570, 8891, 8814, 9811, 9801, 9990, 10547, 9750, 9759, 9553, 9949, 10577, 10323, 9598, 9647, 9747, 9747, 9969, 9955, 9595, 9909, 9501, 9706, 9291, 10013, 9751, 9972, 9445, 9906, 10397, 9756, 9163, 9657, 9906, 9798, 9265, 10966, 9447, 10120, 9628, 9572, 9367, 10158, 9470, 9244, 9399, 10216, 9691, 9387, 9760, 9105, 8956, 9545, 9603, 9804, 8799, 9968, 10709, 9702, 9424, 9553, 9340, 9338, 9641, 9298, 9396, 9398, 9337, 8831, 9057, 9449, 9661, 9285, 7275, 9283, 9241, 9206, 9112, 8985, 8670, 9901, 9442, 9642, 9479, 9299, 9445, 9857, 9445, 9445, 10010, 9219, 10377, 8910, 9038, 9387, 8984, 8830, 9453, 9503, 9995, 8916, 9056, 9394, 9032], \"y0\": \" \", \"yaxis\": \"y\"}],\n",
              "                        {\"boxmode\": \"group\", \"legend\": {\"tracegroupgap\": 0}, \"template\": {\"data\": {\"bar\": [{\"error_x\": {\"color\": \"#2a3f5f\"}, \"error_y\": {\"color\": \"#2a3f5f\"}, \"marker\": {\"line\": {\"color\": \"#E5ECF6\", \"width\": 0.5}}, \"type\": \"bar\"}], \"barpolar\": [{\"marker\": {\"line\": {\"color\": \"#E5ECF6\", \"width\": 0.5}}, \"type\": \"barpolar\"}], \"carpet\": [{\"aaxis\": {\"endlinecolor\": \"#2a3f5f\", \"gridcolor\": \"white\", \"linecolor\": \"white\", \"minorgridcolor\": \"white\", \"startlinecolor\": \"#2a3f5f\"}, \"baxis\": {\"endlinecolor\": \"#2a3f5f\", \"gridcolor\": \"white\", \"linecolor\": \"white\", \"minorgridcolor\": \"white\", \"startlinecolor\": \"#2a3f5f\"}, \"type\": \"carpet\"}], \"choropleth\": [{\"colorbar\": {\"outlinewidth\": 0, \"ticks\": \"\"}, \"type\": \"choropleth\"}], \"contour\": [{\"colorbar\": {\"outlinewidth\": 0, \"ticks\": \"\"}, \"colorscale\": [[0.0, \"#0d0887\"], [0.1111111111111111, \"#46039f\"], [0.2222222222222222, \"#7201a8\"], [0.3333333333333333, \"#9c179e\"], [0.4444444444444444, \"#bd3786\"], [0.5555555555555556, \"#d8576b\"], [0.6666666666666666, \"#ed7953\"], [0.7777777777777778, \"#fb9f3a\"], [0.8888888888888888, \"#fdca26\"], [1.0, \"#f0f921\"]], \"type\": \"contour\"}], \"contourcarpet\": [{\"colorbar\": {\"outlinewidth\": 0, \"ticks\": \"\"}, \"type\": \"contourcarpet\"}], \"heatmap\": [{\"colorbar\": {\"outlinewidth\": 0, \"ticks\": \"\"}, \"colorscale\": [[0.0, \"#0d0887\"], [0.1111111111111111, \"#46039f\"], [0.2222222222222222, \"#7201a8\"], [0.3333333333333333, \"#9c179e\"], [0.4444444444444444, \"#bd3786\"], [0.5555555555555556, \"#d8576b\"], [0.6666666666666666, \"#ed7953\"], [0.7777777777777778, \"#fb9f3a\"], [0.8888888888888888, \"#fdca26\"], [1.0, \"#f0f921\"]], \"type\": \"heatmap\"}], \"heatmapgl\": [{\"colorbar\": {\"outlinewidth\": 0, \"ticks\": \"\"}, \"colorscale\": [[0.0, \"#0d0887\"], [0.1111111111111111, \"#46039f\"], [0.2222222222222222, \"#7201a8\"], [0.3333333333333333, \"#9c179e\"], [0.4444444444444444, \"#bd3786\"], [0.5555555555555556, \"#d8576b\"], [0.6666666666666666, \"#ed7953\"], [0.7777777777777778, \"#fb9f3a\"], [0.8888888888888888, \"#fdca26\"], [1.0, \"#f0f921\"]], \"type\": \"heatmapgl\"}], \"histogram\": [{\"marker\": {\"colorbar\": {\"outlinewidth\": 0, \"ticks\": \"\"}}, \"type\": \"histogram\"}], \"histogram2d\": [{\"colorbar\": {\"outlinewidth\": 0, \"ticks\": \"\"}, \"colorscale\": [[0.0, \"#0d0887\"], [0.1111111111111111, \"#46039f\"], [0.2222222222222222, \"#7201a8\"], [0.3333333333333333, \"#9c179e\"], [0.4444444444444444, \"#bd3786\"], [0.5555555555555556, \"#d8576b\"], [0.6666666666666666, \"#ed7953\"], [0.7777777777777778, \"#fb9f3a\"], [0.8888888888888888, \"#fdca26\"], [1.0, \"#f0f921\"]], \"type\": \"histogram2d\"}], \"histogram2dcontour\": [{\"colorbar\": {\"outlinewidth\": 0, \"ticks\": \"\"}, \"colorscale\": [[0.0, \"#0d0887\"], [0.1111111111111111, \"#46039f\"], [0.2222222222222222, \"#7201a8\"], [0.3333333333333333, \"#9c179e\"], [0.4444444444444444, \"#bd3786\"], [0.5555555555555556, \"#d8576b\"], [0.6666666666666666, \"#ed7953\"], [0.7777777777777778, \"#fb9f3a\"], [0.8888888888888888, \"#fdca26\"], [1.0, \"#f0f921\"]], \"type\": \"histogram2dcontour\"}], \"mesh3d\": [{\"colorbar\": {\"outlinewidth\": 0, \"ticks\": \"\"}, \"type\": \"mesh3d\"}], \"parcoords\": [{\"line\": {\"colorbar\": {\"outlinewidth\": 0, \"ticks\": \"\"}}, \"type\": \"parcoords\"}], \"pie\": [{\"automargin\": true, \"type\": \"pie\"}], \"scatter\": [{\"marker\": {\"colorbar\": {\"outlinewidth\": 0, \"ticks\": \"\"}}, \"type\": \"scatter\"}], \"scatter3d\": [{\"line\": {\"colorbar\": {\"outlinewidth\": 0, \"ticks\": \"\"}}, \"marker\": {\"colorbar\": {\"outlinewidth\": 0, \"ticks\": \"\"}}, \"type\": \"scatter3d\"}], \"scattercarpet\": [{\"marker\": {\"colorbar\": {\"outlinewidth\": 0, \"ticks\": \"\"}}, \"type\": \"scattercarpet\"}], \"scattergeo\": [{\"marker\": {\"colorbar\": {\"outlinewidth\": 0, \"ticks\": \"\"}}, \"type\": \"scattergeo\"}], \"scattergl\": [{\"marker\": {\"colorbar\": {\"outlinewidth\": 0, \"ticks\": \"\"}}, \"type\": \"scattergl\"}], \"scattermapbox\": [{\"marker\": {\"colorbar\": {\"outlinewidth\": 0, \"ticks\": \"\"}}, \"type\": \"scattermapbox\"}], \"scatterpolar\": [{\"marker\": {\"colorbar\": {\"outlinewidth\": 0, \"ticks\": \"\"}}, \"type\": \"scatterpolar\"}], \"scatterpolargl\": [{\"marker\": {\"colorbar\": {\"outlinewidth\": 0, \"ticks\": \"\"}}, \"type\": \"scatterpolargl\"}], \"scatterternary\": [{\"marker\": {\"colorbar\": {\"outlinewidth\": 0, \"ticks\": \"\"}}, \"type\": \"scatterternary\"}], \"surface\": [{\"colorbar\": {\"outlinewidth\": 0, \"ticks\": \"\"}, \"colorscale\": [[0.0, \"#0d0887\"], [0.1111111111111111, \"#46039f\"], [0.2222222222222222, \"#7201a8\"], [0.3333333333333333, \"#9c179e\"], [0.4444444444444444, \"#bd3786\"], [0.5555555555555556, \"#d8576b\"], [0.6666666666666666, \"#ed7953\"], [0.7777777777777778, \"#fb9f3a\"], [0.8888888888888888, \"#fdca26\"], [1.0, \"#f0f921\"]], \"type\": \"surface\"}], \"table\": [{\"cells\": {\"fill\": {\"color\": \"#EBF0F8\"}, \"line\": {\"color\": \"white\"}}, \"header\": {\"fill\": {\"color\": \"#C8D4E3\"}, \"line\": {\"color\": \"white\"}}, \"type\": \"table\"}]}, \"layout\": {\"annotationdefaults\": {\"arrowcolor\": \"#2a3f5f\", \"arrowhead\": 0, \"arrowwidth\": 1}, \"coloraxis\": {\"colorbar\": {\"outlinewidth\": 0, \"ticks\": \"\"}}, \"colorscale\": {\"diverging\": [[0, \"#8e0152\"], [0.1, \"#c51b7d\"], [0.2, \"#de77ae\"], [0.3, \"#f1b6da\"], [0.4, \"#fde0ef\"], [0.5, \"#f7f7f7\"], [0.6, \"#e6f5d0\"], [0.7, \"#b8e186\"], [0.8, \"#7fbc41\"], [0.9, \"#4d9221\"], [1, \"#276419\"]], \"sequential\": [[0.0, \"#0d0887\"], [0.1111111111111111, \"#46039f\"], [0.2222222222222222, \"#7201a8\"], [0.3333333333333333, \"#9c179e\"], [0.4444444444444444, \"#bd3786\"], [0.5555555555555556, \"#d8576b\"], [0.6666666666666666, \"#ed7953\"], [0.7777777777777778, \"#fb9f3a\"], [0.8888888888888888, \"#fdca26\"], [1.0, \"#f0f921\"]], \"sequentialminus\": [[0.0, \"#0d0887\"], [0.1111111111111111, \"#46039f\"], [0.2222222222222222, \"#7201a8\"], [0.3333333333333333, \"#9c179e\"], [0.4444444444444444, \"#bd3786\"], [0.5555555555555556, \"#d8576b\"], [0.6666666666666666, \"#ed7953\"], [0.7777777777777778, \"#fb9f3a\"], [0.8888888888888888, \"#fdca26\"], [1.0, \"#f0f921\"]]}, \"colorway\": [\"#636efa\", \"#EF553B\", \"#00cc96\", \"#ab63fa\", \"#FFA15A\", \"#19d3f3\", \"#FF6692\", \"#B6E880\", \"#FF97FF\", \"#FECB52\"], \"font\": {\"color\": \"#2a3f5f\"}, \"geo\": {\"bgcolor\": \"white\", \"lakecolor\": \"white\", \"landcolor\": \"#E5ECF6\", \"showlakes\": true, \"showland\": true, \"subunitcolor\": \"white\"}, \"hoverlabel\": {\"align\": \"left\"}, \"hovermode\": \"closest\", \"mapbox\": {\"style\": \"light\"}, \"paper_bgcolor\": \"white\", \"plot_bgcolor\": \"#E5ECF6\", \"polar\": {\"angularaxis\": {\"gridcolor\": \"white\", \"linecolor\": \"white\", \"ticks\": \"\"}, \"bgcolor\": \"#E5ECF6\", \"radialaxis\": {\"gridcolor\": \"white\", \"linecolor\": \"white\", \"ticks\": \"\"}}, \"scene\": {\"xaxis\": {\"backgroundcolor\": \"#E5ECF6\", \"gridcolor\": \"white\", \"gridwidth\": 2, \"linecolor\": \"white\", \"showbackground\": true, \"ticks\": \"\", \"zerolinecolor\": \"white\"}, \"yaxis\": {\"backgroundcolor\": \"#E5ECF6\", \"gridcolor\": \"white\", \"gridwidth\": 2, \"linecolor\": \"white\", \"showbackground\": true, \"ticks\": \"\", \"zerolinecolor\": \"white\"}, \"zaxis\": {\"backgroundcolor\": \"#E5ECF6\", \"gridcolor\": \"white\", \"gridwidth\": 2, \"linecolor\": \"white\", \"showbackground\": true, \"ticks\": \"\", \"zerolinecolor\": \"white\"}}, \"shapedefaults\": {\"line\": {\"color\": \"#2a3f5f\"}}, \"ternary\": {\"aaxis\": {\"gridcolor\": \"white\", \"linecolor\": \"white\", \"ticks\": \"\"}, \"baxis\": {\"gridcolor\": \"white\", \"linecolor\": \"white\", \"ticks\": \"\"}, \"bgcolor\": \"#E5ECF6\", \"caxis\": {\"gridcolor\": \"white\", \"linecolor\": \"white\", \"ticks\": \"\"}}, \"title\": {\"x\": 0.05}, \"xaxis\": {\"automargin\": true, \"gridcolor\": \"white\", \"linecolor\": \"white\", \"ticks\": \"\", \"title\": {\"standoff\": 15}, \"zerolinecolor\": \"white\", \"zerolinewidth\": 2}, \"yaxis\": {\"automargin\": true, \"gridcolor\": \"white\", \"linecolor\": \"white\", \"ticks\": \"\", \"title\": {\"standoff\": 15}, \"zerolinecolor\": \"white\", \"zerolinewidth\": 2}}}, \"title\": {\"text\": \"Cena 1m2 mieszkania w zale\\u017cno\\u015bci od metra\\u017cu ca\\u0142ego mieszkania\"}, \"xaxis\": {\"anchor\": \"y\", \"domain\": [0.0, 1.0], \"title\": {\"text\": \"area_m2\"}}, \"yaxis\": {\"anchor\": \"x\", \"domain\": [0.0, 1.0], \"title\": {\"text\": \"price_per_m2\"}}},\n",
              "                        {\"responsive\": true}\n",
              "                    ).then(function(){\n",
              "                            \n",
              "var gd = document.getElementById('2868b95b-f50c-46bf-a223-1370f36cea3b');\n",
              "var x = new MutationObserver(function (mutations, observer) {{\n",
              "        var display = window.getComputedStyle(gd).display;\n",
              "        if (!display || display === 'none') {{\n",
              "            console.log([gd, 'removed!']);\n",
              "            Plotly.purge(gd);\n",
              "            observer.disconnect();\n",
              "        }}\n",
              "}});\n",
              "\n",
              "// Listen for the removal of the full notebook cells\n",
              "var notebookContainer = gd.closest('#notebook-container');\n",
              "if (notebookContainer) {{\n",
              "    x.observe(notebookContainer, {childList: true});\n",
              "}}\n",
              "\n",
              "// Listen for the clearing of the current output cell\n",
              "var outputEl = gd.closest('.output');\n",
              "if (outputEl) {{\n",
              "    x.observe(outputEl, {childList: true});\n",
              "}}\n",
              "\n",
              "                        })\n",
              "                };\n",
              "                \n",
              "            </script>\n",
              "        </div>\n",
              "</body>\n",
              "</html>"
            ]
          },
          "metadata": {
            "tags": []
          }
        }
      ]
    },
    {
      "cell_type": "code",
      "metadata": {
        "colab": {
          "base_uri": "https://localhost:8080/",
          "height": 542
        },
        "id": "Qjvc7t3zuNiG",
        "outputId": "0d101230-944d-4cec-f87a-fe90dcd62f93"
      },
      "source": [
        "# analiza ceny wg. ilości pokojów\n",
        "import plotly.express as px\n",
        "\n",
        "px.box(gratka_df, \n",
        "       x = \"n_rooms\", \n",
        "       y = \"price_per_m2\",\n",
        "       title = \"Cena 1m2 mieszkania w zależności od ilości pokoi\")"
      ],
      "execution_count": 71,
      "outputs": [
        {
          "output_type": "display_data",
          "data": {
            "text/html": [
              "<html>\n",
              "<head><meta charset=\"utf-8\" /></head>\n",
              "<body>\n",
              "    <div>\n",
              "            <script src=\"https://cdnjs.cloudflare.com/ajax/libs/mathjax/2.7.5/MathJax.js?config=TeX-AMS-MML_SVG\"></script><script type=\"text/javascript\">if (window.MathJax) {MathJax.Hub.Config({SVG: {font: \"STIX-Web\"}});}</script>\n",
              "                <script type=\"text/javascript\">window.PlotlyConfig = {MathJaxConfig: 'local'};</script>\n",
              "        <script src=\"https://cdn.plot.ly/plotly-latest.min.js\"></script>    \n",
              "            <div id=\"9b325505-0566-4f0c-aab2-ca7cf40adf98\" class=\"plotly-graph-div\" style=\"height:525px; width:100%;\"></div>\n",
              "            <script type=\"text/javascript\">\n",
              "                \n",
              "                    window.PLOTLYENV=window.PLOTLYENV || {};\n",
              "                    \n",
              "                if (document.getElementById(\"9b325505-0566-4f0c-aab2-ca7cf40adf98\")) {\n",
              "                    Plotly.newPlot(\n",
              "                        '9b325505-0566-4f0c-aab2-ca7cf40adf98',\n",
              "                        [{\"alignmentgroup\": \"True\", \"hoverlabel\": {\"namelength\": 0}, \"hovertemplate\": \"n_rooms=%{x}<br>price_per_m2=%{y}\", \"legendgroup\": \"\", \"marker\": {\"color\": \"#636efa\"}, \"name\": \"\", \"notched\": false, \"offsetgroup\": \"\", \"orientation\": \"v\", \"showlegend\": false, \"type\": \"box\", \"x\": [2, 2, 3, 2, 4, 2, 1, 2, 2, 2, 2, 3, 3, 1, 1, 2, 2, 3, 1, 2, 1, 2, 3, 3, 1, 4, 2, 3, 3, 4, 2, 2, 3, 1, 1, 2, 2, 1, 1, 1, 3, 4, 3, 4, 4, 3, 3, 4, 3, 4, 1, 3, 4, 1, 3, 1, 2, 2, 1, 3, 2, 1, 2, 2, 1, 1, 1, 2, 2, 2, 1, 3, 3, 3, 3, 1, 2, 1, 2, 3, 1, 2, 4, 2, 4, 2, 3, 3, 2, 3, 2, 2, 3, 2, 4, 2, 3, 2, 2, 2, 4, 3, 2, 4, 2, 3, 4, 2, 4, 3, 4, 2, 3, 1, 1, 2, 2, 2, 2, 3, 2, 2, 3, 2, 2, 2, 2, 2, 3, 2, 3, 2, 3, 2, 2, 3, 4, 3, 2, 4, 2, 2, 2, 2, 2, 4, 2, 1, 3, 3, 3, 4, 4, 3, 3, 3, 3, 3, 2, 1, 3, 3, 2, 3, 2, 3, 3, 4, 3, 3, 3, 3, 2, 3, 3, 4, 3, 2, 2, 1, 3, 2, 1, 4, 2, 2, 4, 4, 3, 4, 2, 2, 2, 4, 4, 2, 2, 3, 3, 3, 5, 4, 1, 3, 3, 5, 2, 3, 2, 3, 4, 2, 2, 2, 2, 2, 1, 3, 1, 1, 3, 4, 3, 2, 3, 2, 2, 2, 3, 2, 3, 3, 3, 3, 3, 3, 3, 2, 5, 1, 2, 3, 3, 2, 2, 2, 3, 3, 2, 3, 2, 3, 2, 2, 2, 3, 3, 3, 2, 2, 1, 2, 3, 2, 3, 2, 3, 3, 2, 3, 2, 2, 5, 4, 3, 2, 2, 4, 3, 3, 2, 2, 3, 4, 3, 1, 2, 1, 2, 3, 3, 2, 2, 2, 2, 2, 2, 2, 2, 1, 1, 2, 3, 3, 3, 3, 3, 3, 1, 2, 2, 2, 2, 2, 2, 2, 2, 3, 2, 3, 3, 4, 3, 4, 2, 2, 4, 4, 4, 4, 1, 1, 3, 2, 3, 3, 2, 3, 3, 3, 3, 2, 1, 3, 3, 1, 3, 5, 3, 3, 3, 3, 3, 3, 3, 1, 2, 2, 3, 3, 2, 2, 3, 2, 2, 1, 3, 2, 2, 2, 4, 3, 3, 2, 3, 2, 3, 4, 3, 2, 2, 2, 2, 1, 3, 2, 3, 3, 5, 3, 3, 3, 1, 2, 2, 1, 2, 2, 1, 2, 1, 3, 2, 3, 2, 3, 3, 1, 4, 4, 2, 2, 2, 4, 4, 3, 3, 3, 2, 2, 3, 2, 3, 2, 3, 3, 2, 2, 2, 3, 3, 2, 1, 1, 1, 1, 1, 1, 3, 3, 1, 2, 1, 2, 4, 3, 1, 4, 4, 5, 4, 4, 4, 4, 3, 4, 2, 4, 2, 1, 2, 1, 1, 1, 2, 3, 3, 3, 2, 1, 1, 1, 3, 3, 3, 3, 2, 2, 2, 3, 2, 2, 2, 2, 3, 2, 3, 2, 2, 1, 5, 3, 3, 3, 3, 3, 3, 3, 2, 1, 2, 3, 5, 3, 3, 3, 4, 1, 4, 2, 2, 3, 3, 1, 3, 3, 3, 4, 3, 2, 1, 3, 4, 3, 2, 3, 4, 4, 1, 1, 4, 3, 3, 3, 2, 2, 3, 1, 3, 2, 2, 2, 2, 3, 2, 2, 5, 4, 3, 2, 3, 3, 3, 2, 2, 5, 1, 3, 3, 3, 2, 4, 2, 1, 3, 1, 3, 2, 3, 2, 2, 2, 2, 2, 2, 2, 3, 3, 3, 2, 3, 2, 2, 2, 1, 2, 3, 2, 2, 2, 4, 3, 2, 3, 4, 5, 3, 1, 1, 3, 2, 2, 3, 2, 2, 2, 2, 2, 3, 1, 3, 4, 2, 3, 1, 3, 3, 3, 3, 2, 3, 4, 3, 3, 2, 3, 4, 3, 3, 1, 2, 2, 2, 3, 1, 2, 4, 3, 3, 3, 3, 3, 2, 3, 2, 3, 1, 2, 1, 4, 2, 4, 4, 4, 6, 2, 3, 4, 3, 4, 3, 3, 1, 3, 1, 3, 4, 2, 2, 2, 3, 3, 2, 2, 4, 2, 1, 4, 3, 4, 3, 3, 3, 2, 4, 2, 2, 2, 2, 2, 2, 2, 5, 2, 5, 3, 4, 1, 3, 2, 2, 2, 2, 2, 2, 2, 2, 2, 4, 1, 2, 2, 3, 3, 3, 4, 5, 4, 3, 2, 3, 2, 3, 2, 3, 3, 3, 3, 2, 4, 4, 3, 2, 1, 2, 2, 2, 2, 2, 3, 3, 2, 3, 2, 2, 3, 3, 5, 2, 1, 2, 2, 2, 2, 2, 3, 3, 2, 3, 2, 3, 1, 2, 2, 3, 3, 3, 3, 3, 5, 2, 3, 1, 3, 2, 4, 3, 2, 2, 4, 2, 4, 2, 2, 3, 3, 3, 2, 2, 2, 1, 3, 3, 3, 2, 1, 3, 3, 3, 4, 3, 3, 4, 2, 2, 2, 4, 3, 3, 2, 2, 2, 2, 3, 2, 2, 4, 3, 2, 3, 2, 2, 1, 2, 3, 1, 4, 4, 4, 1, 1, 1, 1, 1, 1, 1, 1, 1, 1, 1, 1, 1, 1, 1, 1, 1, 1, 2, 3, 4, 4, 3, 3, 3, 2, 4, 3, 2, 3, 2, 2, 2, 2, 2, 3, 3, 3, 2, 2, 2, 2, 2, 2, 3, 3, 4, 4, 3, 3, 5, 2, 2, 2, 2, 2, 3, 3, 6, 2, 2, 2, 2, 2, 2, 1, 2, 1, 3, 2, 2, 2, 3, 2, 2, 3, 2, 4, 5, 4, 3, 2, 2, 1, 1, 3, 2, 3, 1, 3, 2, 3, 3, 2, 3, 2, 2, 2, 3, 3, 5, 3, 2, 2, 4, 3, 1, 1, 2, 1, 2, 2, 1, 1, 2, 1, 1, 2, 2, 2, 5, 3, 3, 3, 2, 5, 4, 3, 5, 2, 2, 1, 3, 2, 3, 2, 3, 2, 2, 3, 3, 3, 2, 3, 2, 3, 1, 1, 4, 4, 3, 3, 3, 3, 3, 3, 3, 3, 3, 3, 1, 3, 3, 3, 3, 3, 3, 4, 2, 3, 1, 1, 3, 2, 2, 3, 2, 3, 3, 2, 1, 3, 5, 5, 5, 5, 5, 5, 5, 5, 3, 3, 3, 3, 3, 3, 3, 3, 3, 5, 3, 4, 1, 3, 3, 3, 1, 3, 4, 3, 2, 2, 2, 3, 2, 4, 2, 1, 1, 1, 1, 4, 4, 3, 4, 3, 3, 2, 2, 2, 3, 4, 2, 5, 2, 1, 3, 2, 3, 2, 2, 4, 2, 3, 3, 3, 3, 3, 3, 3, 1, 2, 2, 2, 2, 2, 2, 2, 2, 2, 2, 3, 4, 3, 4, 1, 3, 2, 1, 3, 2, 3, 4, 3, 2, 2, 2, 2, 2, 2, 2, 3, 2, 3, 3, 3, 3, 4, 4, 4, 2, 2, 2, 2, 2, 2, 2, 2, 2, 2, 3, 3, 4, 3, 2, 3, 2, 2, 2, 3, 3, 3, 3, 3, 2, 2, 2, 4, 2, 3, 4, 3, 3, 4, 4, 3, 3, 3, 2, 3, 1, 2, 1, 1, 3, 1, 3, 5, 3, 2, 2, 2, 4, 3, 2, 2, 4, 2, 3, 3, 2, 3, 3, 3, 3, 2, 2, 2, 2, 2, 2, 3, 3, 2, 3, 3, 3, 3, 3, 3, 3, 3, 2, 2, 3, 3, 4, 3, 3, 3, 2, 2, 2, 2, 2, 1, 3, 3, 4, 2, 1, 2, 1, 1, 1, 3, 1, 1, 3, 3, 2, 1, 2, 1, 3, 1, 2, 2, 2, 1, 2, 3, 3, 1, 2, 2, 2, 2, 3, 2, 1, 2, 2, 4, 4, 2, 3, 3, 4, 2, 3, 1, 1, 1, 1, 1, 1, 1, 1, 1, 1, 1, 3, 2, 3, 3, 3, 3, 3, 3, 3, 2, 2, 2, 3, 4, 2, 3, 3, 3, 3, 4, 3, 1, 1, 2, 2, 2, 2, 3, 3, 5, 2, 4, 3, 4, 3, 1, 3, 3, 3, 2, 3, 3, 3, 3, 3, 1, 4, 3, 3, 3, 3, 3, 3, 3, 3, 3, 3, 3, 3, 3, 3, 3, 2, 1, 1, 5, 5, 3, 5, 4, 3, 5, 3, 4, 3, 3, 3, 2, 2, 3, 1, 2, 2, 2, 3, 2, 4, 2, 4, 3, 2, 3, 3, 3, 4, 4, 4, 4, 3, 2, 3, 3, 3, 1, 1, 5, 2, 1, 2, 3, 2, 2, 2, 4, 3, 3, 4, 2, 4, 3, 1, 3, 4, 4, 3, 4, 3, 2, 2, 2, 3, 2, 1, 3, 1, 2, 4, 2, 2, 2, 2, 3, 3, 3, 4, 1, 4, 3, 2, 2, 3, 4, 4, 4, 4, 4, 2, 2, 3, 3, 3, 3, 1, 2, 2, 2, 2, 2, 2, 3, 2, 3, 3, 3, 1, 2, 2, 3, 3, 3, 3, 3, 3, 3, 3, 3, 3, 3, 2, 2, 2, 3, 3, 2, 2, 2, 3, 1, 3, 2, 3, 4, 3, 4, 2, 3, 3, 4, 3, 2, 2, 1, 3, 2, 6, 2, 3, 4, 1, 4, 3, 3, 3, 1, 3, 3, 3, 3, 2, 3, 2, 3, 6, 6, 6, 5, 6, 6, 6, 5, 6, 1, 4, 4, 3, 5, 2, 4, 2, 2, 2, 3, 3, 3, 4, 2, 2, 3, 2, 3, 2, 5, 6, 1, 3, 3, 3, 2, 2, 2, 3, 2, 2, 2, 4, 2, 4, 2, 3, 3, 2, 3, 3, 1, 3, 2, 4, 3, 3, 3, 3, 2, 2, 4, 3, 2, 3, 3, 3, 4, 3, 2, 3, 3, 3, 3, 2, 2, 2, 4, 3, 3, 3, 2, 3, 3, 3, 3, 3, 3, 1, 2, 2, 3, 2, 2, 2, 3, 2, 6, 4, 2, 4, 3, 2, 2, 2, 3, 3, 1, 2, 4, 3, 3, 3, 3, 3, 3, 2, 3, 3, 3, 2, 2, 2, 3, 3, 2, 3, 3, 3, 3, 3, 4, 3, 3, 1, 3, 2, 3, 3, 3, 2, 3, 2, 2, 3, 2, 2, 2, 3, 4, 3, 2, 4, 3, 1, 2, 4, 3, 5, 2, 3, 5, 3, 2, 4, 2, 3, 3, 3, 4, 3, 2, 2, 3, 4, 4, 2, 3, 4, 3, 4, 3, 4, 3, 2, 4, 2, 3, 3, 3, 3, 3, 2, 2, 2, 3, 3, 2, 3, 3, 3, 3, 4, 3, 3, 2, 2, 3, 2, 2, 3, 2, 2, 3, 3, 3, 1, 1, 2, 3, 2, 2, 2, 2, 3, 4, 2, 2, 3, 3, 4, 2, 1, 3, 2, 2, 2, 2, 2, 2, 2, 5, 2, 2, 2, 4, 2, 3, 3, 2, 3, 3, 2, 3, 3, 2, 2, 3, 4, 3, 3, 4, 3, 4, 3, 3, 3, 4, 3, 3, 3, 3, 2, 3, 3, 3, 2, 2, 2, 3, 2, 1, 2, 2, 2, 2, 2, 2, 3, 1, 2, 1, 2, 1, 2, 2, 2, 2, 4, 1, 1, 2, 1, 2, 2, 1, 1, 1, 1, 1, 1, 1, 1, 1, 1, 1, 1, 1, 1, 1, 1, 1, 1, 1, 2, 1, 2, 2, 1, 1, 1, 1, 1, 1, 1, 1, 1, 1, 1, 1, 1, 1, 1, 1, 1, 1, 1, 2, 1, 2, 2, 1, 1, 1, 1, 1, 1, 1, 1, 1, 1, 1, 1, 1, 1, 1, 1, 1, 1, 1, 2, 1, 2, 2, 1, 1, 1, 1, 1, 1, 1, 1, 1, 1, 1, 1, 1, 1, 1, 1, 1, 1, 3, 1, 1, 1, 1, 2, 2, 6, 2, 3, 3, 5, 3, 3, 2, 5, 2, 1, 2, 2, 2, 1, 2, 1, 2, 2, 1, 1, 1, 1, 1, 1, 1, 1, 1, 1, 1, 1, 1, 1, 1, 1, 1, 1, 1, 1, 1, 1, 1, 1, 1, 1, 1, 1, 1, 1, 1, 1, 1, 1, 1, 1, 1, 1, 1, 2, 2, 2, 2, 2, 2, 2, 3, 4, 2, 3, 3, 3, 4, 2, 2, 2, 3, 2, 3, 4, 2, 2, 1, 3, 1, 2, 1, 3, 3, 2, 3, 2, 4, 3, 2, 4, 3, 3, 2, 2, 3, 2, 2, 2, 3, 3, 1, 2, 2, 3, 3, 3, 4, 2, 2, 2, 2, 2, 2, 4, 3, 3, 2, 2, 3, 1, 4, 2, 3, 5, 2, 3, 3, 1, 4, 4, 3, 3, 2, 3, 3, 3, 2, 2, 2, 3, 3, 4, 3, 1, 2, 3, 1, 1, 3, 2, 4, 2, 2, 3, 1, 3, 3, 3, 2, 3, 2, 1, 1, 3, 3, 3, 3, 3, 3, 3, 2, 5, 1, 1, 1, 1, 3, 4, 4, 2, 3, 4, 3, 2, 2, 3, 4, 3, 1, 4, 2, 3, 2, 2, 2, 5, 2, 2, 2, 1, 2, 2, 2, 1, 4, 3, 2, 3, 5, 2, 3, 3, 3, 4, 2, 3, 2, 2, 3, 2, 2, 2, 3, 3, 4, 2, 2, 4, 1, 3, 2, 1, 2, 2, 2, 1, 3, 3, 1, 3, 2, 2, 3, 3, 2, 2, 3, 2, 2, 3, 2, 2, 2, 2, 2, 2, 2, 2, 3, 1, 2, 2, 1, 2, 2, 2, 5, 1, 1, 2, 3, 2, 2, 1, 1, 2, 2, 2, 3, 2, 6, 3, 2, 3, 5, 4, 4, 4, 4, 3, 1, 2, 2, 3, 5, 3, 1, 3, 2, 2, 3, 3, 3, 4, 2, 4, 2, 1, 5, 2, 4, 4, 2, 3, 3, 4, 3, 2, 3, 3, 3, 3, 3, 3, 2, 1, 3, 3, 3, 3, 4, 2, 3, 2, 2, 2, 3, 4, 2, 3, 5, 3, 5, 3, 4, 4, 3, 3, 3, 3, 3, 3, 3, 2, 2, 2, 3, 3, 2, 3, 2, 3, 3, 1, 3, 3, 4, 3, 1, 3, 3, 3, 3, 3, 2, 2, 3, 6, 3, 3, 6, 6, 6, 6, 1, 2, 3, 4, 1, 4, 2, 3, 4, 3, 2, 2, 2, 2, 1, 1, 1, 1, 2, 2, 3, 3, 5, 3, 2, 5, 3, 3, 2, 4, 2, 2, 3, 1, 3, 2, 3, 2, 2, 3, 3, 4, 2, 3, 2, 2, 3, 4, 1, 2, 3, 2, 2, 2, 2, 2, 1, 2, 2, 3, 3, 2, 2, 3, 4, 3, 3, 4, 2, 3, 2, 1, 3, 3, 3, 2, 2, 2, 1, 2, 2, 1, 5, 2, 2, 3, 2, 2, 2, 3, 3, 4, 2, 1, 4, 4, 4, 4, 3, 2, 1, 3, 1, 4, 3, 4, 4, 3, 3, 2, 1, 3, 2, 1, 3, 1, 4, 3, 4, 4, 3, 3, 2, 1, 2, 1, 2, 3, 2, 3, 4, 2, 5, 4, 2, 2, 3, 1, 4, 3, 3, 2, 2, 4, 4, 4, 4, 3, 2, 1, 3, 1, 4, 3, 4, 4, 3, 3, 2, 1, 2, 1, 2, 3, 2, 3, 4, 2, 5, 4, 2, 2, 3, 1, 4, 3, 3, 2, 2, 1, 2, 2, 1, 2, 3, 2, 3, 1, 1, 2, 3, 3, 2, 4, 2, 3, 2, 1, 3, 4, 1, 3, 3, 5, 3, 3, 2, 2, 1, 2, 2, 2, 4, 3, 2, 2, 2, 4, 5, 3, 3, 4, 4, 3, 4, 3, 2, 5, 2, 4, 4, 3, 4, 1, 3, 4, 2, 4, 3, 4, 3, 3, 3, 4, 3, 3, 3, 2, 2, 1, 2, 1, 1, 1, 1, 3, 3, 3, 2, 2, 3, 3, 3, 3, 2, 3, 4, 3, 2, 2, 3, 3, 3, 3, 2, 3, 3, 4, 3, 2, 4, 3, 2, 2, 1, 2, 2, 3, 2, 2, 2, 2, 2, 3, 4, 2, 2, 2, 3, 1, 2, 3, 3, 1, 2, 1, 4, 3, 3, 4, 3, 2, 1, 2, 2, 2, 3, 2, 1, 1, 3, 2, 2, 3, 3, 1, 1, 1, 1, 1, 2, 1, 1, 1, 1, 1, 3, 5, 2, 2, 1, 2, 3, 3, 2, 4, 2, 2, 2, 3, 4, 3, 4, 4, 1, 2, 3, 2, 2, 2, 1, 3, 3, 2, 4, 2, 1, 3, 2, 2, 4, 3, 2, 3, 4, 3, 3, 2, 3, 2, 2, 2, 2, 2, 2, 2, 3, 2, 2, 2, 2, 5, 3, 3, 3, 3, 3, 1, 2, 3, 4, 2, 3, 4, 5, 2, 3, 2, 3, 3, 5, 2, 2, 5, 3, 5, 4, 4, 4, 4, 3, 4, 3, 3, 2, 2, 2, 5, 1, 3, 5, 3, 2, 1, 2, 2, 2, 2, 3, 4, 3, 3, 3, 3, 4, 3, 1, 1, 2, 3, 3, 3, 3, 3, 2, 1, 4, 2, 3, 1, 3, 2, 4, 4, 4, 3, 4, 3, 3, 2, 3, 2, 1, 1, 1, 2, 1, 1, 3, 3, 2, 2, 2, 2, 6, 3, 2, 2, 3, 2, 3, 2, 3, 3, 5, 2, 2, 4, 5, 2, 5, 3, 3, 4, 4, 3, 3, 3, 2, 3, 2, 3, 3, 2, 4, 4, 2, 1, 3, 2, 3, 1, 2, 3, 1, 4, 4, 2, 3, 2, 2, 1, 4, 1, 3, 4, 2, 4, 5, 2, 2, 3, 3, 3, 3, 2, 3, 2, 1, 3, 3, 3, 3, 2, 2, 2, 3, 3, 5, 4, 1, 4, 4, 4, 4, 5, 5, 3, 5, 3, 2, 2, 4, 3, 2, 2, 3, 3, 2, 3, 1, 1, 1, 1, 1, 5, 5, 5, 3, 5, 3, 3, 1, 2, 3, 5, 5, 5, 5, 4, 3, 3, 2, 3, 2, 2, 3, 4, 4, 6, 5, 6, 5, 2, 6, 2, 5, 5, 4, 3, 3, 3, 3, 3, 3, 3, 3, 3, 3, 2, 3, 1, 2, 3, 3, 3, 1, 1, 1, 1, 1, 2, 2, 3, 2, 3, 3, 3, 3, 4, 2, 2, 2, 2, 2, 2, 2, 2, 3, 3, 3, 3, 3, 2, 1, 2, 2, 1, 3, 3, 3, 3, 2, 2, 2, 2, 2, 2, 3, 3, 2, 2, 2, 2, 4, 2, 3, 3, 3, 3, 1, 2, 1, 1, 1, 2, 2, 3, 3, 3, 2, 3, 2, 5, 3, 2, 3, 2, 4, 4, 3, 2, 2, 2, 1, 4, 3, 2, 4, 3, 3, 3, 3, 3, 3, 3, 2, 3, 2, 2, 2, 1, 2, 1, 1, 1, 1, 1, 4, 4, 3, 2, 5, 3, 4, 3, 4, 5, 4, 3, 3, 2, 3, 2, 2, 3, 3, 2, 3, 1, 4, 2, 3, 2, 3, 3, 2, 2, 4, 3, 2, 2, 1, 2, 2, 1, 4, 1, 1, 2, 2, 3, 3, 3, 4, 3, 2, 2, 1, 1, 1, 1, 1, 1, 1, 1, 1, 1, 1, 3, 3, 3, 3, 3, 3, 3, 3, 3, 3, 3, 2, 3, 2, 1, 1, 1, 4, 2, 2, 2, 1, 2, 2, 5, 5, 2, 2, 2, 1, 2, 4, 3, 2, 3, 3, 2, 3, 3, 3, 1, 2, 3, 3, 4, 3, 2, 3, 2, 5, 2, 3, 4, 1, 2, 3, 2, 2, 3, 3, 1, 3, 2, 3, 4, 3, 3, 3, 1, 3, 2, 3, 2, 1, 2, 3, 3, 3, 2, 3, 2, 3, 2, 2, 2, 2, 4, 4, 2, 3, 2, 2, 2, 2, 2, 3, 5, 2, 4, 4, 1, 3, 3, 4, 3, 4, 3, 3, 3, 3, 3, 3, 4, 3, 4, 4, 4, 3, 3, 3, 3, 2, 2, 3, 2, 3, 3, 3, 2, 2, 3, 2, 2, 1, 4, 3, 2, 1, 1, 1, 1, 4, 1, 3, 3, 3, 3, 2, 2, 3, 3, 3, 4, 3, 5, 4, 1, 1, 1, 1, 1, 1, 3, 1, 1, 1, 3, 3, 3, 4, 3, 3, 3, 3, 5, 3, 2, 2, 4, 3, 5, 3, 4, 2, 2, 2, 1, 5, 4, 4, 4, 5, 4, 3, 2, 3, 3, 2, 3, 2, 2, 2, 3, 3, 3, 2, 3, 2, 3, 2, 2, 2, 3, 2, 3, 3, 2, 3, 2, 3, 2, 2, 3, 2, 2, 4, 5, 5, 2, 5, 2, 3, 3, 4, 5, 5, 4, 5, 4, 4, 4, 3, 3, 3, 3, 2, 2, 2, 4, 4, 3, 3, 3, 2, 2, 2, 1, 1, 2, 2, 2, 1, 1, 2, 1, 1, 3, 2, 2, 4, 3, 2, 4, 3, 3, 1, 1, 5, 3, 2, 3, 2, 2, 3, 2, 2, 4, 4, 1, 1, 3, 3, 3, 2, 3, 3, 3, 2, 2, 2, 3, 3, 3, 3, 2, 3, 3, 3, 3, 3, 4, 2, 3, 2, 4, 2, 2, 2, 4, 3, 3, 4, 3, 2, 3, 2, 3, 3, 3, 2, 4, 4, 3, 2, 2, 3, 3, 4, 4, 3, 2, 3, 4, 2, 2, 3, 3, 3, 3, 3, 2, 3, 3, 3, 3, 4, 4, 3, 2, 3, 2, 3, 3, 3, 3, 4, 4, 2, 3, 2, 3, 3, 2, 2, 2, 2, 2, 3, 2, 4, 3, 2, 3, 4, 2, 3, 2, 3, 3, 3, 3], \"x0\": \" \", \"xaxis\": \"x\", \"y\": [10700, 7024, 9400, 10300, 9700, 9200, 10850, 7024, 7024, 10670, 13014, 9000, 9400, 13000, 14000, 10200, 10200, 10239, 14200, 8548, 11600, 11966, 8537, 10320, 11020, 9575, 9440, 7750, 15200, 8899, 10200, 13901, 10320, 23620, 20120, 23620, 20000, 20620, 23620, 20120, 8000, 7700, 8500, 7433, 7702, 8000, 8000, 7422, 8950, 5437, 26620, 8000, 7800, 20120, 8500, 23620, 21620, 10058, 10343, 10901, 23620, 23620, 21620, 20000, 20620, 23620, 20120, 12809, 12761, 12100, 11051, 7450, 7399, 7407, 7954, 10800, 10200, 10750, 12925, 7851, 10151, 8394, 9668, 12925, 10072, 8760, 10134, 11245, 10524, 7800, 8300, 6802, 8728, 8765, 8350, 10724, 5793, 10200, 10200, 10790, 10997, 6295, 6997, 5497, 6997, 5845, 5543, 10259, 9493, 7957, 7300, 9450, 9900, 9550, 8766, 8477, 8300, 11505, 8100, 11624, 11501, 10229, 7800, 8000, 9800, 14108, 14532, 12625, 9190, 8546, 8617, 11054, 10807, 12637, 12487, 10312, 9601, 9742, 8546, 8911, 12809, 9024, 9727, 12761, 10400, 8950, 9750, 10400, 9700, 9250, 8550, 8900, 10555, 9650, 9650, 9100, 8350, 8600, 9500, 10000, 9600, 8800, 10677, 7887, 8813, 10723, 10045, 5100, 7900, 9200, 9650, 7750, 11350, 10450, 15066, 7563, 7593, 8151, 8004, 9080, 14364, 14310, 15984, 8300, 9800, 9200, 9200, 8600, 8700, 8500, 10400, 9200, 10600, 8500, 8500, 9792, 9588, 7801, 12939, 7801, 14222, 12147, 11402, 10500, 12239, 8400, 10848, 12286, 9148, 11234, 9823, 10427, 12694, 12090, 6802, 10735, 12419, 10913, 15990, 16298, 11018, 7407, 7401, 9000, 9100, 9500, 9500, 9700, 9500, 9900, 9600, 9500, 9450, 10100, 10250, 8950, 10358, 10838, 8342, 17835, 17220, 9250, 9300, 9400, 9400, 9400, 9200, 9326, 9400, 9400, 9400, 9200, 9300, 9300, 9300, 9100, 9300, 9225, 9400, 9400, 18500, 9200, 9100, 11801, 9000, 9200, 9200, 9125, 9200, 9200, 9200, 9200, 8900, 8900, 6196, 8960, 9800, 7400, 9500, 9100, 13500, 8749, 7699, 5796, 10360, 11964, 14094, 14742, 11300, 12124, 8305, 9336, 9703, 9552, 9550, 9769, 9670, 9897, 9730, 12152, 11000, 7931, 9297, 8837, 7671, 9800, 9800, 10100, 10250, 9900, 10800, 10100, 10000, 10300, 9500, 10000, 10300, 14202, 9948, 6196, 8024, 7600, 5993, 5193, 6989, 10900, 11900, 9100, 6941, 7252, 14084, 15914, 7333, 7368, 7245, 7269, 10094, 10800, 8844, 8838, 11000, 10376, 14100, 9321, 9524, 9054, 8901, 14222, 12939, 8392, 8907, 13500, 8893, 9000, 9100, 9600, 9100, 9100, 9000, 8900, 9000, 9100, 9100, 9200, 9000, 9600, 9000, 9400, 9300, 9400, 8600, 8600, 8800, 8350, 8450, 10000, 7700, 12147, 7302, 8795, 8921, 10806, 9800, 13016, 7700, 17172, 9346, 10239, 5250, 9881, 12000, 7400, 11634, 8100, 13584, 11084, 10914, 10583, 16605, 16605, 18450, 12000, 15387, 14499, 11400, 12500, 12000, 13300, 9430, 9582, 10700, 10894, 10465, 7564, 7400, 7397, 9529, 9695, 10369, 10700, 9900, 10200, 14472, 15012, 10200, 12500, 11800, 14760, 10200, 9452, 8832, 17220, 17220, 16605, 17835, 18450, 17835, 9150, 9529, 10500, 11402, 12679, 10875, 9089, 6299, 6500, 8900, 6500, 7100, 6900, 7100, 7100, 7100, 6770, 6500, 6100, 12572, 6900, 11759, 11524, 11262, 12288, 12980, 12955, 10433, 10107, 8367, 8367, 9297, 19065, 16605, 18450, 9900, 9825, 9700, 9625, 7440, 9659, 9960, 9400, 10055, 10048, 11663, 10786, 10000, 13191, 9596, 11500, 10350, 10894, 25000, 11800, 6269, 7714, 10320, 8785, 9524, 7700, 10772, 9273, 8111, 10635, 8400, 12239, 7902, 7617, 9800, 9150, 8626, 12700, 13500, 7902, 8057, 14000, 9149, 8212, 8900, 14900, 8342, 8984, 15000, 8208, 10991, 8522, 9500, 7950, 7400, 9800, 10350, 14500, 9600, 9844, 9750, 12100, 7650, 10743, 9825, 14496, 9477, 9800, 9850, 9444, 12100, 12012, 10500, 6975, 5530, 5513, 9126, 10848, 5800, 6223, 6346, 7875, 9148, 14168, 10200, 8785, 9524, 9600, 9396, 8600, 10837, 14734, 10538, 11725, 12000, 14000, 10437, 14000, 14000, 9500, 9500, 9300, 9300, 9300, 8400, 7400, 7400, 15300, 8638, 10200, 9900, 10050, 10000, 11106, 9525, 10700, 10600, 10400, 9198, 10057, 10623, 7721, 8800, 15000, 11234, 17528, 16298, 7800, 9518, 10728, 7400, 9650, 9650, 11154, 9517, 12694, 12286, 15200, 16250, 9823, 12900, 12000, 13300, 12300, 8400, 8900, 8400, 10427, 13434, 8600, 9000, 8900, 9800, 9500, 14900, 9800, 10304, 13900, 9450, 9545, 10575, 9950, 10500, 10200, 9700, 8810, 8183, 8183, 9121, 8810, 7805, 9638, 10424, 8100, 10435, 10965, 11469, 9371, 10468, 10997, 9582, 9606, 12000, 7862, 9263, 9056, 8367, 6299, 8402, 8900, 14978, 11800, 13300, 10013, 9946, 9914, 10468, 10567, 12986, 9574, 9898, 7814, 8104, 11117, 10361, 7600, 12140, 10699, 11630, 8100, 10110, 10420, 9400, 7900, 10580, 10045, 10600, 11900, 12795, 10692, 9996, 10322, 8342, 8212, 8978, 12594, 9100, 10433, 10278, 10278, 10433, 10588, 10743, 10433, 10898, 10743, 14900, 13990, 7445, 9400, 7795, 11732, 7375, 5893, 7818, 13594, 9008, 9523, 9882, 13600, 7336, 9974, 10968, 9818, 9400, 10304, 9824, 7059, 5602, 9800, 11812, 12600, 9486, 12681, 12482, 13362, 12449, 9644, 8212, 9865, 8987, 9865, 10761, 9452, 9160, 8342, 13246, 23310, 12600, 12700, 12800, 10950, 12400, 12200, 7637, 8181, 7606, 8342, 9842, 8000, 11081, 11154, 9644, 7700, 7700, 9100, 7650, 7950, 10728, 7800, 13300, 9948, 10200, 9700, 9900, 10200, 10200, 9700, 10200, 9900, 10200, 10200, 9900, 9900, 9900, 10200, 10200, 10200, 10250, 10150, 10200, 10200, 10200, 10750, 9900, 9900, 9911, 10072, 10013, 9917, 9455, 10332, 9838, 10463, 5099, 7947, 7520, 8909, 8477, 8900, 6892, 5825, 9000, 9000, 7400, 5540, 17062, 6027, 7968, 17172, 8092, 6682, 6415, 10550, 9946, 9710, 10072, 10550, 11900, 11725, 10550, 10550, 9325, 11725, 11900, 9925, 11725, 11725, 11725, 11725, 11725, 10550, 11725, 11900, 8752, 9540, 9529, 7482, 6996, 9500, 9148, 10011, 10429, 9255, 9385, 10471, 5897, 9625, 10200, 10200, 10200, 10200, 9900, 9900, 9900, 10200, 9700, 10200, 10200, 10200, 10200, 9900, 9900, 5404, 9504, 11556, 6449, 8342, 9989, 10000, 10000, 10000, 10000, 8500, 8500, 25000, 10020, 10734, 10278, 10294, 9000, 9000, 10000, 8500, 10000, 8800, 8800, 9000, 9200, 8700, 9000, 9800, 7800, 9000, 7400, 9018, 9288, 9288, 11600, 12100, 12500, 17835, 8522, 15068, 9144, 14500, 9091, 9865, 8212, 8522, 10330, 8832, 10175, 10898, 10743, 14967, 8212, 8419, 11100, 11800, 13000, 10400, 10900, 15990, 18757, 15375, 14500, 8946, 8763, 8111, 8789, 10487, 10386, 10225, 8200, 8100, 8200, 8342, 8367, 8367, 8057, 9865, 8070, 8600, 11800, 5650, 6299, 9686, 9150, 7700, 8200, 7750, 13800, 11296, 8100, 8100, 8400, 9621, 10827, 7650, 9788, 13816, 6700, 11500, 11500, 7944, 6300, 9122, 10011, 9442, 9155, 9481, 9148, 9596, 9385, 10772, 12201, 15500, 7984, 13000, 9668, 9900, 10200, 9900, 9700, 8946, 8979, 14000, 14000, 12000, 14000, 13212, 9668, 12183, 9126, 9296, 12761, 12375, 9802, 5490, 5490, 5490, 5490, 5490, 5451, 5490, 5490, 6590, 6590, 6590, 6590, 6590, 6590, 6590, 6590, 8100, 5590, 6690, 7438, 12000, 12000, 12000, 12000, 10000, 10500, 8500, 9800, 10153, 10123, 10011, 8900, 9000, 7400, 8850, 9150, 9150, 8150, 9150, 9455, 9946, 7818, 7400, 8400, 8400, 9500, 9800, 9300, 8400, 8990, 12240, 6200, 11900, 9750, 9900, 9750, 9100, 12800, 10305, 7750, 9100, 11900, 10700, 10800, 10600, 10700, 9900, 9900, 12820, 11210, 9100, 11000, 10840, 10512, 10110, 9590, 10370, 9640, 9440, 8100, 7600, 9000, 7500, 10210, 11630, 12240, 11020, 11930, 9410, 9810, 10700, 10320, 12600, 12040, 12040, 12860, 10890, 12600, 12380, 12440, 12230, 10900, 12330, 9730, 10680, 12490, 12280, 8980, 11850, 10830, 11130, 10620, 11240, 10730, 10220, 11130, 11130, 10320, 11030, 10930, 9710, 9865, 9500, 10420, 10457, 10188, 10137, 9958, 9667, 10246, 10354, 10234, 10350, 10286, 10510, 10050, 9400, 9200, 7400, 9400, 9300, 7949, 7949, 7699, 9000, 7950, 9550, 9150, 17220, 14170, 14500, 15000, 12100, 14500, 10700, 6200, 9346, 12487, 12174, 9200, 9724, 9385, 12000, 9300, 8573, 9500, 10300, 12000, 13000, 6793, 10700, 6500, 6500, 14170, 11367, 14315, 11262, 14108, 11367, 9211, 9191, 9960, 9790, 8400, 10705, 10544, 10827, 10796, 10544, 7977, 9000, 9800, 9100, 8900, 8500, 6500, 8000, 10900, 10890, 11490, 10600, 10800, 10500, 11020, 7800, 12800, 13101, 10050, 11900, 11350, 11725, 11725, 11725, 9625, 11725, 11725, 7650, 7650, 7650, 11900, 10550, 11900, 9700, 11900, 11350, 10200, 11350, 11800, 8495, 8207, 9700, 10550, 11350, 11350, 11282, 11350, 9700, 10200, 11900, 9800, 13400, 10997, 10072, 11598, 10557, 7699, 7949, 10000, 13000, 13700, 13100, 40000, 23620, 40000, 20120, 23620, 20120, 20120, 14300, 13700, 8900, 8300, 11500, 11200, 12800, 11700, 12500, 11200, 11100, 9000, 9000, 9000, 7800, 7400, 9000, 7800, 7831, 7800, 9559, 8892, 10304, 9873, 9768, 10898, 10743, 10436, 10743, 10351, 9297, 8308, 11130, 10041, 14500, 14900, 9628, 12600, 13700, 8867, 11050, 15300, 11900, 11550, 13450, 11550, 11900, 14000, 15000, 14000, 10905, 10153, 10784, 9346, 10931, 7800, 7800, 14315, 10626, 10772, 12540, 10772, 10926, 12540, 13362, 12898, 11524, 15582, 7950, 15074, 15626, 6299, 9126, 11925, 9916, 8911, 15887, 8050, 8900, 9125, 8475, 7764, 12650, 11721, 12247, 8300, 7800, 7800, 9100, 7500, 11793, 9800, 12000, 9625, 7650, 9057, 14983, 15959, 16038, 15065, 11630, 12500, 8915, 8278, 11600, 11628, 11602, 6200, 10123, 9768, 10350, 11600, 10950, 12000, 7900, 10072, 7850, 7792, 7399, 8400, 9250, 9700, 10300, 8911, 7432, 10320, 10013, 9946, 9442, 10048, 12500, 12600, 10920, 10212, 11262, 12540, 11955, 9886, 15582, 10567, 10429, 11812, 10020, 7800, 8400, 7564, 10700, 10210, 10900, 10926, 8959, 9750, 7675, 12000, 12500, 11500, 11900, 10000, 10700, 11200, 9000, 11341, 10618, 11682, 11262, 7651, 8204, 11200, 10620, 9800, 9477, 9346, 8760, 7736, 11142, 9019, 10700, 8093, 8400, 8400, 8400, 7700, 8400, 8400, 8400, 8400, 7800, 10650, 12506, 8517, 12455, 9300, 9300, 12000, 7817, 9500, 9500, 9300, 13521, 20620, 8622, 10278, 8212, 10699, 9510, 8500, 8500, 8400, 8400, 7700, 8400, 8500, 8500, 10692, 7806, 11450, 19000, 8175, 8048, 11234, 11716, 12908, 9355, 9628, 8900, 8595, 9000, 7801, 7800, 7800, 8998, 7800, 9293, 8397, 19000, 19000, 18000, 18000, 17000, 17000, 16000, 16000, 15000, 15000, 15000, 7700, 7950, 6200, 10608, 8911, 10790, 10935, 10384, 8400, 8400, 9450, 9250, 10150, 10151, 8500, 9000, 7800, 9300, 20000, 12000, 9625, 8678, 12000, 12500, 12892, 10465, 10465, 9151, 12450, 12925, 10550, 10778, 12046, 5856, 9848, 9557, 9128, 10427, 9638, 9734, 11635, 11253, 10397, 9287, 9658, 11209, 9790, 8400, 9946, 9293, 7695, 8397, 9000, 8397, 7400, 8382, 7700, 7800, 8500, 7800, 7800, 8400, 7995, 17490, 7800, 9000, 7400, 7800, 7792, 9732, 10700, 8907, 8907, 9034, 9800, 10304, 8500, 11055, 10886, 10119, 8958, 9544, 9800, 9800, 8899, 9500, 12452, 12941, 11350, 9700, 9900, 14020, 11055, 11139, 10464, 10754, 11262, 8000, 7404, 9087, 9799, 7888, 7876, 7863, 7898, 11367, 10492, 7199, 8400, 7400, 11000, 11276, 12448, 8222, 12708, 8190, 10300, 12500, 8885, 9191, 8892, 9497, 9122, 13300, 12300, 11812, 9541, 9618, 7750, 7650, 11287, 9862, 10596, 9615, 10371, 10782, 9402, 9718, 10582, 9151, 9693, 7149, 9825, 8760, 9444, 8780, 7941, 6196, 11183, 8492, 8280, 9109, 9473, 8333, 9879, 10360, 10333, 10835, 7800, 9664, 11615, 9400, 9300, 7900, 9200, 8707, 8900, 7900, 9500, 8500, 8500, 9100, 9400, 9400, 9100, 9400, 9200, 9400, 9200, 8000, 7700, 9500, 9300, 9300, 8400, 8500, 8400, 8400, 8400, 8601, 8600, 7700, 9300, 7761, 9550, 9300, 9500, 9400, 12183, 10761, 12174, 12711, 9900, 11162, 9900, 10620, 13792, 10200, 9900, 10200, 12772, 13216, 13293, 11111, 10006, 10200, 10200, 6700, 10150, 9700, 11599, 10250, 8832, 13300, 10110, 11000, 10790, 10330, 10320, 9490, 8110, 14000, 11061, 14100, 12500, 13700, 13100, 8459, 9863, 9752, 8419, 11570, 9309, 9460, 10722, 10433, 9977, 6700, 6700, 6700, 7800, 9160, 7800, 8212, 8000, 8832, 10068, 10452, 10685, 9900, 10300, 10200, 8890, 9625, 9900, 10200, 12000, 12637, 10442, 6528, 10050, 7003, 9719, 10474, 10746, 9597, 10692, 26494, 11866, 10123, 10800, 11970, 10798, 10692, 10129, 8760, 8760, 8533, 13591, 13813, 14463, 14341, 13785, 13852, 14162, 15633, 15633, 14143, 14040, 14041, 14162, 16086, 14277, 14747, 14578, 14251, 14084, 14865, 15951, 15951, 14171, 13591, 13813, 14463, 14341, 13785, 13852, 14162, 15633, 15633, 14143, 14040, 14041, 14162, 16086, 14277, 14747, 14578, 14251, 14084, 14865, 15951, 15951, 14171, 13333, 13550, 14211, 14068, 13546, 13611, 13892, 15336, 15336, 14139, 13772, 13773, 13893, 15780, 14006, 14466, 14300, 13979, 13816, 14581, 15647, 15647, 13901, 13333, 13550, 14211, 14068, 13546, 13611, 13892, 15336, 15336, 14139, 13772, 13773, 13893, 15780, 14006, 14466, 14300, 13979, 13816, 14581, 15647, 15647, 13901, 13856, 13176, 13481, 10000, 9900, 10000, 10134, 7622, 12000, 9473, 8235, 9109, 8280, 8492, 9465, 10208, 6200, 10154, 11262, 10371, 10339, 12637, 14079, 14458, 14593, 13893, 14062, 14275, 15497, 15497, 14526, 14175, 14165, 14023, 16108, 14273, 14752, 14579, 14246, 14156, 14981, 15811, 15811, 14291, 13856, 13989, 14338, 14319, 13752, 14098, 15392, 15392, 14526, 14175, 14077, 13936, 16008, 14184, 14660, 14489, 14157, 14068, 14526, 15707, 15707, 13936, 11222, 9425, 10800, 9844, 10076, 8788, 9495, 8651, 7158, 9605, 8844, 8838, 8607, 11690, 11276, 11276, 9800, 10926, 12703, 8724, 8899, 10128, 9750, 9768, 9346, 10156, 10911, 20120, 11706, 10772, 14319, 12500, 8752, 7400, 7800, 9000, 7900, 9450, 9100, 9200, 10600, 15496, 11925, 13600, 9437, 7727, 9558, 10699, 8775, 10241, 7650, 7650, 7750, 7575, 10152, 10377, 12947, 10800, 12724, 12448, 9090, 10621, 9248, 18143, 9873, 10635, 10100, 9250, 9750, 9450, 8273, 11028, 9259, 9300, 20120, 10800, 10300, 10700, 11600, 8684, 11407, 12000, 11170, 11440, 9900, 9900, 10650, 9200, 10092, 8626, 10820, 11200, 12000, 11220, 10700, 8054, 11900, 7600, 11900, 12600, 10900, 13500, 5488, 7359, 7399, 10911, 13000, 8430, 13921, 14379, 14121, 13490, 13537, 12453, 12809, 8012, 8673, 9884, 22500, 14478, 14547, 14339, 15000, 12500, 8899, 9601, 9807, 12600, 8819, 9159, 12400, 13743, 9290, 15160, 8434, 13500, 8300, 6499, 8900, 13000, 10300, 10300, 7818, 10800, 10950, 10978, 12900, 10890, 11990, 11900, 13000, 11500, 13000, 13500, 11800, 7950, 10110, 8050, 8400, 9027, 8441, 11000, 8951, 10890, 12352, 8675, 7731, 9047, 9591, 8360, 8859, 11988, 10730, 10520, 10570, 14000, 10700, 10800, 10820, 10500, 11230, 13000, 13300, 11800, 12000, 14000, 13500, 9778, 12035, 12300, 9802, 12352, 12500, 12000, 10400, 10300, 10300, 10600, 10600, 11985, 10890, 10800, 10890, 11200, 9750, 7950, 13300, 13297, 10600, 11220, 11900, 10600, 10521, 8900, 15336, 14981, 8546, 10097, 10800, 10315, 10798, 13300, 9384, 9500, 9550, 9250, 9750, 25000, 12350, 8835, 12500, 13200, 13498, 13600, 13300, 12689, 13300, 10200, 10050, 9800, 10688, 9237, 9802, 10106, 7586, 8999, 9734, 8392, 7300, 7552, 7300, 8500, 7400, 7860, 9875, 6234, 9556, 9750, 7700, 9732, 9402, 9761, 9224, 7944, 7100, 10549, 10930, 8671, 8900, 7590, 7622, 14417, 14602, 10500, 9800, 7860, 10990, 10600, 9800, 8820, 8993, 8542, 8583, 9017, 12000, 9187, 11407, 10129, 11170, 14200, 10588, 10096, 8349, 8458, 9086, 7383, 7517, 11941, 7340, 8400, 16200, 16700, 16200, 11018, 10270, 9577, 11200, 12900, 12100, 10700, 14258, 7400, 8900, 11043, 8500, 15000, 7489, 7431, 6966, 7427, 10921, 15389, 15394, 9000, 8838, 9497, 7950, 24348, 24348, 25000, 23913, 13906, 9000, 12901, 10996, 13627, 12466, 10000, 11809, 10516, 16193, 7024, 7024, 7748, 8044, 13300, 14000, 13300, 14000, 12500, 13000, 12000, 11800, 20000, 12000, 10450, 6200, 7950, 9400, 9231, 9364, 9924, 9970, 8511, 10569, 13000, 11734, 14000, 12000, 9496, 12460, 9731, 11801, 9025, 12279, 12618, 10630, 9933, 8394, 13800, 11183, 7950, 9126, 9164, 11630, 8744, 9238, 14000, 15500, 9600, 9150, 9150, 9550, 9900, 9150, 7269, 8788, 13000, 29412, 6499, 5550, 6499, 13000, 8071, 8546, 8524, 9284, 9126, 9970, 10655, 9126, 9970, 10655, 6200, 9415, 10415, 5808, 11505, 10522, 10010, 8536, 10304, 8939, 10784, 17200, 8939, 7325, 6321, 6998, 11800, 12100, 12600, 7300, 15200, 9200, 14977, 12500, 11500, 9200, 11550, 11150, 15400, 11800, 12100, 12600, 7300, 15200, 9200, 14977, 12500, 11500, 9200, 11550, 11150, 15400, 16650, 14100, 15300, 9400, 10600, 16650, 9100, 10800, 7300, 7900, 6999, 9200, 6449, 14000, 12500, 11500, 12500, 13007, 8700, 8939, 7325, 6321, 6998, 11800, 12100, 12600, 7300, 15200, 9200, 14977, 12500, 11500, 9200, 11550, 11150, 15400, 16650, 14100, 15300, 9400, 10600, 16650, 9100, 10800, 7300, 7900, 6999, 9200, 6449, 14000, 12500, 11500, 12500, 13007, 8700, 12392, 8500, 12500, 12076, 9496, 8244, 8556, 9500, 14922, 15700, 10478, 11500, 8500, 10400, 7900, 10600, 9600, 9200, 9500, 9500, 15350, 9800, 11150, 12050, 15350, 11650, 9600, 18583, 8400, 13611, 14000, 12282, 12500, 15000, 13000, 9800, 9500, 9800, 8300, 14700, 12800, 11800, 12500, 15000, 11800, 7900, 8900, 8900, 14576, 9200, 7900, 14700, 7200, 7100, 8100, 9400, 5550, 5897, 6199, 5749, 5700, 6649, 9400, 9100, 8400, 9100, 15200, 11800, 10500, 13000, 14000, 13000, 14609, 14583, 13703, 14592, 11304, 9200, 9100, 10800, 11654, 8853, 9350, 9146, 10507, 10300, 10000, 9214, 7700, 8600, 9100, 7100, 14202, 8273, 10417, 12171, 9831, 7563, 8441, 19525, 7269, 7101, 7822, 8067, 9152, 10000, 14952, 8183, 9380, 12560, 12200, 11500, 10950, 12000, 11500, 7700, 8517, 9268, 9462, 8500, 10000, 8155, 7057, 8086, 10697, 9350, 9550, 7448, 8000, 9328, 7500, 8500, 9753, 12469, 13555, 10455, 6814, 6430, 9500, 9950, 14500, 12419, 13000, 7566, 6851, 6984, 15674, 14660, 14411, 14612, 14533, 14328, 14609, 14258, 15600, 14521, 8904, 14966, 13500, 12655, 12742, 12375, 9550, 8673, 8012, 8993, 8573, 9856, 9068, 9523, 7920, 10000, 8599, 7575, 10400, 11250, 12400, 10800, 17291, 18327, 12600, 17500, 22000, 17500, 7541, 15000, 17500, 17500, 9800, 8563, 8716, 7400, 7400, 8400, 7700, 7700, 8400, 8400, 8500, 8500, 9000, 9300, 9300, 9300, 9500, 9000, 9000, 7800, 8300, 9850, 10000, 8300, 7950, 8035, 8012, 8673, 12300, 12097, 11700, 9500, 7200, 11100, 7600, 9668, 6950, 7467, 8993, 10500, 12200, 10800, 7950, 6200, 10110, 9934, 6941, 9844, 7132, 12500, 8300, 7900, 7900, 8500, 8300, 9100, 9600, 9200, 9200, 10600, 6941, 14000, 8300, 8600, 7999, 8745, 10235, 9577, 9800, 8500, 16999, 11500, 12500, 11800, 12300, 11800, 11800, 13000, 13000, 14000, 14000, 11930, 11000, 11600, 11150, 11200, 12100, 10300, 12600, 18286, 21871, 17999, 8891, 9207, 9866, 13300, 13600, 12000, 12800, 12600, 13500, 13000, 13000, 13400, 13100, 15900, 14100, 8814, 9000, 15247, 16900, 26999, 9325, 8400, 9300, 9500, 13000, 25000, 14000, 14000, 14000, 13000, 13000, 13000, 13000, 14000, 7544, 6710, 15500, 15500, 9946, 10976, 16526, 17500, 17500, 12882, 7149, 13300, 13300, 8990, 9947, 13011, 10467, 12352, 9324, 8123, 9218, 8667, 8899, 10145, 9590, 11850, 9700, 9500, 11500, 10610, 9541, 12290, 12700, 7404, 8000, 8000, 7300, 12765, 14539, 7166, 10314, 7522, 7200, 9868, 8900, 8514, 8100, 8000, 8710, 8710, 8900, 9600, 9750, 9900, 10250, 10080, 8888, 7902, 8438, 8458, 8865, 9946, 10723, 8367, 8832, 8372, 7656, 10000, 6292, 7239, 7193, 7079, 8377, 8292, 10000, 9020, 11080, 14731, 11822, 9493, 9684, 11051, 11048, 10240, 8900, 9800, 20370, 19978, 20536, 18680, 17306, 18766, 11838, 11850, 15249, 15102, 13496, 15810, 16650, 15400, 16650, 12041, 11895, 12086, 14669, 7158, 8700, 8900, 8200, 9400, 8900, 8200, 8700, 8700, 6664, 6442, 20000, 17826, 16870, 17304, 12655, 9999, 12800, 10557, 8790, 4999, 6199, 9200, 9200, 9200, 8900, 9000, 9000, 9200, 8900, 9200, 9300, 9000, 14500, 9500, 9300, 10304, 9950, 13500, 14500, 15000, 14000, 15500, 9714, 12000, 9700, 9500, 9200, 10100, 8800, 8500, 7700, 8904, 8617, 8319, 8430, 8103, 8739, 8562, 8573, 7400, 9200, 9300, 9490, 9487, 9800, 11500, 10150, 10930, 11500, 9500, 9100, 7884, 7884, 8837, 10500, 9387, 10200, 13500, 9968, 8650, 8950, 9628, 9857, 10397, 9968, 9600, 9600, 10850, 9800, 8400, 7700, 13100, 13750, 13500, 13000, 13244, 9859, 9680, 9327, 8848, 8779, 9549, 7898, 10000, 7345, 8920, 9500, 9000, 8750, 10000, 9000, 8900, 9800, 13000, 13000, 14000, 15000, 11500, 12500, 15000, 13485, 13290, 14500, 12800, 9800, 9625, 9900, 9450, 9900, 9925, 10550, 9700, 11725, 11343, 11725, 11900, 11725, 11900, 11725, 9325, 11300, 8850, 15887, 15225, 14400, 19964, 8285, 12593, 8251, 8467, 8255, 7681, 7981, 7895, 8841, 13014, 10918, 10807, 12292, 12980, 13792, 13399, 13286, 13300, 14071, 7700, 8500, 9300, 9500, 11300, 9700, 11350, 9425, 11900, 7650, 8850, 14481, 7575, 15661, 14490, 9300, 9300, 10800, 8862, 8239, 8334, 9845, 15990, 16913, 18346, 16605, 15990, 16912, 16605, 16605, 18142, 16912, 18268, 17835, 18450, 7803, 9000, 8900, 8900, 9200, 9200, 8900, 9000, 9200, 8900, 9850, 9160, 7834, 13161, 17473, 13167, 11439, 14653, 15081, 16097, 14033, 12967, 11850, 13414, 8325, 8220, 10414, 10542, 7800, 11502, 13700, 13500, 12800, 9865, 10485, 8888, 8367, 8520, 9182, 9915, 10112, 9245, 9112, 9700, 7600, 7800, 9440, 9100, 10950, 20000, 13800, 12000, 8500, 14500, 8942, 8500, 10600, 9200, 11200, 11050, 15300, 12200, 11600, 11800, 11500, 11500, 12500, 13000, 13500, 8902, 13000, 9161, 9464, 10417, 9341, 10600, 11700, 10600, 11500, 7750, 14000, 13004, 8715, 8614, 9900, 10000, 9700, 10067, 24999, 10618, 13692, 12510, 11276, 12681, 11367, 10150, 20491, 12237, 8892, 8780, 15197, 12900, 7700, 11330, 7802, 7802, 7500, 8005, 8106, 8106, 8208, 8309, 7700, 7700, 7700, 7700, 7700, 7700, 8400, 8502, 8401, 8500, 8500, 8401, 8000, 7650, 6950, 7200, 8100, 8100, 7650, 8200, 8200, 8100, 20000, 12000, 13500, 13300, 14000, 14000, 14500, 7800, 13300, 10381, 10792, 10784, 11004, 12207, 12928, 8660, 9900, 22000, 13483, 12074, 13351, 13500, 13932, 13500, 13933, 13825, 13501, 14685, 11799, 13932, 13501, 13825, 12440, 8416, 7813, 8585, 5700, 6600, 6600, 6192, 5800, 6800, 5900, 6902, 8900, 7170, 5400, 7200, 9100, 7300, 10550, 10550, 9982, 7399, 7699, 7449, 7918, 7349, 8217, 7699, 11367, 9600, 9200, 9100, 9600, 10200, 10200, 10200, 10300, 10400, 9100, 10400, 9500, 9000, 9500, 10100, 10100, 10100, 10200, 10300, 10300, 9400, 8900, 9000, 10100, 9500, 10000, 10100, 10200, 10200, 8926, 25377, 6094, 7181, 9220, 15500, 9200, 10283, 10050, 10221, 7612, 8093, 9649, 8298, 8464, 9500, 8560, 8074, 8089, 8179, 7740, 11347, 11130, 7821, 10899, 10899, 9499, 9299, 9499, 10438, 12510, 10750, 12000, 11000, 16500, 9384, 9440, 10676, 10415, 6746, 5614, 11251, 10300, 11290, 11900, 7949, 7699, 10000, 12823, 11098, 12077, 13000, 14200, 15057, 10999, 9724, 9207, 9940, 9866, 8600, 9200, 9400, 6414, 6570, 8891, 8814, 9811, 9801, 9990, 10547, 9750, 9759, 9553, 9949, 10577, 10323, 9598, 9647, 9747, 9747, 9969, 9955, 9595, 9909, 9501, 9706, 9291, 10013, 9751, 9972, 9445, 9906, 10397, 9756, 9163, 9657, 9906, 9798, 9265, 10966, 9447, 10120, 9628, 9572, 9367, 10158, 9470, 9244, 9399, 10216, 9691, 9387, 9760, 9105, 8956, 9545, 9603, 9804, 8799, 9968, 10709, 9702, 9424, 9553, 9340, 9338, 9641, 9298, 9396, 9398, 9337, 8831, 9057, 9449, 9661, 9285, 7275, 9283, 9241, 9206, 9112, 8985, 8670, 9901, 9442, 9642, 9479, 9299, 9445, 9857, 9445, 9445, 10010, 9219, 10377, 8910, 9038, 9387, 8984, 8830, 9453, 9503, 9995, 8916, 9056, 9394, 9032], \"y0\": \" \", \"yaxis\": \"y\"}],\n",
              "                        {\"boxmode\": \"group\", \"legend\": {\"tracegroupgap\": 0}, \"template\": {\"data\": {\"bar\": [{\"error_x\": {\"color\": \"#2a3f5f\"}, \"error_y\": {\"color\": \"#2a3f5f\"}, \"marker\": {\"line\": {\"color\": \"#E5ECF6\", \"width\": 0.5}}, \"type\": \"bar\"}], \"barpolar\": [{\"marker\": {\"line\": {\"color\": \"#E5ECF6\", \"width\": 0.5}}, \"type\": \"barpolar\"}], \"carpet\": [{\"aaxis\": {\"endlinecolor\": \"#2a3f5f\", \"gridcolor\": \"white\", \"linecolor\": \"white\", \"minorgridcolor\": \"white\", \"startlinecolor\": \"#2a3f5f\"}, \"baxis\": {\"endlinecolor\": \"#2a3f5f\", \"gridcolor\": \"white\", \"linecolor\": \"white\", \"minorgridcolor\": \"white\", \"startlinecolor\": \"#2a3f5f\"}, \"type\": \"carpet\"}], \"choropleth\": [{\"colorbar\": {\"outlinewidth\": 0, \"ticks\": \"\"}, \"type\": \"choropleth\"}], \"contour\": [{\"colorbar\": {\"outlinewidth\": 0, \"ticks\": \"\"}, \"colorscale\": [[0.0, \"#0d0887\"], [0.1111111111111111, \"#46039f\"], [0.2222222222222222, \"#7201a8\"], [0.3333333333333333, \"#9c179e\"], [0.4444444444444444, \"#bd3786\"], [0.5555555555555556, \"#d8576b\"], [0.6666666666666666, \"#ed7953\"], [0.7777777777777778, \"#fb9f3a\"], [0.8888888888888888, \"#fdca26\"], [1.0, \"#f0f921\"]], \"type\": \"contour\"}], \"contourcarpet\": [{\"colorbar\": {\"outlinewidth\": 0, \"ticks\": \"\"}, \"type\": \"contourcarpet\"}], \"heatmap\": [{\"colorbar\": {\"outlinewidth\": 0, \"ticks\": \"\"}, \"colorscale\": [[0.0, \"#0d0887\"], [0.1111111111111111, \"#46039f\"], [0.2222222222222222, \"#7201a8\"], [0.3333333333333333, \"#9c179e\"], [0.4444444444444444, \"#bd3786\"], [0.5555555555555556, \"#d8576b\"], [0.6666666666666666, \"#ed7953\"], [0.7777777777777778, \"#fb9f3a\"], [0.8888888888888888, \"#fdca26\"], [1.0, \"#f0f921\"]], \"type\": \"heatmap\"}], \"heatmapgl\": [{\"colorbar\": {\"outlinewidth\": 0, \"ticks\": \"\"}, \"colorscale\": [[0.0, \"#0d0887\"], [0.1111111111111111, \"#46039f\"], [0.2222222222222222, \"#7201a8\"], [0.3333333333333333, \"#9c179e\"], [0.4444444444444444, \"#bd3786\"], [0.5555555555555556, \"#d8576b\"], [0.6666666666666666, \"#ed7953\"], [0.7777777777777778, \"#fb9f3a\"], [0.8888888888888888, \"#fdca26\"], [1.0, \"#f0f921\"]], \"type\": \"heatmapgl\"}], \"histogram\": [{\"marker\": {\"colorbar\": {\"outlinewidth\": 0, \"ticks\": \"\"}}, \"type\": \"histogram\"}], \"histogram2d\": [{\"colorbar\": {\"outlinewidth\": 0, \"ticks\": \"\"}, \"colorscale\": [[0.0, \"#0d0887\"], [0.1111111111111111, \"#46039f\"], [0.2222222222222222, \"#7201a8\"], [0.3333333333333333, \"#9c179e\"], [0.4444444444444444, \"#bd3786\"], [0.5555555555555556, \"#d8576b\"], [0.6666666666666666, \"#ed7953\"], [0.7777777777777778, \"#fb9f3a\"], [0.8888888888888888, \"#fdca26\"], [1.0, \"#f0f921\"]], \"type\": \"histogram2d\"}], \"histogram2dcontour\": [{\"colorbar\": {\"outlinewidth\": 0, \"ticks\": \"\"}, \"colorscale\": [[0.0, \"#0d0887\"], [0.1111111111111111, \"#46039f\"], [0.2222222222222222, \"#7201a8\"], [0.3333333333333333, \"#9c179e\"], [0.4444444444444444, \"#bd3786\"], [0.5555555555555556, \"#d8576b\"], [0.6666666666666666, \"#ed7953\"], [0.7777777777777778, \"#fb9f3a\"], [0.8888888888888888, \"#fdca26\"], [1.0, \"#f0f921\"]], \"type\": \"histogram2dcontour\"}], \"mesh3d\": [{\"colorbar\": {\"outlinewidth\": 0, \"ticks\": \"\"}, \"type\": \"mesh3d\"}], \"parcoords\": [{\"line\": {\"colorbar\": {\"outlinewidth\": 0, \"ticks\": \"\"}}, \"type\": \"parcoords\"}], \"pie\": [{\"automargin\": true, \"type\": \"pie\"}], \"scatter\": [{\"marker\": {\"colorbar\": {\"outlinewidth\": 0, \"ticks\": \"\"}}, \"type\": \"scatter\"}], \"scatter3d\": [{\"line\": {\"colorbar\": {\"outlinewidth\": 0, \"ticks\": \"\"}}, \"marker\": {\"colorbar\": {\"outlinewidth\": 0, \"ticks\": \"\"}}, \"type\": \"scatter3d\"}], \"scattercarpet\": [{\"marker\": {\"colorbar\": {\"outlinewidth\": 0, \"ticks\": \"\"}}, \"type\": \"scattercarpet\"}], \"scattergeo\": [{\"marker\": {\"colorbar\": {\"outlinewidth\": 0, \"ticks\": \"\"}}, \"type\": \"scattergeo\"}], \"scattergl\": [{\"marker\": {\"colorbar\": {\"outlinewidth\": 0, \"ticks\": \"\"}}, \"type\": \"scattergl\"}], \"scattermapbox\": [{\"marker\": {\"colorbar\": {\"outlinewidth\": 0, \"ticks\": \"\"}}, \"type\": \"scattermapbox\"}], \"scatterpolar\": [{\"marker\": {\"colorbar\": {\"outlinewidth\": 0, \"ticks\": \"\"}}, \"type\": \"scatterpolar\"}], \"scatterpolargl\": [{\"marker\": {\"colorbar\": {\"outlinewidth\": 0, \"ticks\": \"\"}}, \"type\": \"scatterpolargl\"}], \"scatterternary\": [{\"marker\": {\"colorbar\": {\"outlinewidth\": 0, \"ticks\": \"\"}}, \"type\": \"scatterternary\"}], \"surface\": [{\"colorbar\": {\"outlinewidth\": 0, \"ticks\": \"\"}, \"colorscale\": [[0.0, \"#0d0887\"], [0.1111111111111111, \"#46039f\"], [0.2222222222222222, \"#7201a8\"], [0.3333333333333333, \"#9c179e\"], [0.4444444444444444, \"#bd3786\"], [0.5555555555555556, \"#d8576b\"], [0.6666666666666666, \"#ed7953\"], [0.7777777777777778, \"#fb9f3a\"], [0.8888888888888888, \"#fdca26\"], [1.0, \"#f0f921\"]], \"type\": \"surface\"}], \"table\": [{\"cells\": {\"fill\": {\"color\": \"#EBF0F8\"}, \"line\": {\"color\": \"white\"}}, \"header\": {\"fill\": {\"color\": \"#C8D4E3\"}, \"line\": {\"color\": \"white\"}}, \"type\": \"table\"}]}, \"layout\": {\"annotationdefaults\": {\"arrowcolor\": \"#2a3f5f\", \"arrowhead\": 0, \"arrowwidth\": 1}, \"coloraxis\": {\"colorbar\": {\"outlinewidth\": 0, \"ticks\": \"\"}}, \"colorscale\": {\"diverging\": [[0, \"#8e0152\"], [0.1, \"#c51b7d\"], [0.2, \"#de77ae\"], [0.3, \"#f1b6da\"], [0.4, \"#fde0ef\"], [0.5, \"#f7f7f7\"], [0.6, \"#e6f5d0\"], [0.7, \"#b8e186\"], [0.8, \"#7fbc41\"], [0.9, \"#4d9221\"], [1, \"#276419\"]], \"sequential\": [[0.0, \"#0d0887\"], [0.1111111111111111, \"#46039f\"], [0.2222222222222222, \"#7201a8\"], [0.3333333333333333, \"#9c179e\"], [0.4444444444444444, \"#bd3786\"], [0.5555555555555556, \"#d8576b\"], [0.6666666666666666, \"#ed7953\"], [0.7777777777777778, \"#fb9f3a\"], [0.8888888888888888, \"#fdca26\"], [1.0, \"#f0f921\"]], \"sequentialminus\": [[0.0, \"#0d0887\"], [0.1111111111111111, \"#46039f\"], [0.2222222222222222, \"#7201a8\"], [0.3333333333333333, \"#9c179e\"], [0.4444444444444444, \"#bd3786\"], [0.5555555555555556, \"#d8576b\"], [0.6666666666666666, \"#ed7953\"], [0.7777777777777778, \"#fb9f3a\"], [0.8888888888888888, \"#fdca26\"], [1.0, \"#f0f921\"]]}, \"colorway\": [\"#636efa\", \"#EF553B\", \"#00cc96\", \"#ab63fa\", \"#FFA15A\", \"#19d3f3\", \"#FF6692\", \"#B6E880\", \"#FF97FF\", \"#FECB52\"], \"font\": {\"color\": \"#2a3f5f\"}, \"geo\": {\"bgcolor\": \"white\", \"lakecolor\": \"white\", \"landcolor\": \"#E5ECF6\", \"showlakes\": true, \"showland\": true, \"subunitcolor\": \"white\"}, \"hoverlabel\": {\"align\": \"left\"}, \"hovermode\": \"closest\", \"mapbox\": {\"style\": \"light\"}, \"paper_bgcolor\": \"white\", \"plot_bgcolor\": \"#E5ECF6\", \"polar\": {\"angularaxis\": {\"gridcolor\": \"white\", \"linecolor\": \"white\", \"ticks\": \"\"}, \"bgcolor\": \"#E5ECF6\", \"radialaxis\": {\"gridcolor\": \"white\", \"linecolor\": \"white\", \"ticks\": \"\"}}, \"scene\": {\"xaxis\": {\"backgroundcolor\": \"#E5ECF6\", \"gridcolor\": \"white\", \"gridwidth\": 2, \"linecolor\": \"white\", \"showbackground\": true, \"ticks\": \"\", \"zerolinecolor\": \"white\"}, \"yaxis\": {\"backgroundcolor\": \"#E5ECF6\", \"gridcolor\": \"white\", \"gridwidth\": 2, \"linecolor\": \"white\", \"showbackground\": true, \"ticks\": \"\", \"zerolinecolor\": \"white\"}, \"zaxis\": {\"backgroundcolor\": \"#E5ECF6\", \"gridcolor\": \"white\", \"gridwidth\": 2, \"linecolor\": \"white\", \"showbackground\": true, \"ticks\": \"\", \"zerolinecolor\": \"white\"}}, \"shapedefaults\": {\"line\": {\"color\": \"#2a3f5f\"}}, \"ternary\": {\"aaxis\": {\"gridcolor\": \"white\", \"linecolor\": \"white\", \"ticks\": \"\"}, \"baxis\": {\"gridcolor\": \"white\", \"linecolor\": \"white\", \"ticks\": \"\"}, \"bgcolor\": \"#E5ECF6\", \"caxis\": {\"gridcolor\": \"white\", \"linecolor\": \"white\", \"ticks\": \"\"}}, \"title\": {\"x\": 0.05}, \"xaxis\": {\"automargin\": true, \"gridcolor\": \"white\", \"linecolor\": \"white\", \"ticks\": \"\", \"title\": {\"standoff\": 15}, \"zerolinecolor\": \"white\", \"zerolinewidth\": 2}, \"yaxis\": {\"automargin\": true, \"gridcolor\": \"white\", \"linecolor\": \"white\", \"ticks\": \"\", \"title\": {\"standoff\": 15}, \"zerolinecolor\": \"white\", \"zerolinewidth\": 2}}}, \"title\": {\"text\": \"Cena 1m2 mieszkania w zale\\u017cno\\u015bci od ilo\\u015bci pokoi\"}, \"xaxis\": {\"anchor\": \"y\", \"domain\": [0.0, 1.0], \"title\": {\"text\": \"n_rooms\"}}, \"yaxis\": {\"anchor\": \"x\", \"domain\": [0.0, 1.0], \"title\": {\"text\": \"price_per_m2\"}}},\n",
              "                        {\"responsive\": true}\n",
              "                    ).then(function(){\n",
              "                            \n",
              "var gd = document.getElementById('9b325505-0566-4f0c-aab2-ca7cf40adf98');\n",
              "var x = new MutationObserver(function (mutations, observer) {{\n",
              "        var display = window.getComputedStyle(gd).display;\n",
              "        if (!display || display === 'none') {{\n",
              "            console.log([gd, 'removed!']);\n",
              "            Plotly.purge(gd);\n",
              "            observer.disconnect();\n",
              "        }}\n",
              "}});\n",
              "\n",
              "// Listen for the removal of the full notebook cells\n",
              "var notebookContainer = gd.closest('#notebook-container');\n",
              "if (notebookContainer) {{\n",
              "    x.observe(notebookContainer, {childList: true});\n",
              "}}\n",
              "\n",
              "// Listen for the clearing of the current output cell\n",
              "var outputEl = gd.closest('.output');\n",
              "if (outputEl) {{\n",
              "    x.observe(outputEl, {childList: true});\n",
              "}}\n",
              "\n",
              "                        })\n",
              "                };\n",
              "                \n",
              "            </script>\n",
              "        </div>\n",
              "</body>\n",
              "</html>"
            ]
          },
          "metadata": {
            "tags": []
          }
        }
      ]
    },
    {
      "cell_type": "code",
      "metadata": {
        "colab": {
          "base_uri": "https://localhost:8080/",
          "height": 542
        },
        "id": "g4HkoPVmtkg4",
        "outputId": "82d46538-3981-4dce-f35c-921b0cc766f1"
      },
      "source": [
        "# analiza ceny wg. ilości pokojów\n",
        "import plotly.express as px\n",
        "\n",
        "px.box(gratka_df, \n",
        "       x = \"n_floor\", \n",
        "       y = \"price_per_m2\",\n",
        "       title = \"Cena 1m2 mieszkania w zależności od nr piętra, na której znajduje się nieruchomość\")"
      ],
      "execution_count": 72,
      "outputs": [
        {
          "output_type": "display_data",
          "data": {
            "text/html": [
              "<html>\n",
              "<head><meta charset=\"utf-8\" /></head>\n",
              "<body>\n",
              "    <div>\n",
              "            <script src=\"https://cdnjs.cloudflare.com/ajax/libs/mathjax/2.7.5/MathJax.js?config=TeX-AMS-MML_SVG\"></script><script type=\"text/javascript\">if (window.MathJax) {MathJax.Hub.Config({SVG: {font: \"STIX-Web\"}});}</script>\n",
              "                <script type=\"text/javascript\">window.PlotlyConfig = {MathJaxConfig: 'local'};</script>\n",
              "        <script src=\"https://cdn.plot.ly/plotly-latest.min.js\"></script>    \n",
              "            <div id=\"3d953e00-eb8c-442c-9327-c38cd5d8c1a4\" class=\"plotly-graph-div\" style=\"height:525px; width:100%;\"></div>\n",
              "            <script type=\"text/javascript\">\n",
              "                \n",
              "                    window.PLOTLYENV=window.PLOTLYENV || {};\n",
              "                    \n",
              "                if (document.getElementById(\"3d953e00-eb8c-442c-9327-c38cd5d8c1a4\")) {\n",
              "                    Plotly.newPlot(\n",
              "                        '3d953e00-eb8c-442c-9327-c38cd5d8c1a4',\n",
              "                        [{\"alignmentgroup\": \"True\", \"hoverlabel\": {\"namelength\": 0}, \"hovertemplate\": \"n_floor=%{x}<br>price_per_m2=%{y}\", \"legendgroup\": \"\", \"marker\": {\"color\": \"#636efa\"}, \"name\": \"\", \"notched\": false, \"offsetgroup\": \"\", \"orientation\": \"v\", \"showlegend\": false, \"type\": \"box\", \"x\": [7.0, 1.0, 1.0, 7.0, 6.0, 1.0, 3.0, 2.0, 1.0, 2.0, 1.0, 0.0, 1.0, 3.0, 3.0, 1.0, 2.0, 2.0, 4.0, 4.0, 3.0, 2.0, 0.0, 4.0, 5.0, 1.0, 0.0, 3.0, 2.0, 5.0, 4.0, 0.0, 4.0, 3.0, 3.0, 4.0, 4.0, 2.0, 2.0, 1.0, 3.0, 3.0, 3.0, 3.0, 3.0, 1.0, 5.0, 6.0, 1.0, 2.0, 1.0, 3.0, 7.0, 2.0, 5.0, 1.0, 4.0, 0.0, 6.0, 1.0, 4.0, 1.0, 4.0, 4.0, 2.0, 2.0, 1.0, 5.0, 5.0, 1.0, 6.0, 3.0, 2.0, 2.0, 2.0, 1.0, 2.0, 0.0, 2.0, 0.0, 0.0, 0.0, 5.0, 2.0, 7.0, 2.0, 4.0, 2.0, 3.0, 1.0, 0.0, 3.0, 1.0, 0.0, 0.0, 5.0, 3.0, 1.0, 1.0, 6.0, 4.0, 1.0, 0.0, 1.0, 0.0, 0.0, 2.0, 1.0, 5.0, 0.0, 1.0, 0.0, 2.0, 2.0, 1.0, 2.0, 2.0, 2.0, 1.0, 1.0, 0.0, 1.0, 2.0, 3.0, 0.0, 3.0, 2.0, 1.0, 1.0, 1.0, 1.0, 4.0, 3.0, 3.0, 3.0, 3.0, 3.0, 2.0, 2.0, 0.0, 5.0, 0.0, 4.0, 5.0, 4.0, 2.0, 2.0, 2.0, 2.0, 2.0, 2.0, 0.0, 1.0, 1.0, 1.0, 1.0, 1.0, 0.0, 0.0, 0.0, 0.0, 0.0, 0.0, 1.0, 1.0, 4.0, 2.0, 3.0, 0.0, 4.0, 4.0, 1.0, 4.0, 4.0, 4.0, 4.0, 3.0, 3.0, 0.0, 1.0, 1.0, 1.0, 1.0, 0.0, 0.0, 1.0, 9.0, 6.0, 3.0, 5.0, 7.0, 2.0, 9.0, 5.0, 5.0, 7.0, 6.0, 9.0, 0.0, 9.0, 5.0, 0.0, 3.0, 0.0, 5.0, 1.0, 5.0, 3.0, 0.0, 3.0, 3.0, 0.0, 4.0, 3.0, 3.0, 3.0, 0.0, 3.0, 0.0, 1.0, 1.0, 2.0, 2.0, 5.0, 3.0, 4.0, 4.0, 4.0, 4.0, 4.0, 4.0, 4.0, 3.0, 3.0, 3.0, 2.0, 4.0, 4.0, 1.0, 2.0, 4.0, 2.0, 3.0, 3.0, 3.0, 3.0, 3.0, 3.0, 3.0, 3.0, 3.0, 2.0, 2.0, 2.0, 2.0, 2.0, 2.0, 2.0, 2.0, 2.0, 2.0, 1.0, 1.0, 1.0, 1.0, 1.0, 1.0, 1.0, 1.0, 1.0, 1.0, 1.0, 1.0, 0.0, 0.0, 0.0, 0.0, 1.0, 1.0, 1.0, 8.0, 3.0, 4.0, 0.0, 4.0, 10.0, 0.0, 0.0, 4.0, 3.0, 0.0, 5.0, 5.0, 5.0, 5.0, 5.0, 5.0, 5.0, 5.0, 3.0, 1.0, 1.0, 1.0, 5.0, 4.0, 0.0, 0.0, 2.0, 4.0, 0.0, 4.0, 1.0, 1.0, 2.0, 0.0, 0.0, 1.0, 1.0, 2.0, 0.0, 2.0, 5.0, 1.0, 3.0, 3.0, 2.0, 4.0, 7.0, 1.0, 1.0, 3.0, 0.0, 1.0, 0.0, 1.0, 1.0, 0.0, 1.0, 1.0, 1.0, 2.0, 4.0, 3.0, 0.0, 2.0, 4.0, 1.0, 5.0, 0.0, 3.0, 4.0, 9.0, 2.0, 0.0, 0.0, 0.0, 0.0, 0.0, 0.0, 0.0, 0.0, 0.0, 0.0, 0.0, 0.0, 3.0, 4.0, 3.0, 2.0, 3.0, 1.0, 1.0, 2.0, 0.0, 0.0, 1.0, 1.0, 0.0, 2.0, 0.0, 2.0, 0.0, 0.0, 1.0, 0.0, 2.0, 2.0, 2.0, 0.0, 3.0, 3.0, 1.0, 5.0, 0.0, 0.0, 1.0, 1.0, 1.0, 2.0, 4.0, 3.0, 3.0, 3.0, 1.0, 2.0, 5.0, 3.0, 3.0, 4.0, 2.0, 8.0, 4.0, 3.0, 2.0, 1.0, 4.0, 7.0, 0.0, 2.0, 4.0, 2.0, 2.0, 1.0, 2.0, 0.0, 3.0, 2.0, 1.0, 2.0, 5.0, 1.0, 4.0, 3.0, 1.0, 1.0, 2.0, 1.0, 4.0, 7.0, 0.0, 3.0, 3.0, 3.0, 4.0, 0.0, 0.0, 0.0, 1.0, 1.0, 1.0, 1.0, 1.0, 1.0, 1.0, 2.0, 2.0, 2.0, 2.0, 4.0, 5.0, 5.0, 3.0, 1.0, 2.0, 1.0, 2.0, 2.0, 2.0, 4.0, 4.0, 2.0, 3.0, 1.0, 2.0, 2.0, 2.0, 0.0, 4.0, 6.0, 0.0, 2.0, 0.0, 5.0, 2.0, 0.0, 3.0, 3.0, 3.0, 3.0, 4.0, 7.0, 1.0, 2.0, 1.0, 4.0, 5.0, 5.0, 3.0, 2.0, 4.0, 4.0, 4.0, 1.0, 5.0, 1.0, 0.0, 3.0, 4.0, 1.0, 1.0, 1.0, 1.0, 2.0, 6.0, 0.0, 1.0, 1.0, 6.0, 0.0, 2.0, 9.0, 3.0, 6.0, 3.0, 0.0, 0.0, 8.0, 0.0, 4.0, 8.0, 2.0, 0.0, 3.0, 1.0, 0.0, 4.0, 2.0, 8.0, 1.0, 3.0, 4.0, 0.0, 0.0, 5.0, 5.0, 1.0, 3.0, 2.0, 0.0, 5.0, 1.0, 2.0, 3.0, 1.0, 0.0, 0.0, 2.0, 5.0, 5.0, 8.0, 5.0, 9.0, 6.0, 10.0, 0.0, 5.0, 3.0, 4.0, 0.0, 3.0, 1.0, 1.0, 6.0, 0.0, 6.0, 0.0, 5.0, 5.0, 2.0, 0.0, 2.0, 4.0, 2.0, 1.0, 1.0, 1.0, 1.0, 4.0, 3.0, 2.0, 1.0, 1.0, 4.0, 3.0, 0.0, 8.0, 3.0, 2.0, 1.0, 1.0, 2.0, 2.0, 5.0, 0.0, 6.0, 0.0, 6.0, 4.0, 3.0, 0.0, 3.0, 3.0, 2.0, 3.0, 2.0, 2.0, 3.0, 1.0, 0.0, 0.0, 4.0, 7.0, 0.0, 2.0, 0.0, 1.0, 6.0, 0.0, 0.0, 4.0, 0.0, 0.0, 2.0, 1.0, 2.0, 3.0, 3.0, 1.0, 1.0, 1.0, 2.0, 1.0, 0.0, 1.0, 3.0, 2.0, 0.0, 5.0, 7.0, 3.0, 3.0, 4.0, 2.0, 6.0, 1.0, 2.0, 2.0, 7.0, 2.0, 0.0, 3.0, 2.0, 10.0, 1.0, 2.0, 0.0, 2.0, 4.0, 0.0, 1.0, 8.0, 3.0, 2.0, 0.0, 4.0, 3.0, 3.0, 2.0, 5.0, 5.0, 4.0, 2.0, 3.0, 1.0, 1.0, 0.0, 4.0, 4.0, 1.0, 1.0, 3.0, 4.0, 4.0, 4.0, 1.0, 1.0, 0.0, 0.0, 2.0, 2.0, 1.0, 1.0, 2.0, 3.0, 4.0, 2.0, 5.0, 4.0, 6.0, 4.0, 1.0, 1.0, 0.0, 1.0, 0.0, 1.0, 1.0, 5.0, 1.0, 3.0, 6.0, 2.0, 0.0, 0.0, 8.0, 3.0, 1.0, 3.0, 1.0, 0.0, 1.0, 0.0, 7.0, 3.0, 1.0, 1.0, 0.0, 4.0, 1.0, 8.0, 3.0, 1.0, 1.0, 1.0, 4.0, 5.0, 0.0, 1.0, 0.0, 3.0, 4.0, 3.0, 4.0, 0.0, 3.0, 3.0, 3.0, 3.0, 4.0, 4.0, 3.0, 0.0, 5.0, 1.0, 2.0, 1.0, 0.0, 5.0, 1.0, 3.0, 2.0, 1.0, 2.0, 1.0, 2.0, 3.0, 1.0, 1.0, 1.0, 1.0, 2.0, 2.0, 2.0, 2.0, 3.0, 3.0, 4.0, 3.0, 3.0, 4.0, 4.0, 0.0, 0.0, 0.0, 0.0, 0.0, 1.0, 1.0, 8.0, 8.0, 0.0, 0.0, 0.0, 0.0, 0.0, 0.0, 3.0, 1.0, 1.0, 4.0, 0.0, 1.0, 0.0, 2.0, 0.0, 5.0, 5.0, 2.0, 2.0, 2.0, 1.0, 2.0, 0.0, 0.0, 2.0, 6.0, 2.0, 3.0, 7.0, 1.0, 1.0, 3.0, 1.0, 3.0, 0.0, 2.0, 0.0, 0.0, 0.0, 1.0, 4.0, 1.0, 5.0, 5.0, 6.0, 6.0, 1.0, 0.0, 1.0, 4.0, 0.0, 3.0, 2.0, 1.0, 2.0, 5.0, 2.0, 7.0, 2.0, 6.0, 2.0, 2.0, 6.0, 4.0, 6.0, 1.0, 1.0, 3.0, 5.0, 5.0, 4.0, 3.0, 1.0, 6.0, 5.0, 3.0, 3.0, 9.0, 1.0, 1.0, 0.0, 4.0, 4.0, 4.0, 4.0, 4.0, 4.0, 9.0, 2.0, 4.0, 1.0, 0.0, 0.0, 4.0, 5.0, 0.0, 0.0, 7.0, 1.0, 7.0, 4.0, 8.0, 0.0, 3.0, 9.0, 0.0, 8.0, 1.0, 2.0, 1.0, 1.0, 0.0, 0.0, 2.0, 3.0, 2.0, 3.0, 8.0, 0.0, 1.0, 1.0, 3.0, 4.0, 5.0, 3.0, 5.0, 4.0, 1.0, 1.0, 1.0, 1.0, 0.0, 3.0, 1.0, 2.0, 1.0, 1.0, 3.0, 3.0, 0.0, 3.0, 0.0, 1.0, 0.0, 1.0, 1.0, 0.0, 1.0, 0.0, 1.0, 2.0, 2.0, 2.0, 1.0, 1.0, 1.0, 1.0, 0.0, 0.0, 1.0, 1.0, 3.0, 3.0, 3.0, 9.0, 6.0, 1.0, 0.0, 0.0, 2.0, 4.0, 3.0, 0.0, 4.0, 2.0, 0.0, 0.0, 0.0, 0.0, 1.0, 1.0, 1.0, 1.0, 1.0, 1.0, 1.0, 2.0, 3.0, 0.0, 3.0, 2.0, 2.0, 5.0, 4.0, 4.0, 1.0, 3.0, 0.0, 3.0, 2.0, 5.0, 3.0, 4.0, 2.0, 5.0, 3.0, 1.0, 0.0, 5.0, 4.0, 2.0, 1.0, 1.0, 1.0, 1.0, 1.0, 1.0, 1.0, 1.0, 0.0, 0.0, 0.0, 0.0, 0.0, 0.0, 0.0, 1.0, 2.0, 1.0, 0.0, 1.0, 4.0, 5.0, 4.0, 5.0, 0.0, 0.0, 1.0, 0.0, 3.0, 6.0, 0.0, 4.0, 0.0, 3.0, 4.0, 1.0, 0.0, 0.0, 4.0, 0.0, 3.0, 1.0, 5.0, 6.0, 0.0, 6.0, 0.0, 0.0, 6.0, 1.0, 4.0, 1.0, 1.0, 3.0, 2.0, 6.0, 5.0, 3.0, 0.0, 3.0, 0.0, 0.0, 0.0, 3.0, 1.0, 0.0, 2.0, 3.0, 13.0, 7.0, 0.0, 5.0, 7.0, 6.0, 5.0, 5.0, 6.0, 7.0, 6.0, 2.0, 2.0, 6.0, 0.0, 2.0, 4.0, 4.0, 5.0, 5.0, 0.0, 2.0, 5.0, 4.0, 13.0, 12.0, 12.0, 8.0, 7.0, 13.0, 11.0, 14.0, 13.0, 10.0, 14.0, 3.0, 9.0, 8.0, 8.0, 1.0, 14.0, 4.0, 7.0, 2.0, 10.0, 3.0, 4.0, 7.0, 13.0, 5.0, 13.0, 12.0, 3.0, 1.0, 1.0, 11.0, 1.0, 2.0, 2.0, 2.0, 2.0, 3.0, 3.0, 3.0, 3.0, 3.0, 4.0, 4.0, 2.0, 0.0, 1.0, 2.0, 2.0, 1.0, 1.0, 0.0, 0.0, 0.0, 3.0, 4.0, 3.0, 2.0, 4.0, 7.0, 1.0, 6.0, 1.0, 1.0, 2.0, 2.0, 2.0, 0.0, 4.0, 4.0, 2.0, 5.0, 1.0, 0.0, 2.0, 1.0, 3.0, 2.0, 0.0, 2.0, 4.0, 0.0, 0.0, 4.0, 0.0, 3.0, 5.0, 2.0, 0.0, 0.0, 5.0, 3.0, 2.0, 3.0, 4.0, 4.0, 4.0, 1.0, 0.0, 0.0, 3.0, 1.0, 6.0, 4.0, 0.0, 4.0, 1.0, 4.0, 1.0, 2.0, 3.0, 3.0, 1.0, 1.0, 3.0, 0.0, 0.0, 0.0, 0.0, 2.0, 1.0, 2.0, 0.0, 3.0, 2.0, 4.0, 1.0, 0.0, 1.0, 2.0, 1.0, 0.0, 2.0, 3.0, 5.0, 4.0, 2.0, 1.0, 5.0, 6.0, 1.0, 1.0, 3.0, 2.0, 1.0, 1.0, 3.0, 0.0, 7.0, 4.0, 7.0, 1.0, 0.0, 0.0, 1.0, 2.0, 1.0, 2.0, 2.0, 3.0, 3.0, 1.0, 3.0, 2.0, 2.0, 1.0, 4.0, 1.0, 1.0, 0.0, 7.0, 4.0, 10.0, 8.0, 9.0, 5.0, 6.0, 0.0, 0.0, 0.0, 6.0, 5.0, 0.0, 5.0, 1.0, 2.0, 3.0, 0.0, 0.0, 0.0, 0.0, 5.0, 4.0, 0.0, 4.0, 0.0, 0.0, 1.0, 4.0, 2.0, 4.0, 6.0, 8.0, 1.0, 2.0, 1.0, 2.0, 10.0, 2.0, 6.0, 7.0, 1.0, 6.0, 3.0, 9.0, 8.0, 2.0, 5.0, 3.0, 2.0, 2.0, 1.0, 5.0, 4.0, 2.0, 3.0, 0.0, 4.0, 0.0, 0.0, 0.0, 0.0, 5.0, 2.0, 1.0, 2.0, 0.0, 0.0, 1.0, 5.0, 3.0, 0.0, 2.0, 0.0, 1.0, 4.0, 0.0, 1.0, 0.0, 5.0, 5.0, 0.0, 7.0, 0.0, 7.0, 3.0, 0.0, 2.0, 0.0, 3.0, 3.0, 4.0, 0.0, 1.0, 1.0, 0.0, 4.0, 0.0, 2.0, 1.0, 1.0, 2.0, 1.0, 1.0, 6.0, 0.0, 3.0, 1.0, 0.0, 1.0, 1.0, 7.0, 8.0, 7.0, 6.0, 0.0, 1.0, 0.0, 0.0, 0.0, 8.0, 4.0, 2.0, 2.0, 2.0, 1.0, 2.0, 4.0, 1.0, 1.0, 0.0, 0.0, 0.0, 1.0, 1.0, 1.0, 1.0, 7.0, 2.0, 2.0, 4.0, 2.0, 5.0, 2.0, 1.0, 0.0, 0.0, 3.0, 1.0, 0.0, 1.0, 0.0, 1.0, 0.0, 4.0, 4.0, 3.0, 2.0, 2.0, 1.0, 0.0, 4.0, 3.0, 4.0, 1.0, 0.0, 7.0, 2.0, 1.0, 2.0, 6.0, 0.0, 0.0, 0.0, 1.0, 0.0, 3.0, 1.0, 5.0, 1.0, 4.0, 2.0, 9.0, 1.0, 0.0, 2.0, 5.0, 7.0, 3.0, 3.0, 2.0, 0.0, 1.0, 3.0, 5.0, 2.0, 3.0, 1.0, 1.0, 5.0, 1.0, 1.0, 1.0, 2.0, 9.0, 3.0, 9.0, 0.0, 3.0, 0.0, 6.0, 1.0, 5.0, 2.0, 0.0, 5.0, 6.0, 1.0, 0.0, 8.0, 5.0, 3.0, 8.0, 9.0, 1.0, 3.0, 0.0, 1.0, 1.0, 5.0, 4.0, 4.0, 3.0, 3.0, 2.0, 2.0, 1.0, 1.0, 0.0, 0.0, 0.0, 3.0, 0.0, 1.0, 7.0, 0.0, 5.0, 0.0, 0.0, 1.0, 0.0, 1.0, 2.0, 0.0, 1.0, 3.0, 0.0, 2.0, 7.0, 2.0, 1.0, 3.0, 2.0, 3.0, 6.0, 3.0, 4.0, 4.0, 2.0, 2.0, 2.0, 3.0, 3.0, 4.0, 1.0, 0.0, 2.0, 5.0, 4.0, 2.0, 2.0, 0.0, 5.0, 3.0, 0.0, 1.0, 6.0, 2.0, 5.0, 0.0, 2.0, 1.0, 7.0, 0.0, 3.0, 6.0, 2.0, 1.0, 4.0, 0.0, 6.0, 9.0, 3.0, 0.0, 1.0, 2.0, 0.0, 8.0, 4.0, 7.0, 5.0, 4.0, 3.0, 3.0, 2.0, 0.0, 0.0, 1.0, 5.0, 6.0, 4.0, 0.0, 1.0, 0.0, 4.0, 2.0, 0.0, 2.0, 1.0, 6.0, 3.0, 3.0, 0.0, 0.0, 0.0, 2.0, 5.0, 0.0, 3.0, 1.0, 3.0, 1.0, 1.0, 1.0, 1.0, 1.0, 5.0, 0.0, 1.0, 0.0, 2.0, 1.0, 0.0, 3.0, 2.0, 6.0, 2.0, 1.0, 5.0, 4.0, 0.0, 0.0, 6.0, 1.0, 3.0, 2.0, 7.0, 1.0, 1.0, 1.0, 1.0, 6.0, 8.0, 5.0, 3.0, 5.0, 7.0, 1.0, 7.0, 6.0, 2.0, 4.0, 1.0, 1.0, 2.0, 3.0, 0.0, 0.0, 1.0, 4.0, 1.0, 1.0, 1.0, 2.0, 2.0, 1.0, 4.0, 2.0, 2.0, 7.0, 3.0, 0.0, 1.0, 0.0, 1.0, 9.0, 3.0, 1.0, 1.0, 0.0, 0.0, 1.0, 9.0, 0.0, 1.0, 7.0, 1.0, 0.0, 1.0, 0.0, 0.0, 3.0, 0.0, 1.0, 0.0, 6.0, 6.0, 0.0, 4.0, 7.0, 0.0, 5.0, 2.0, 0.0, 1.0, 2.0, 0.0, 2.0, 0.0, 4.0, 3.0, 2.0, 5.0, 3.0, 2.0, 1.0, 1.0, 5.0, 2.0, 3.0, 0.0, 4.0, 4.0, 5.0, 2.0, 2.0, 2.0, 1.0, 2.0, 0.0, 1.0, 3.0, 2.0, 1.0, 1.0, 5.0, 5.0, 6.0, 4.0, 3.0, 4.0, 1.0, 1.0, 7.0, 3.0, 0.0, 1.0, 0.0, 0.0, 1.0, 5.0, 4.0, 4.0, 6.0, 1.0, 8.0, 2.0, 3.0, 2.0, 1.0, 2.0, 7.0, 0.0, 7.0, 1.0, 1.0, 1.0, 4.0, 2.0, 2.0, 2.0, 1.0, 5.0, 2.0, 4.0, 2.0, 2.0, 3.0, 2.0, 4.0, 2.0, 2.0, 2.0, 1.0, 1.0, 1.0, 0.0, 0.0, 1.0, 1.0, 0.0, 0.0, 0.0, 0.0, 0.0, 2.0, 1.0, 2.0, 3.0, 5.0, 5.0, 5.0, 5.0, 5.0, 5.0, 5.0, 5.0, 5.0, 5.0, 5.0, 5.0, 5.0, 5.0, 5.0, 5.0, 5.0, 5.0, 5.0, 5.0, 5.0, 5.0, 5.0, 4.0, 4.0, 4.0, 4.0, 4.0, 4.0, 4.0, 4.0, 4.0, 4.0, 4.0, 4.0, 4.0, 4.0, 4.0, 4.0, 4.0, 4.0, 4.0, 4.0, 4.0, 4.0, 4.0, 3.0, 3.0, 3.0, 3.0, 3.0, 3.0, 3.0, 3.0, 3.0, 3.0, 3.0, 3.0, 3.0, 3.0, 3.0, 3.0, 3.0, 3.0, 3.0, 3.0, 3.0, 3.0, 3.0, 2.0, 2.0, 2.0, 2.0, 2.0, 2.0, 2.0, 2.0, 2.0, 2.0, 2.0, 2.0, 2.0, 2.0, 2.0, 2.0, 2.0, 2.0, 2.0, 2.0, 2.0, 2.0, 2.0, 1.0, 3.0, 2.0, 1.0, 0.0, 1.0, 3.0, 4.0, 1.0, 2.0, 0.0, 1.0, 1.0, 1.0, 3.0, 2.0, 1.0, 1.0, 0.0, 1.0, 3.0, 2.0, 1.0, 1.0, 1.0, 1.0, 1.0, 1.0, 1.0, 1.0, 1.0, 1.0, 1.0, 1.0, 1.0, 1.0, 1.0, 1.0, 1.0, 1.0, 1.0, 1.0, 1.0, 1.0, 0.0, 0.0, 0.0, 0.0, 0.0, 0.0, 0.0, 0.0, 0.0, 0.0, 0.0, 0.0, 0.0, 0.0, 0.0, 0.0, 0.0, 0.0, 0.0, 0.0, 0.0, 0.0, 1.0, 0.0, 1.0, 0.0, 0.0, 5.0, 1.0, 2.0, 1.0, 2.0, 1.0, 1.0, 0.0, 0.0, 5.0, 0.0, 1.0, 3.0, 1.0, 7.0, 5.0, 5.0, 2.0, 0.0, 2.0, 4.0, 4.0, 1.0, 0.0, 0.0, 5.0, 9.0, 8.0, 5.0, 2.0, 0.0, 2.0, 4.0, 4.0, 1.0, 1.0, 0.0, 0.0, 8.0, 2.0, 1.0, 1.0, 0.0, 2.0, 2.0, 2.0, 4.0, 3.0, 3.0, 1.0, 1.0, 4.0, 1.0, 5.0, 2.0, 2.0, 9.0, 1.0, 4.0, 0.0, 4.0, 1.0, 1.0, 1.0, 1.0, 1.0, 4.0, 0.0, 6.0, 2.0, 3.0, 3.0, 1.0, 2.0, 2.0, 7.0, 1.0, 1.0, 11.0, 0.0, 2.0, 0.0, 2.0, 4.0, 2.0, 1.0, 4.0, 3.0, 4.0, 0.0, 4.0, 1.0, 1.0, 0.0, 3.0, 10.0, 3.0, 1.0, 3.0, 1.0, 3.0, 3.0, 1.0, 3.0, 6.0, 7.0, 6.0, 7.0, 4.0, 8.0, 1.0, 4.0, 3.0, 5.0, 2.0, 2.0, 0.0, 9.0, 4.0, 5.0, 2.0, 0.0, 2.0, 2.0, 5.0, 0.0, 1.0, 2.0, 6.0, 1.0, 1.0, 0.0, 0.0, 5.0, 1.0, 2.0, 3.0, 0.0, 4.0, 0.0, 2.0, 3.0, 1.0, 1.0, 1.0, 1.0, 2.0, 2.0, 1.0, 3.0, 3.0, 5.0, 3.0, 2.0, 0.0, 1.0, 3.0, 4.0, 1.0, 2.0, 3.0, 1.0, 3.0, 7.0, 1.0, 0.0, 4.0, 3.0, 7.0, 7.0, 1.0, 3.0, 2.0, 2.0, 3.0, 3.0, 1.0, 2.0, 1.0, 3.0, 4.0, 7.0, 1.0, 2.0, 2.0, 2.0, 2.0, 2.0, 3.0, 2.0, 2.0, 1.0, 1.0, 1.0, 1.0, 1.0, 4.0, 1.0, 4.0, 2.0, 0.0, 2.0, 3.0, 1.0, 4.0, 1.0, 1.0, 0.0, 5.0, 2.0, 1.0, 0.0, 1.0, 2.0, 4.0, 1.0, 2.0, 3.0, 1.0, 1.0, 1.0, 1.0, 9.0, 2.0, 4.0, 1.0, 5.0, 4.0, 5.0, 5.0, 1.0, 1.0, 1.0, 1.0, 2.0, 1.0, 4.0, 2.0, 0.0, 2.0, 2.0, 1.0, 1.0, 5.0, 1.0, 1.0, 0.0, 5.0, 1.0, 2.0, 1.0, 3.0, 0.0, 3.0, 1.0, 4.0, 0.0, 2.0, 2.0, 3.0, 1.0, 2.0, 0.0, 2.0, 0.0, 4.0, 5.0, 4.0, 1.0, 2.0, 5.0, 4.0, 3.0, 0.0, 3.0, 5.0, 0.0, 1.0, 5.0, 1.0, 8.0, 7.0, 4.0, 1.0, 5.0, 1.0, 4.0, 1.0, 1.0, 1.0, 1.0, 1.0, 1.0, 9.0, 5.0, 2.0, 3.0, 4.0, 1.0, 3.0, 1.0, 2.0, 3.0, 1.0, 0.0, 2.0, 7.0, 2.0, 1.0, 0.0, 0.0, 3.0, 4.0, 0.0, 1.0, 1.0, 2.0, 1.0, 1.0, 1.0, 6.0, 0.0, 9.0, 9.0, 9.0, 9.0, 2.0, 4.0, 0.0, 4.0, 5.0, 2.0, 2.0, 0.0, 1.0, 4.0, 0.0, 2.0, 2.0, 4.0, 2.0, 6.0, 2.0, 4.0, 1.0, 4.0, 3.0, 3.0, 2.0, 3.0, 3.0, 1.0, 0.0, 2.0, 2.0, 4.0, 0.0, 1.0, 0.0, 0.0, 2.0, 10.0, 1.0, 2.0, 6.0, 1.0, 3.0, 1.0, 2.0, 1.0, 2.0, 3.0, 2.0, 0.0, 2.0, 4.0, 0.0, 2.0, 1.0, 0.0, 6.0, 6.0, 3.0, 2.0, 1.0, 1.0, 1.0, 0.0, 5.0, 0.0, 1.0, 3.0, 5.0, 4.0, 0.0, 2.0, 0.0, 2.0, 3.0, 2.0, 0.0, 2.0, 1.0, 1.0, 2.0, 1.0, 1.0, 2.0, 1.0, 3.0, 5.0, 0.0, 2.0, 2.0, 6.0, 5.0, 0.0, 1.0, 1.0, 3.0, 1.0, 2.0, 0.0, 2.0, 5.0, 0.0, 3.0, 0.0, 0.0, 8.0, 2.0, 2.0, 2.0, 0.0, 1.0, 1.0, 1.0, 5.0, 0.0, 3.0, 0.0, 0.0, 8.0, 2.0, 2.0, 2.0, 0.0, 1.0, 1.0, 1.0, 3.0, 0.0, 0.0, 8.0, 8.0, 3.0, 9.0, 9.0, 3.0, 2.0, 2.0, 2.0, 2.0, 3.0, 3.0, 2.0, 3.0, 2.0, 3.0, 1.0, 2.0, 0.0, 2.0, 5.0, 0.0, 3.0, 0.0, 0.0, 8.0, 2.0, 2.0, 2.0, 0.0, 1.0, 1.0, 1.0, 3.0, 0.0, 0.0, 8.0, 8.0, 3.0, 9.0, 9.0, 3.0, 2.0, 2.0, 2.0, 2.0, 3.0, 3.0, 2.0, 3.0, 2.0, 3.0, 2.0, 2.0, 3.0, 4.0, 7.0, 1.0, 2.0, 1.0, 5.0, 1.0, 3.0, 1.0, 2.0, 8.0, 2.0, 9.0, 8.0, 2.0, 2.0, 0.0, 1.0, 0.0, 1.0, 1.0, 9.0, 2.0, 2.0, 1.0, 2.0, 2.0, 2.0, 0.0, 1.0, 8.0, 2.0, 0.0, 0.0, 0.0, 0.0, 1.0, 8.0, 2.0, 8.0, 8.0, 3.0, 2.0, 2.0, 2.0, 1.0, 2.0, 2.0, 1.0, 2.0, 1.0, 3.0, 0.0, 2.0, 0.0, 0.0, 0.0, 0.0, 2.0, 1.0, 1.0, 1.0, 2.0, 0.0, 2.0, 8.0, 6.0, 2.0, 2.0, 1.0, 2.0, 4.0, 4.0, 4.0, 0.0, 1.0, 4.0, 3.0, 1.0, 0.0, 1.0, 1.0, 1.0, 1.0, 0.0, 7.0, 5.0, 5.0, 8.0, 1.0, 2.0, 1.0, 2.0, 1.0, 4.0, 1.0, 0.0, 1.0, 4.0, 5.0, 3.0, 5.0, 3.0, 3.0, 3.0, 1.0, 3.0, 1.0, 1.0, 0.0, 1.0, 0.0, 7.0, 0.0, 1.0, 3.0, 5.0, 2.0, 4.0, 1.0, 0.0, 0.0, 6.0, 1.0, 3.0, 0.0, 0.0, 2.0, 5.0, 4.0, 1.0, 1.0, 4.0, 0.0, 1.0, 5.0, 1.0, 6.0, 8.0, 6.0, 2.0, 1.0, 1.0, 3.0, 1.0, 1.0, 2.0, 1.0, 0.0, 1.0, 2.0, 3.0, 1.0, 1.0, 0.0, 1.0, 4.0, 4.0, 4.0, 1.0, 4.0, 1.0, 0.0, 1.0, 2.0, 3.0, 0.0, 0.0, 0.0, 2.0, 3.0, 0.0, 2.0, 1.0, 3.0, 1.0, 1.0, 3.0, 4.0, 4.0, 3.0, 1.0, 2.0, 3.0, 4.0, 0.0, 1.0, 0.0, 1.0, 8.0, 0.0, 1.0, 2.0, 1.0, 5.0, 0.0, 1.0, 0.0, 0.0, 6.0, 0.0, 1.0, 0.0, 0.0, 1.0, 0.0, 0.0, 2.0, 0.0, 1.0, 0.0, 1.0, 4.0, 2.0, 6.0, 6.0, 6.0, 4.0, 5.0, 4.0, 4.0, 4.0, 1.0, 0.0, 0.0, 0.0, 3.0, 0.0, 1.0, 2.0, 1.0, 1.0, 0.0, 1.0, 1.0, 4.0, 1.0, 1.0, 1.0, 4.0, 4.0, 8.0, 1.0, 1.0, 8.0, 1.0, 3.0, 0.0, 4.0, 1.0, 4.0, 3.0, 1.0, 0.0, 2.0, 0.0, 2.0, 7.0, 2.0, 4.0, 2.0, 2.0, 4.0, 2.0, 2.0, 2.0, 3.0, 3.0, 6.0, 1.0, 1.0, 1.0, 1.0, 3.0, 3.0, 3.0, 0.0, 2.0, 1.0, 0.0, 5.0, 5.0, 0.0, 1.0, 3.0, 1.0, 1.0, 1.0, 2.0, 0.0, 2.0, 3.0, 1.0, 1.0, 8.0, 2.0, 3.0, 0.0, 0.0, 0.0, 1.0, 4.0, 7.0, 3.0, 3.0, 3.0, 2.0, 3.0, 3.0, 3.0, 3.0, 0.0, 1.0, 1.0, 1.0, 2.0, 1.0, 0.0, 1.0, 0.0, 0.0, 1.0, 1.0, 0.0, 0.0, 3.0, 4.0, 5.0, 2.0, 6.0, 1.0, 4.0, 0.0, 5.0, 6.0, 2.0, 5.0, 1.0, 4.0, 5.0, 2.0, 4.0, 2.0, 3.0, 1.0, 0.0, 0.0, 9.0, 1.0, 0.0, 1.0, 3.0, 1.0, 1.0, 0.0, 0.0, 0.0, 1.0, 0.0, 4.0, 6.0, 0.0, 1.0, 4.0, 1.0, 1.0, 2.0, 0.0, 1.0, 0.0, 0.0, 0.0, 0.0, 5.0, 2.0, 1.0, 0.0, 0.0, 1.0, 2.0, 0.0, 0.0, 0.0, 1.0, 1.0, 2.0, 0.0, 3.0, 4.0, 0.0, 5.0, 0.0, 6.0, 6.0, 7.0, 2.0, 0.0, 5.0, 4.0, 3.0, 1.0, 2.0, 3.0, 1.0, 1.0, 1.0, 2.0, 1.0, 1.0, 3.0, 1.0, 3.0, 3.0, 1.0, 2.0, 1.0, 1.0, 5.0, 1.0, 5.0, 0.0, 1.0, 4.0, 2.0, 2.0, 0.0, 0.0, 4.0, 3.0, 1.0, 2.0, 4.0, 1.0, 1.0, 0.0, 1.0, 3.0, 2.0, 1.0, 1.0, 1.0, 1.0, 1.0, 1.0, 2.0, 1.0, 2.0, 1.0, 1.0, 0.0, 0.0, 2.0, 0.0, 2.0, 1.0, 3.0, 4.0, 4.0, 4.0, 1.0, 0.0, 1.0, 0.0, 4.0, 3.0, 0.0, 2.0, 1.0, 2.0, 2.0, 1.0, 1.0, 1.0, 0.0, 0.0, 0.0, 9.0, 2.0, 6.0, 3.0, 4.0, 1.0, 4.0, 2.0, 6.0, 1.0, 4.0, 2.0, 4.0, 0.0, 2.0, 5.0, 3.0, 0.0, 3.0, 2.0, 1.0, 1.0, 2.0, 1.0, 4.0, 0.0, 4.0, 2.0, 2.0, 4.0, 1.0, 9.0, 0.0, 4.0, 1.0, 0.0, 0.0, 1.0, 1.0, 1.0, 1.0, 0.0, 0.0, 0.0, 2.0, 0.0, 4.0, 3.0, 5.0, 2.0, 5.0, 5.0, 0.0, 2.0, 2.0, 3.0, 3.0, 10.0, 1.0, 1.0, 8.0, 4.0, 0.0, 2.0, 1.0, 0.0, 1.0, 1.0, 0.0, 6.0, 0.0, 3.0, 0.0, 0.0, 2.0, 5.0, 2.0, 0.0, 0.0, 1.0, 0.0, 5.0, 0.0, 2.0, 0.0, 0.0, 10.0, 3.0, 5.0, 1.0, 1.0, 0.0, 2.0, 4.0, 2.0, 4.0, 5.0, 4.0, 4.0, 3.0, 2.0, 2.0, 3.0, 1.0, 1.0, 4.0, 3.0, 2.0, 6.0, 6.0, 5.0, 6.0, 2.0, 0.0, 0.0, 0.0, 4.0, 4.0, 3.0, 0.0, 1.0, 1.0, 0.0, 0.0, 5.0, 0.0, 4.0, 1.0, 1.0, 4.0, 2.0, 1.0, 0.0, 2.0, 1.0, 2.0, 3.0, 1.0, 4.0, 3.0, 4.0, 1.0, 1.0, 1.0, 2.0, 3.0, 2.0, 2.0, 0.0, 1.0, 1.0, 1.0, 1.0, 3.0, 3.0, 1.0, 4.0, 4.0, 5.0, 1.0, 5.0, 1.0, 5.0, 2.0, 2.0, 1.0, 1.0, 0.0, 2.0, 1.0, 1.0, 0.0, 2.0, 1.0, 0.0, 5.0, 5.0, 4.0, 3.0, 1.0, 1.0, 4.0, 2.0, 3.0, 5.0, 1.0, 2.0, 6.0, 5.0, 6.0, 2.0, 9.0, 3.0, 2.0, 2.0, 1.0, 2.0, 8.0, 1.0, 5.0, 2.0, 10.0, 2.0, 2.0, 2.0, 3.0, 2.0, 2.0, 2.0, 1.0, 5.0, 2.0, 2.0, 4.0, 2.0, 1.0, 1.0, 1.0, 1.0, 2.0, 2.0, 2.0, 7.0, 1.0, 0.0, 1.0, 0.0, 0.0, 4.0, 3.0, 2.0, 0.0, 0.0, 0.0, 1.0, 0.0, 4.0, 2.0, 3.0, 0.0, 0.0, 8.0, 8.0, 2.0, 5.0, 0.0, 0.0, 0.0, 1.0, 0.0, 1.0, 0.0, 1.0, 2.0, 1.0, 1.0, 2.0, 3.0, 3.0, 0.0, 2.0, 9.0, 4.0, 0.0, 2.0, 3.0, 3.0, 0.0, 0.0, 0.0, 1.0, 4.0, 0.0, 0.0, 1.0, 2.0, 3.0, 7.0, 2.0, 6.0, 4.0, 7.0, 0.0, 2.0, 2.0, 3.0, 4.0, 2.0, 5.0, 2.0, 1.0, 3.0, 3.0, 2.0, 3.0, 1.0, 2.0, 2.0, 3.0, 3.0, 2.0, 2.0, 2.0, 3.0, 1.0, 1.0, 1.0, 3.0, 2.0, 2.0, 2.0, 1.0, 0.0, 0.0, 0.0, 1.0, 0.0, 1.0, 0.0, 1.0, 8.0, 1.0, 2.0, 7.0, 0.0, 3.0, 2.0, 2.0, 0.0, 0.0, 0.0, 1.0, 0.0, 1.0, 0.0, 0.0, 3.0, 3.0, 3.0, 3.0, 3.0, 3.0, 3.0, 3.0, 3.0, 2.0, 3.0, 2.0, 2.0, 2.0, 2.0, 2.0, 2.0, 2.0, 2.0, 2.0, 1.0, 1.0, 1.0, 1.0, 1.0, 1.0, 1.0, 1.0, 1.0, 3.0, 2.0, 1.0, 1.0, 1.0, 4.0, 1.0, 0.0, 0.0, 4.0, 0.0, 1.0, 5.0, 5.0, 1.0, 4.0, 2.0, 3.0, 4.0, 5.0, 0.0, 5.0, 5.0, 3.0, 5.0, 7.0, 6.0, 6.0, 5.0, 2.0, 1.0, 2.0, 2.0, 1.0, 2.0, 3.0, 3.0, 1.0, 4.0, 2.0, 0.0, 6.0, 1.0, 3.0, 1.0, 1.0, 0.0, 2.0, 0.0, 0.0, 0.0, 4.0, 1.0, 5.0, 1.0, 2.0, 1.0, 0.0, 0.0, 3.0, 0.0, 0.0, 0.0, 0.0, 2.0, 1.0, 4.0, 4.0, 4.0, 4.0, 4.0, 4.0, 4.0, 4.0, 4.0, 4.0, 3.0, 3.0, 3.0, 3.0, 3.0, 4.0, 3.0, 4.0, 3.0, 4.0, 3.0, 4.0, 4.0, 3.0, 4.0, 4.0, 4.0, 3.0, 4.0, 3.0, 4.0, 3.0, 2.0, 4.0, 2.0, 4.0, 2.0, 4.0, 3.0, 2.0, 4.0, 3.0, 2.0, 4.0, 3.0, 2.0, 3.0, 2.0, 3.0, 3.0, 2.0, 3.0, 2.0, 2.0, 3.0, 2.0, 3.0, 2.0, 2.0, 2.0, 2.0, 1.0, 3.0, 2.0, 1.0, 2.0, 2.0, 1.0, 1.0, 1.0, 2.0, 2.0, 1.0, 2.0, 2.0, 1.0, 1.0, 2.0, 1.0, 1.0, 1.0, 1.0, 1.0, 1.0, 1.0, 1.0, 1.0, 1.0, 1.0, 1.0, 1.0, 1.0, 0.0, 1.0, 1.0, 0.0, 0.0, 1.0, 1.0, 0.0, 0.0], \"x0\": \" \", \"xaxis\": \"x\", \"y\": [10700, 7024, 9400, 10300, 9700, 9200, 10850, 7024, 7024, 10670, 13014, 9000, 9400, 13000, 14000, 10200, 10200, 10239, 14200, 8548, 11600, 11966, 8537, 10320, 11020, 9575, 9440, 7750, 15200, 8899, 10200, 13901, 10320, 23620, 20120, 23620, 20000, 20620, 23620, 20120, 8000, 7700, 8500, 7433, 7702, 8000, 8000, 7422, 8950, 5437, 26620, 8000, 7800, 20120, 8500, 23620, 21620, 10058, 10343, 10901, 23620, 23620, 21620, 20000, 20620, 23620, 20120, 12809, 12761, 12100, 11051, 7450, 7399, 7407, 7954, 10800, 10200, 10750, 12925, 7851, 10151, 8394, 9668, 12925, 10072, 8760, 10134, 11245, 10524, 7800, 8300, 6802, 8728, 8765, 8350, 10724, 5793, 10200, 10200, 10790, 10997, 6295, 6997, 5497, 6997, 5845, 5543, 10259, 9493, 7957, 7300, 9450, 9900, 9550, 8766, 8477, 8300, 11505, 8100, 11624, 11501, 10229, 7800, 8000, 9800, 14108, 14532, 12625, 9190, 8546, 8617, 11054, 10807, 12637, 12487, 10312, 9601, 9742, 8546, 8911, 12809, 9024, 9727, 12761, 10400, 8950, 9750, 10400, 9700, 9250, 8550, 8900, 10555, 9650, 9650, 9100, 8350, 8600, 9500, 10000, 9600, 8800, 10677, 7887, 8813, 10723, 10045, 5100, 7900, 9200, 9650, 7750, 11350, 10450, 15066, 7563, 7593, 8151, 8004, 9080, 14364, 14310, 15984, 8300, 9800, 9200, 9200, 8600, 8700, 8500, 10400, 9200, 10600, 8500, 8500, 9792, 9588, 7801, 12939, 7801, 14222, 12147, 11402, 10500, 12239, 8400, 10848, 12286, 9148, 11234, 9823, 10427, 12694, 12090, 6802, 10735, 12419, 10913, 15990, 16298, 11018, 7407, 7401, 9000, 9100, 9500, 9500, 9700, 9500, 9900, 9600, 9500, 9450, 10100, 10250, 8950, 10358, 10838, 8342, 17835, 17220, 9250, 9300, 9400, 9400, 9400, 9200, 9326, 9400, 9400, 9400, 9200, 9300, 9300, 9300, 9100, 9300, 9225, 9400, 9400, 18500, 9200, 9100, 11801, 9000, 9200, 9200, 9125, 9200, 9200, 9200, 9200, 8900, 8900, 6196, 8960, 9800, 7400, 9500, 9100, 13500, 8749, 7699, 5796, 10360, 11964, 14094, 14742, 11300, 12124, 8305, 9336, 9703, 9552, 9550, 9769, 9670, 9897, 9730, 12152, 11000, 7931, 9297, 8837, 7671, 9800, 9800, 10100, 10250, 9900, 10800, 10100, 10000, 10300, 9500, 10000, 10300, 14202, 9948, 6196, 8024, 7600, 5993, 5193, 6989, 10900, 11900, 9100, 6941, 7252, 14084, 15914, 7333, 7368, 7245, 7269, 10094, 10800, 8844, 8838, 11000, 10376, 14100, 9321, 9524, 9054, 8901, 14222, 12939, 8392, 8907, 13500, 8893, 9000, 9100, 9600, 9100, 9100, 9000, 8900, 9000, 9100, 9100, 9200, 9000, 9600, 9000, 9400, 9300, 9400, 8600, 8600, 8800, 8350, 8450, 10000, 7700, 12147, 7302, 8795, 8921, 10806, 9800, 13016, 7700, 17172, 9346, 10239, 5250, 9881, 12000, 7400, 11634, 8100, 13584, 11084, 10914, 10583, 16605, 16605, 18450, 12000, 15387, 14499, 11400, 12500, 12000, 13300, 9430, 9582, 10700, 10894, 10465, 7564, 7400, 7397, 9529, 9695, 10369, 10700, 9900, 10200, 14472, 15012, 10200, 12500, 11800, 14760, 10200, 9452, 8832, 17220, 17220, 16605, 17835, 18450, 17835, 9150, 9529, 10500, 11402, 12679, 10875, 9089, 6299, 6500, 8900, 6500, 7100, 6900, 7100, 7100, 7100, 6770, 6500, 6100, 12572, 6900, 11759, 11524, 11262, 12288, 12980, 12955, 10433, 10107, 8367, 8367, 9297, 19065, 16605, 18450, 9900, 9825, 9700, 9625, 7440, 9659, 9960, 9400, 10055, 10048, 11663, 10786, 10000, 13191, 9596, 11500, 10350, 10894, 25000, 11800, 6269, 7714, 10320, 8785, 9524, 7700, 10772, 9273, 8111, 10635, 8400, 12239, 7902, 7617, 9800, 9150, 8626, 12700, 13500, 7902, 8057, 14000, 9149, 8212, 8900, 14900, 8342, 8984, 15000, 8208, 10991, 8522, 9500, 7950, 7400, 9800, 10350, 14500, 9600, 9844, 9750, 12100, 7650, 10743, 9825, 14496, 9477, 9800, 9850, 9444, 12100, 12012, 10500, 6975, 5530, 5513, 9126, 10848, 5800, 6223, 6346, 7875, 9148, 14168, 10200, 8785, 9524, 9600, 9396, 8600, 10837, 14734, 10538, 11725, 12000, 14000, 10437, 14000, 14000, 9500, 9500, 9300, 9300, 9300, 8400, 7400, 7400, 15300, 8638, 10200, 9900, 10050, 10000, 11106, 9525, 10700, 10600, 10400, 9198, 10057, 10623, 7721, 8800, 15000, 11234, 17528, 16298, 7800, 9518, 10728, 7400, 9650, 9650, 11154, 9517, 12694, 12286, 15200, 16250, 9823, 12900, 12000, 13300, 12300, 8400, 8900, 8400, 10427, 13434, 8600, 9000, 8900, 9800, 9500, 14900, 9800, 10304, 13900, 9450, 9545, 10575, 9950, 10500, 10200, 9700, 8810, 8183, 8183, 9121, 8810, 7805, 9638, 10424, 8100, 10435, 10965, 11469, 9371, 10468, 10997, 9582, 9606, 12000, 7862, 9263, 9056, 8367, 6299, 8402, 8900, 14978, 11800, 13300, 10013, 9946, 9914, 10468, 10567, 12986, 9574, 9898, 7814, 8104, 11117, 10361, 7600, 12140, 10699, 11630, 8100, 10110, 10420, 9400, 7900, 10580, 10045, 10600, 11900, 12795, 10692, 9996, 10322, 8342, 8212, 8978, 12594, 9100, 10433, 10278, 10278, 10433, 10588, 10743, 10433, 10898, 10743, 14900, 13990, 7445, 9400, 7795, 11732, 7375, 5893, 7818, 13594, 9008, 9523, 9882, 13600, 7336, 9974, 10968, 9818, 9400, 10304, 9824, 7059, 5602, 9800, 11812, 12600, 9486, 12681, 12482, 13362, 12449, 9644, 8212, 9865, 8987, 9865, 10761, 9452, 9160, 8342, 13246, 23310, 12600, 12700, 12800, 10950, 12400, 12200, 7637, 8181, 7606, 8342, 9842, 8000, 11081, 11154, 9644, 7700, 7700, 9100, 7650, 7950, 10728, 7800, 13300, 9948, 10200, 9700, 9900, 10200, 10200, 9700, 10200, 9900, 10200, 10200, 9900, 9900, 9900, 10200, 10200, 10200, 10250, 10150, 10200, 10200, 10200, 10750, 9900, 9900, 9911, 10072, 10013, 9917, 9455, 10332, 9838, 10463, 5099, 7947, 7520, 8909, 8477, 8900, 6892, 5825, 9000, 9000, 7400, 5540, 17062, 6027, 7968, 17172, 8092, 6682, 6415, 10550, 9946, 9710, 10072, 10550, 11900, 11725, 10550, 10550, 9325, 11725, 11900, 9925, 11725, 11725, 11725, 11725, 11725, 10550, 11725, 11900, 8752, 9540, 9529, 7482, 6996, 9500, 9148, 10011, 10429, 9255, 9385, 10471, 5897, 9625, 10200, 10200, 10200, 10200, 9900, 9900, 9900, 10200, 9700, 10200, 10200, 10200, 10200, 9900, 9900, 5404, 9504, 11556, 6449, 8342, 9989, 10000, 10000, 10000, 10000, 8500, 8500, 25000, 10020, 10734, 10278, 10294, 9000, 9000, 10000, 8500, 10000, 8800, 8800, 9000, 9200, 8700, 9000, 9800, 7800, 9000, 7400, 9018, 9288, 9288, 11600, 12100, 12500, 17835, 8522, 15068, 9144, 14500, 9091, 9865, 8212, 8522, 10330, 8832, 10175, 10898, 10743, 14967, 8212, 8419, 11100, 11800, 13000, 10400, 10900, 15990, 18757, 15375, 14500, 8946, 8763, 8111, 8789, 10487, 10386, 10225, 8200, 8100, 8200, 8342, 8367, 8367, 8057, 9865, 8070, 8600, 11800, 5650, 6299, 9686, 9150, 7700, 8200, 7750, 13800, 11296, 8100, 8100, 8400, 9621, 10827, 7650, 9788, 13816, 6700, 11500, 11500, 7944, 6300, 9122, 10011, 9442, 9155, 9481, 9148, 9596, 9385, 10772, 12201, 15500, 7984, 13000, 9668, 9900, 10200, 9900, 9700, 8946, 8979, 14000, 14000, 12000, 14000, 13212, 9668, 12183, 9126, 9296, 12761, 12375, 9802, 5490, 5490, 5490, 5490, 5490, 5451, 5490, 5490, 6590, 6590, 6590, 6590, 6590, 6590, 6590, 6590, 8100, 5590, 6690, 7438, 12000, 12000, 12000, 12000, 10000, 10500, 8500, 9800, 10153, 10123, 10011, 8900, 9000, 7400, 8850, 9150, 9150, 8150, 9150, 9455, 9946, 7818, 7400, 8400, 8400, 9500, 9800, 9300, 8400, 8990, 12240, 6200, 11900, 9750, 9900, 9750, 9100, 12800, 10305, 7750, 9100, 11900, 10700, 10800, 10600, 10700, 9900, 9900, 12820, 11210, 9100, 11000, 10840, 10512, 10110, 9590, 10370, 9640, 9440, 8100, 7600, 9000, 7500, 10210, 11630, 12240, 11020, 11930, 9410, 9810, 10700, 10320, 12600, 12040, 12040, 12860, 10890, 12600, 12380, 12440, 12230, 10900, 12330, 9730, 10680, 12490, 12280, 8980, 11850, 10830, 11130, 10620, 11240, 10730, 10220, 11130, 11130, 10320, 11030, 10930, 9710, 9865, 9500, 10420, 10457, 10188, 10137, 9958, 9667, 10246, 10354, 10234, 10350, 10286, 10510, 10050, 9400, 9200, 7400, 9400, 9300, 7949, 7949, 7699, 9000, 7950, 9550, 9150, 17220, 14170, 14500, 15000, 12100, 14500, 10700, 6200, 9346, 12487, 12174, 9200, 9724, 9385, 12000, 9300, 8573, 9500, 10300, 12000, 13000, 6793, 10700, 6500, 6500, 14170, 11367, 14315, 11262, 14108, 11367, 9211, 9191, 9960, 9790, 8400, 10705, 10544, 10827, 10796, 10544, 7977, 9000, 9800, 9100, 8900, 8500, 6500, 8000, 10900, 10890, 11490, 10600, 10800, 10500, 11020, 7800, 12800, 13101, 10050, 11900, 11350, 11725, 11725, 11725, 9625, 11725, 11725, 7650, 7650, 7650, 11900, 10550, 11900, 9700, 11900, 11350, 10200, 11350, 11800, 8495, 8207, 9700, 10550, 11350, 11350, 11282, 11350, 9700, 10200, 11900, 9800, 13400, 10997, 10072, 11598, 10557, 7699, 7949, 10000, 13000, 13700, 13100, 40000, 23620, 40000, 20120, 23620, 20120, 20120, 14300, 13700, 8900, 8300, 11500, 11200, 12800, 11700, 12500, 11200, 11100, 9000, 9000, 9000, 7800, 7400, 9000, 7800, 7831, 7800, 9559, 8892, 10304, 9873, 9768, 10898, 10743, 10436, 10743, 10351, 9297, 8308, 11130, 10041, 14500, 14900, 9628, 12600, 13700, 8867, 11050, 15300, 11900, 11550, 13450, 11550, 11900, 14000, 15000, 14000, 10905, 10153, 10784, 9346, 10931, 7800, 7800, 14315, 10626, 10772, 12540, 10772, 10926, 12540, 13362, 12898, 11524, 15582, 7950, 15074, 15626, 6299, 9126, 11925, 9916, 8911, 15887, 8050, 8900, 9125, 8475, 7764, 12650, 11721, 12247, 8300, 7800, 7800, 9100, 7500, 11793, 9800, 12000, 9625, 7650, 9057, 14983, 15959, 16038, 15065, 11630, 12500, 8915, 8278, 11600, 11628, 11602, 6200, 10123, 9768, 10350, 11600, 10950, 12000, 7900, 10072, 7850, 7792, 7399, 8400, 9250, 9700, 10300, 8911, 7432, 10320, 10013, 9946, 9442, 10048, 12500, 12600, 10920, 10212, 11262, 12540, 11955, 9886, 15582, 10567, 10429, 11812, 10020, 7800, 8400, 7564, 10700, 10210, 10900, 10926, 8959, 9750, 7675, 12000, 12500, 11500, 11900, 10000, 10700, 11200, 9000, 11341, 10618, 11682, 11262, 7651, 8204, 11200, 10620, 9800, 9477, 9346, 8760, 7736, 11142, 9019, 10700, 8093, 8400, 8400, 8400, 7700, 8400, 8400, 8400, 8400, 7800, 10650, 12506, 8517, 12455, 9300, 9300, 12000, 7817, 9500, 9500, 9300, 13521, 20620, 8622, 10278, 8212, 10699, 9510, 8500, 8500, 8400, 8400, 7700, 8400, 8500, 8500, 10692, 7806, 11450, 19000, 8175, 8048, 11234, 11716, 12908, 9355, 9628, 8900, 8595, 9000, 7801, 7800, 7800, 8998, 7800, 9293, 8397, 19000, 19000, 18000, 18000, 17000, 17000, 16000, 16000, 15000, 15000, 15000, 7700, 7950, 6200, 10608, 8911, 10790, 10935, 10384, 8400, 8400, 9450, 9250, 10150, 10151, 8500, 9000, 7800, 9300, 20000, 12000, 9625, 8678, 12000, 12500, 12892, 10465, 10465, 9151, 12450, 12925, 10550, 10778, 12046, 5856, 9848, 9557, 9128, 10427, 9638, 9734, 11635, 11253, 10397, 9287, 9658, 11209, 9790, 8400, 9946, 9293, 7695, 8397, 9000, 8397, 7400, 8382, 7700, 7800, 8500, 7800, 7800, 8400, 7995, 17490, 7800, 9000, 7400, 7800, 7792, 9732, 10700, 8907, 8907, 9034, 9800, 10304, 8500, 11055, 10886, 10119, 8958, 9544, 9800, 9800, 8899, 9500, 12452, 12941, 11350, 9700, 9900, 14020, 11055, 11139, 10464, 10754, 11262, 8000, 7404, 9087, 9799, 7888, 7876, 7863, 7898, 11367, 10492, 7199, 8400, 7400, 11000, 11276, 12448, 8222, 12708, 8190, 10300, 12500, 8885, 9191, 8892, 9497, 9122, 13300, 12300, 11812, 9541, 9618, 7750, 7650, 11287, 9862, 10596, 9615, 10371, 10782, 9402, 9718, 10582, 9151, 9693, 7149, 9825, 8760, 9444, 8780, 7941, 6196, 11183, 8492, 8280, 9109, 9473, 8333, 9879, 10360, 10333, 10835, 7800, 9664, 11615, 9400, 9300, 7900, 9200, 8707, 8900, 7900, 9500, 8500, 8500, 9100, 9400, 9400, 9100, 9400, 9200, 9400, 9200, 8000, 7700, 9500, 9300, 9300, 8400, 8500, 8400, 8400, 8400, 8601, 8600, 7700, 9300, 7761, 9550, 9300, 9500, 9400, 12183, 10761, 12174, 12711, 9900, 11162, 9900, 10620, 13792, 10200, 9900, 10200, 12772, 13216, 13293, 11111, 10006, 10200, 10200, 6700, 10150, 9700, 11599, 10250, 8832, 13300, 10110, 11000, 10790, 10330, 10320, 9490, 8110, 14000, 11061, 14100, 12500, 13700, 13100, 8459, 9863, 9752, 8419, 11570, 9309, 9460, 10722, 10433, 9977, 6700, 6700, 6700, 7800, 9160, 7800, 8212, 8000, 8832, 10068, 10452, 10685, 9900, 10300, 10200, 8890, 9625, 9900, 10200, 12000, 12637, 10442, 6528, 10050, 7003, 9719, 10474, 10746, 9597, 10692, 26494, 11866, 10123, 10800, 11970, 10798, 10692, 10129, 8760, 8760, 8533, 13591, 13813, 14463, 14341, 13785, 13852, 14162, 15633, 15633, 14143, 14040, 14041, 14162, 16086, 14277, 14747, 14578, 14251, 14084, 14865, 15951, 15951, 14171, 13591, 13813, 14463, 14341, 13785, 13852, 14162, 15633, 15633, 14143, 14040, 14041, 14162, 16086, 14277, 14747, 14578, 14251, 14084, 14865, 15951, 15951, 14171, 13333, 13550, 14211, 14068, 13546, 13611, 13892, 15336, 15336, 14139, 13772, 13773, 13893, 15780, 14006, 14466, 14300, 13979, 13816, 14581, 15647, 15647, 13901, 13333, 13550, 14211, 14068, 13546, 13611, 13892, 15336, 15336, 14139, 13772, 13773, 13893, 15780, 14006, 14466, 14300, 13979, 13816, 14581, 15647, 15647, 13901, 13856, 13176, 13481, 10000, 9900, 10000, 10134, 7622, 12000, 9473, 8235, 9109, 8280, 8492, 9465, 10208, 6200, 10154, 11262, 10371, 10339, 12637, 14079, 14458, 14593, 13893, 14062, 14275, 15497, 15497, 14526, 14175, 14165, 14023, 16108, 14273, 14752, 14579, 14246, 14156, 14981, 15811, 15811, 14291, 13856, 13989, 14338, 14319, 13752, 14098, 15392, 15392, 14526, 14175, 14077, 13936, 16008, 14184, 14660, 14489, 14157, 14068, 14526, 15707, 15707, 13936, 11222, 9425, 10800, 9844, 10076, 8788, 9495, 8651, 7158, 9605, 8844, 8838, 8607, 11690, 11276, 11276, 9800, 10926, 12703, 8724, 8899, 10128, 9750, 9768, 9346, 10156, 10911, 20120, 11706, 10772, 14319, 12500, 8752, 7400, 7800, 9000, 7900, 9450, 9100, 9200, 10600, 15496, 11925, 13600, 9437, 7727, 9558, 10699, 8775, 10241, 7650, 7650, 7750, 7575, 10152, 10377, 12947, 10800, 12724, 12448, 9090, 10621, 9248, 18143, 9873, 10635, 10100, 9250, 9750, 9450, 8273, 11028, 9259, 9300, 20120, 10800, 10300, 10700, 11600, 8684, 11407, 12000, 11170, 11440, 9900, 9900, 10650, 9200, 10092, 8626, 10820, 11200, 12000, 11220, 10700, 8054, 11900, 7600, 11900, 12600, 10900, 13500, 5488, 7359, 7399, 10911, 13000, 8430, 13921, 14379, 14121, 13490, 13537, 12453, 12809, 8012, 8673, 9884, 22500, 14478, 14547, 14339, 15000, 12500, 8899, 9601, 9807, 12600, 8819, 9159, 12400, 13743, 9290, 15160, 8434, 13500, 8300, 6499, 8900, 13000, 10300, 10300, 7818, 10800, 10950, 10978, 12900, 10890, 11990, 11900, 13000, 11500, 13000, 13500, 11800, 7950, 10110, 8050, 8400, 9027, 8441, 11000, 8951, 10890, 12352, 8675, 7731, 9047, 9591, 8360, 8859, 11988, 10730, 10520, 10570, 14000, 10700, 10800, 10820, 10500, 11230, 13000, 13300, 11800, 12000, 14000, 13500, 9778, 12035, 12300, 9802, 12352, 12500, 12000, 10400, 10300, 10300, 10600, 10600, 11985, 10890, 10800, 10890, 11200, 9750, 7950, 13300, 13297, 10600, 11220, 11900, 10600, 10521, 8900, 15336, 14981, 8546, 10097, 10800, 10315, 10798, 13300, 9384, 9500, 9550, 9250, 9750, 25000, 12350, 8835, 12500, 13200, 13498, 13600, 13300, 12689, 13300, 10200, 10050, 9800, 10688, 9237, 9802, 10106, 7586, 8999, 9734, 8392, 7300, 7552, 7300, 8500, 7400, 7860, 9875, 6234, 9556, 9750, 7700, 9732, 9402, 9761, 9224, 7944, 7100, 10549, 10930, 8671, 8900, 7590, 7622, 14417, 14602, 10500, 9800, 7860, 10990, 10600, 9800, 8820, 8993, 8542, 8583, 9017, 12000, 9187, 11407, 10129, 11170, 14200, 10588, 10096, 8349, 8458, 9086, 7383, 7517, 11941, 7340, 8400, 16200, 16700, 16200, 11018, 10270, 9577, 11200, 12900, 12100, 10700, 14258, 7400, 8900, 11043, 8500, 15000, 7489, 7431, 6966, 7427, 10921, 15389, 15394, 9000, 8838, 9497, 7950, 24348, 24348, 25000, 23913, 13906, 9000, 12901, 10996, 13627, 12466, 10000, 11809, 10516, 16193, 7024, 7024, 7748, 8044, 13300, 14000, 13300, 14000, 12500, 13000, 12000, 11800, 20000, 12000, 10450, 6200, 7950, 9400, 9231, 9364, 9924, 9970, 8511, 10569, 13000, 11734, 14000, 12000, 9496, 12460, 9731, 11801, 9025, 12279, 12618, 10630, 9933, 8394, 13800, 11183, 7950, 9126, 9164, 11630, 8744, 9238, 14000, 15500, 9600, 9150, 9150, 9550, 9900, 9150, 7269, 8788, 13000, 29412, 6499, 5550, 6499, 13000, 8071, 8546, 8524, 9284, 9126, 9970, 10655, 9126, 9970, 10655, 6200, 9415, 10415, 5808, 11505, 10522, 10010, 8536, 10304, 8939, 10784, 17200, 8939, 7325, 6321, 6998, 11800, 12100, 12600, 7300, 15200, 9200, 14977, 12500, 11500, 9200, 11550, 11150, 15400, 11800, 12100, 12600, 7300, 15200, 9200, 14977, 12500, 11500, 9200, 11550, 11150, 15400, 16650, 14100, 15300, 9400, 10600, 16650, 9100, 10800, 7300, 7900, 6999, 9200, 6449, 14000, 12500, 11500, 12500, 13007, 8700, 8939, 7325, 6321, 6998, 11800, 12100, 12600, 7300, 15200, 9200, 14977, 12500, 11500, 9200, 11550, 11150, 15400, 16650, 14100, 15300, 9400, 10600, 16650, 9100, 10800, 7300, 7900, 6999, 9200, 6449, 14000, 12500, 11500, 12500, 13007, 8700, 12392, 8500, 12500, 12076, 9496, 8244, 8556, 9500, 14922, 15700, 10478, 11500, 8500, 10400, 7900, 10600, 9600, 9200, 9500, 9500, 15350, 9800, 11150, 12050, 15350, 11650, 9600, 18583, 8400, 13611, 14000, 12282, 12500, 15000, 13000, 9800, 9500, 9800, 8300, 14700, 12800, 11800, 12500, 15000, 11800, 7900, 8900, 8900, 14576, 9200, 7900, 14700, 7200, 7100, 8100, 9400, 5550, 5897, 6199, 5749, 5700, 6649, 9400, 9100, 8400, 9100, 15200, 11800, 10500, 13000, 14000, 13000, 14609, 14583, 13703, 14592, 11304, 9200, 9100, 10800, 11654, 8853, 9350, 9146, 10507, 10300, 10000, 9214, 7700, 8600, 9100, 7100, 14202, 8273, 10417, 12171, 9831, 7563, 8441, 19525, 7269, 7101, 7822, 8067, 9152, 10000, 14952, 8183, 9380, 12560, 12200, 11500, 10950, 12000, 11500, 7700, 8517, 9268, 9462, 8500, 10000, 8155, 7057, 8086, 10697, 9350, 9550, 7448, 8000, 9328, 7500, 8500, 9753, 12469, 13555, 10455, 6814, 6430, 9500, 9950, 14500, 12419, 13000, 7566, 6851, 6984, 15674, 14660, 14411, 14612, 14533, 14328, 14609, 14258, 15600, 14521, 8904, 14966, 13500, 12655, 12742, 12375, 9550, 8673, 8012, 8993, 8573, 9856, 9068, 9523, 7920, 10000, 8599, 7575, 10400, 11250, 12400, 10800, 17291, 18327, 12600, 17500, 22000, 17500, 7541, 15000, 17500, 17500, 9800, 8563, 8716, 7400, 7400, 8400, 7700, 7700, 8400, 8400, 8500, 8500, 9000, 9300, 9300, 9300, 9500, 9000, 9000, 7800, 8300, 9850, 10000, 8300, 7950, 8035, 8012, 8673, 12300, 12097, 11700, 9500, 7200, 11100, 7600, 9668, 6950, 7467, 8993, 10500, 12200, 10800, 7950, 6200, 10110, 9934, 6941, 9844, 7132, 12500, 8300, 7900, 7900, 8500, 8300, 9100, 9600, 9200, 9200, 10600, 6941, 14000, 8300, 8600, 7999, 8745, 10235, 9577, 9800, 8500, 16999, 11500, 12500, 11800, 12300, 11800, 11800, 13000, 13000, 14000, 14000, 11930, 11000, 11600, 11150, 11200, 12100, 10300, 12600, 18286, 21871, 17999, 8891, 9207, 9866, 13300, 13600, 12000, 12800, 12600, 13500, 13000, 13000, 13400, 13100, 15900, 14100, 8814, 9000, 15247, 16900, 26999, 9325, 8400, 9300, 9500, 13000, 25000, 14000, 14000, 14000, 13000, 13000, 13000, 13000, 14000, 7544, 6710, 15500, 15500, 9946, 10976, 16526, 17500, 17500, 12882, 7149, 13300, 13300, 8990, 9947, 13011, 10467, 12352, 9324, 8123, 9218, 8667, 8899, 10145, 9590, 11850, 9700, 9500, 11500, 10610, 9541, 12290, 12700, 7404, 8000, 8000, 7300, 12765, 14539, 7166, 10314, 7522, 7200, 9868, 8900, 8514, 8100, 8000, 8710, 8710, 8900, 9600, 9750, 9900, 10250, 10080, 8888, 7902, 8438, 8458, 8865, 9946, 10723, 8367, 8832, 8372, 7656, 10000, 6292, 7239, 7193, 7079, 8377, 8292, 10000, 9020, 11080, 14731, 11822, 9493, 9684, 11051, 11048, 10240, 8900, 9800, 20370, 19978, 20536, 18680, 17306, 18766, 11838, 11850, 15249, 15102, 13496, 15810, 16650, 15400, 16650, 12041, 11895, 12086, 14669, 7158, 8700, 8900, 8200, 9400, 8900, 8200, 8700, 8700, 6664, 6442, 20000, 17826, 16870, 17304, 12655, 9999, 12800, 10557, 8790, 4999, 6199, 9200, 9200, 9200, 8900, 9000, 9000, 9200, 8900, 9200, 9300, 9000, 14500, 9500, 9300, 10304, 9950, 13500, 14500, 15000, 14000, 15500, 9714, 12000, 9700, 9500, 9200, 10100, 8800, 8500, 7700, 8904, 8617, 8319, 8430, 8103, 8739, 8562, 8573, 7400, 9200, 9300, 9490, 9487, 9800, 11500, 10150, 10930, 11500, 9500, 9100, 7884, 7884, 8837, 10500, 9387, 10200, 13500, 9968, 8650, 8950, 9628, 9857, 10397, 9968, 9600, 9600, 10850, 9800, 8400, 7700, 13100, 13750, 13500, 13000, 13244, 9859, 9680, 9327, 8848, 8779, 9549, 7898, 10000, 7345, 8920, 9500, 9000, 8750, 10000, 9000, 8900, 9800, 13000, 13000, 14000, 15000, 11500, 12500, 15000, 13485, 13290, 14500, 12800, 9800, 9625, 9900, 9450, 9900, 9925, 10550, 9700, 11725, 11343, 11725, 11900, 11725, 11900, 11725, 9325, 11300, 8850, 15887, 15225, 14400, 19964, 8285, 12593, 8251, 8467, 8255, 7681, 7981, 7895, 8841, 13014, 10918, 10807, 12292, 12980, 13792, 13399, 13286, 13300, 14071, 7700, 8500, 9300, 9500, 11300, 9700, 11350, 9425, 11900, 7650, 8850, 14481, 7575, 15661, 14490, 9300, 9300, 10800, 8862, 8239, 8334, 9845, 15990, 16913, 18346, 16605, 15990, 16912, 16605, 16605, 18142, 16912, 18268, 17835, 18450, 7803, 9000, 8900, 8900, 9200, 9200, 8900, 9000, 9200, 8900, 9850, 9160, 7834, 13161, 17473, 13167, 11439, 14653, 15081, 16097, 14033, 12967, 11850, 13414, 8325, 8220, 10414, 10542, 7800, 11502, 13700, 13500, 12800, 9865, 10485, 8888, 8367, 8520, 9182, 9915, 10112, 9245, 9112, 9700, 7600, 7800, 9440, 9100, 10950, 20000, 13800, 12000, 8500, 14500, 8942, 8500, 10600, 9200, 11200, 11050, 15300, 12200, 11600, 11800, 11500, 11500, 12500, 13000, 13500, 8902, 13000, 9161, 9464, 10417, 9341, 10600, 11700, 10600, 11500, 7750, 14000, 13004, 8715, 8614, 9900, 10000, 9700, 10067, 24999, 10618, 13692, 12510, 11276, 12681, 11367, 10150, 20491, 12237, 8892, 8780, 15197, 12900, 7700, 11330, 7802, 7802, 7500, 8005, 8106, 8106, 8208, 8309, 7700, 7700, 7700, 7700, 7700, 7700, 8400, 8502, 8401, 8500, 8500, 8401, 8000, 7650, 6950, 7200, 8100, 8100, 7650, 8200, 8200, 8100, 20000, 12000, 13500, 13300, 14000, 14000, 14500, 7800, 13300, 10381, 10792, 10784, 11004, 12207, 12928, 8660, 9900, 22000, 13483, 12074, 13351, 13500, 13932, 13500, 13933, 13825, 13501, 14685, 11799, 13932, 13501, 13825, 12440, 8416, 7813, 8585, 5700, 6600, 6600, 6192, 5800, 6800, 5900, 6902, 8900, 7170, 5400, 7200, 9100, 7300, 10550, 10550, 9982, 7399, 7699, 7449, 7918, 7349, 8217, 7699, 11367, 9600, 9200, 9100, 9600, 10200, 10200, 10200, 10300, 10400, 9100, 10400, 9500, 9000, 9500, 10100, 10100, 10100, 10200, 10300, 10300, 9400, 8900, 9000, 10100, 9500, 10000, 10100, 10200, 10200, 8926, 25377, 6094, 7181, 9220, 15500, 9200, 10283, 10050, 10221, 7612, 8093, 9649, 8298, 8464, 9500, 8560, 8074, 8089, 8179, 7740, 11347, 11130, 7821, 10899, 10899, 9499, 9299, 9499, 10438, 12510, 10750, 12000, 11000, 16500, 9384, 9440, 10676, 10415, 6746, 5614, 11251, 10300, 11290, 11900, 7949, 7699, 10000, 12823, 11098, 12077, 13000, 14200, 15057, 10999, 9724, 9207, 9940, 9866, 8600, 9200, 9400, 6414, 6570, 8891, 8814, 9811, 9801, 9990, 10547, 9750, 9759, 9553, 9949, 10577, 10323, 9598, 9647, 9747, 9747, 9969, 9955, 9595, 9909, 9501, 9706, 9291, 10013, 9751, 9972, 9445, 9906, 10397, 9756, 9163, 9657, 9906, 9798, 9265, 10966, 9447, 10120, 9628, 9572, 9367, 10158, 9470, 9244, 9399, 10216, 9691, 9387, 9760, 9105, 8956, 9545, 9603, 9804, 8799, 9968, 10709, 9702, 9424, 9553, 9340, 9338, 9641, 9298, 9396, 9398, 9337, 8831, 9057, 9449, 9661, 9285, 7275, 9283, 9241, 9206, 9112, 8985, 8670, 9901, 9442, 9642, 9479, 9299, 9445, 9857, 9445, 9445, 10010, 9219, 10377, 8910, 9038, 9387, 8984, 8830, 9453, 9503, 9995, 8916, 9056, 9394, 9032], \"y0\": \" \", \"yaxis\": \"y\"}],\n",
              "                        {\"boxmode\": \"group\", \"legend\": {\"tracegroupgap\": 0}, \"template\": {\"data\": {\"bar\": [{\"error_x\": {\"color\": \"#2a3f5f\"}, \"error_y\": {\"color\": \"#2a3f5f\"}, \"marker\": {\"line\": {\"color\": \"#E5ECF6\", \"width\": 0.5}}, \"type\": \"bar\"}], \"barpolar\": [{\"marker\": {\"line\": {\"color\": \"#E5ECF6\", \"width\": 0.5}}, \"type\": \"barpolar\"}], \"carpet\": [{\"aaxis\": {\"endlinecolor\": \"#2a3f5f\", \"gridcolor\": \"white\", \"linecolor\": \"white\", \"minorgridcolor\": \"white\", \"startlinecolor\": \"#2a3f5f\"}, \"baxis\": {\"endlinecolor\": \"#2a3f5f\", \"gridcolor\": \"white\", \"linecolor\": \"white\", \"minorgridcolor\": \"white\", \"startlinecolor\": \"#2a3f5f\"}, \"type\": \"carpet\"}], \"choropleth\": [{\"colorbar\": {\"outlinewidth\": 0, \"ticks\": \"\"}, \"type\": \"choropleth\"}], \"contour\": [{\"colorbar\": {\"outlinewidth\": 0, \"ticks\": \"\"}, \"colorscale\": [[0.0, \"#0d0887\"], [0.1111111111111111, \"#46039f\"], [0.2222222222222222, \"#7201a8\"], [0.3333333333333333, \"#9c179e\"], [0.4444444444444444, \"#bd3786\"], [0.5555555555555556, \"#d8576b\"], [0.6666666666666666, \"#ed7953\"], [0.7777777777777778, \"#fb9f3a\"], [0.8888888888888888, \"#fdca26\"], [1.0, \"#f0f921\"]], \"type\": \"contour\"}], \"contourcarpet\": [{\"colorbar\": {\"outlinewidth\": 0, \"ticks\": \"\"}, \"type\": \"contourcarpet\"}], \"heatmap\": [{\"colorbar\": {\"outlinewidth\": 0, \"ticks\": \"\"}, \"colorscale\": [[0.0, \"#0d0887\"], [0.1111111111111111, \"#46039f\"], [0.2222222222222222, \"#7201a8\"], [0.3333333333333333, \"#9c179e\"], [0.4444444444444444, \"#bd3786\"], [0.5555555555555556, \"#d8576b\"], [0.6666666666666666, \"#ed7953\"], [0.7777777777777778, \"#fb9f3a\"], [0.8888888888888888, \"#fdca26\"], [1.0, \"#f0f921\"]], \"type\": \"heatmap\"}], \"heatmapgl\": [{\"colorbar\": {\"outlinewidth\": 0, \"ticks\": \"\"}, \"colorscale\": [[0.0, \"#0d0887\"], [0.1111111111111111, \"#46039f\"], [0.2222222222222222, \"#7201a8\"], [0.3333333333333333, \"#9c179e\"], [0.4444444444444444, \"#bd3786\"], [0.5555555555555556, \"#d8576b\"], [0.6666666666666666, \"#ed7953\"], [0.7777777777777778, \"#fb9f3a\"], [0.8888888888888888, \"#fdca26\"], [1.0, \"#f0f921\"]], \"type\": \"heatmapgl\"}], \"histogram\": [{\"marker\": {\"colorbar\": {\"outlinewidth\": 0, \"ticks\": \"\"}}, \"type\": \"histogram\"}], \"histogram2d\": [{\"colorbar\": {\"outlinewidth\": 0, \"ticks\": \"\"}, \"colorscale\": [[0.0, \"#0d0887\"], [0.1111111111111111, \"#46039f\"], [0.2222222222222222, \"#7201a8\"], [0.3333333333333333, \"#9c179e\"], [0.4444444444444444, \"#bd3786\"], [0.5555555555555556, \"#d8576b\"], [0.6666666666666666, \"#ed7953\"], [0.7777777777777778, \"#fb9f3a\"], [0.8888888888888888, \"#fdca26\"], [1.0, \"#f0f921\"]], \"type\": \"histogram2d\"}], \"histogram2dcontour\": [{\"colorbar\": {\"outlinewidth\": 0, \"ticks\": \"\"}, \"colorscale\": [[0.0, \"#0d0887\"], [0.1111111111111111, \"#46039f\"], [0.2222222222222222, \"#7201a8\"], [0.3333333333333333, \"#9c179e\"], [0.4444444444444444, \"#bd3786\"], [0.5555555555555556, \"#d8576b\"], [0.6666666666666666, \"#ed7953\"], [0.7777777777777778, \"#fb9f3a\"], [0.8888888888888888, \"#fdca26\"], [1.0, \"#f0f921\"]], \"type\": \"histogram2dcontour\"}], \"mesh3d\": [{\"colorbar\": {\"outlinewidth\": 0, \"ticks\": \"\"}, \"type\": \"mesh3d\"}], \"parcoords\": [{\"line\": {\"colorbar\": {\"outlinewidth\": 0, \"ticks\": \"\"}}, \"type\": \"parcoords\"}], \"pie\": [{\"automargin\": true, \"type\": \"pie\"}], \"scatter\": [{\"marker\": {\"colorbar\": {\"outlinewidth\": 0, \"ticks\": \"\"}}, \"type\": \"scatter\"}], \"scatter3d\": [{\"line\": {\"colorbar\": {\"outlinewidth\": 0, \"ticks\": \"\"}}, \"marker\": {\"colorbar\": {\"outlinewidth\": 0, \"ticks\": \"\"}}, \"type\": \"scatter3d\"}], \"scattercarpet\": [{\"marker\": {\"colorbar\": {\"outlinewidth\": 0, \"ticks\": \"\"}}, \"type\": \"scattercarpet\"}], \"scattergeo\": [{\"marker\": {\"colorbar\": {\"outlinewidth\": 0, \"ticks\": \"\"}}, \"type\": \"scattergeo\"}], \"scattergl\": [{\"marker\": {\"colorbar\": {\"outlinewidth\": 0, \"ticks\": \"\"}}, \"type\": \"scattergl\"}], \"scattermapbox\": [{\"marker\": {\"colorbar\": {\"outlinewidth\": 0, \"ticks\": \"\"}}, \"type\": \"scattermapbox\"}], \"scatterpolar\": [{\"marker\": {\"colorbar\": {\"outlinewidth\": 0, \"ticks\": \"\"}}, \"type\": \"scatterpolar\"}], \"scatterpolargl\": [{\"marker\": {\"colorbar\": {\"outlinewidth\": 0, \"ticks\": \"\"}}, \"type\": \"scatterpolargl\"}], \"scatterternary\": [{\"marker\": {\"colorbar\": {\"outlinewidth\": 0, \"ticks\": \"\"}}, \"type\": \"scatterternary\"}], \"surface\": [{\"colorbar\": {\"outlinewidth\": 0, \"ticks\": \"\"}, \"colorscale\": [[0.0, \"#0d0887\"], [0.1111111111111111, \"#46039f\"], [0.2222222222222222, \"#7201a8\"], [0.3333333333333333, \"#9c179e\"], [0.4444444444444444, \"#bd3786\"], [0.5555555555555556, \"#d8576b\"], [0.6666666666666666, \"#ed7953\"], [0.7777777777777778, \"#fb9f3a\"], [0.8888888888888888, \"#fdca26\"], [1.0, \"#f0f921\"]], \"type\": \"surface\"}], \"table\": [{\"cells\": {\"fill\": {\"color\": \"#EBF0F8\"}, \"line\": {\"color\": \"white\"}}, \"header\": {\"fill\": {\"color\": \"#C8D4E3\"}, \"line\": {\"color\": \"white\"}}, \"type\": \"table\"}]}, \"layout\": {\"annotationdefaults\": {\"arrowcolor\": \"#2a3f5f\", \"arrowhead\": 0, \"arrowwidth\": 1}, \"coloraxis\": {\"colorbar\": {\"outlinewidth\": 0, \"ticks\": \"\"}}, \"colorscale\": {\"diverging\": [[0, \"#8e0152\"], [0.1, \"#c51b7d\"], [0.2, \"#de77ae\"], [0.3, \"#f1b6da\"], [0.4, \"#fde0ef\"], [0.5, \"#f7f7f7\"], [0.6, \"#e6f5d0\"], [0.7, \"#b8e186\"], [0.8, \"#7fbc41\"], [0.9, \"#4d9221\"], [1, \"#276419\"]], \"sequential\": [[0.0, \"#0d0887\"], [0.1111111111111111, \"#46039f\"], [0.2222222222222222, \"#7201a8\"], [0.3333333333333333, \"#9c179e\"], [0.4444444444444444, \"#bd3786\"], [0.5555555555555556, \"#d8576b\"], [0.6666666666666666, \"#ed7953\"], [0.7777777777777778, \"#fb9f3a\"], [0.8888888888888888, \"#fdca26\"], [1.0, \"#f0f921\"]], \"sequentialminus\": [[0.0, \"#0d0887\"], [0.1111111111111111, \"#46039f\"], [0.2222222222222222, \"#7201a8\"], [0.3333333333333333, \"#9c179e\"], [0.4444444444444444, \"#bd3786\"], [0.5555555555555556, \"#d8576b\"], [0.6666666666666666, \"#ed7953\"], [0.7777777777777778, \"#fb9f3a\"], [0.8888888888888888, \"#fdca26\"], [1.0, \"#f0f921\"]]}, \"colorway\": [\"#636efa\", \"#EF553B\", \"#00cc96\", \"#ab63fa\", \"#FFA15A\", \"#19d3f3\", \"#FF6692\", \"#B6E880\", \"#FF97FF\", \"#FECB52\"], \"font\": {\"color\": \"#2a3f5f\"}, \"geo\": {\"bgcolor\": \"white\", \"lakecolor\": \"white\", \"landcolor\": \"#E5ECF6\", \"showlakes\": true, \"showland\": true, \"subunitcolor\": \"white\"}, \"hoverlabel\": {\"align\": \"left\"}, \"hovermode\": \"closest\", \"mapbox\": {\"style\": \"light\"}, \"paper_bgcolor\": \"white\", \"plot_bgcolor\": \"#E5ECF6\", \"polar\": {\"angularaxis\": {\"gridcolor\": \"white\", \"linecolor\": \"white\", \"ticks\": \"\"}, \"bgcolor\": \"#E5ECF6\", \"radialaxis\": {\"gridcolor\": \"white\", \"linecolor\": \"white\", \"ticks\": \"\"}}, \"scene\": {\"xaxis\": {\"backgroundcolor\": \"#E5ECF6\", \"gridcolor\": \"white\", \"gridwidth\": 2, \"linecolor\": \"white\", \"showbackground\": true, \"ticks\": \"\", \"zerolinecolor\": \"white\"}, \"yaxis\": {\"backgroundcolor\": \"#E5ECF6\", \"gridcolor\": \"white\", \"gridwidth\": 2, \"linecolor\": \"white\", \"showbackground\": true, \"ticks\": \"\", \"zerolinecolor\": \"white\"}, \"zaxis\": {\"backgroundcolor\": \"#E5ECF6\", \"gridcolor\": \"white\", \"gridwidth\": 2, \"linecolor\": \"white\", \"showbackground\": true, \"ticks\": \"\", \"zerolinecolor\": \"white\"}}, \"shapedefaults\": {\"line\": {\"color\": \"#2a3f5f\"}}, \"ternary\": {\"aaxis\": {\"gridcolor\": \"white\", \"linecolor\": \"white\", \"ticks\": \"\"}, \"baxis\": {\"gridcolor\": \"white\", \"linecolor\": \"white\", \"ticks\": \"\"}, \"bgcolor\": \"#E5ECF6\", \"caxis\": {\"gridcolor\": \"white\", \"linecolor\": \"white\", \"ticks\": \"\"}}, \"title\": {\"x\": 0.05}, \"xaxis\": {\"automargin\": true, \"gridcolor\": \"white\", \"linecolor\": \"white\", \"ticks\": \"\", \"title\": {\"standoff\": 15}, \"zerolinecolor\": \"white\", \"zerolinewidth\": 2}, \"yaxis\": {\"automargin\": true, \"gridcolor\": \"white\", \"linecolor\": \"white\", \"ticks\": \"\", \"title\": {\"standoff\": 15}, \"zerolinecolor\": \"white\", \"zerolinewidth\": 2}}}, \"title\": {\"text\": \"Cena 1m2 mieszkania w zale\\u017cno\\u015bci od nr pi\\u0119tra, na kt\\u00f3rej znajduje si\\u0119 nieruchomo\\u015b\\u0107\"}, \"xaxis\": {\"anchor\": \"y\", \"domain\": [0.0, 1.0], \"title\": {\"text\": \"n_floor\"}}, \"yaxis\": {\"anchor\": \"x\", \"domain\": [0.0, 1.0], \"title\": {\"text\": \"price_per_m2\"}}},\n",
              "                        {\"responsive\": true}\n",
              "                    ).then(function(){\n",
              "                            \n",
              "var gd = document.getElementById('3d953e00-eb8c-442c-9327-c38cd5d8c1a4');\n",
              "var x = new MutationObserver(function (mutations, observer) {{\n",
              "        var display = window.getComputedStyle(gd).display;\n",
              "        if (!display || display === 'none') {{\n",
              "            console.log([gd, 'removed!']);\n",
              "            Plotly.purge(gd);\n",
              "            observer.disconnect();\n",
              "        }}\n",
              "}});\n",
              "\n",
              "// Listen for the removal of the full notebook cells\n",
              "var notebookContainer = gd.closest('#notebook-container');\n",
              "if (notebookContainer) {{\n",
              "    x.observe(notebookContainer, {childList: true});\n",
              "}}\n",
              "\n",
              "// Listen for the clearing of the current output cell\n",
              "var outputEl = gd.closest('.output');\n",
              "if (outputEl) {{\n",
              "    x.observe(outputEl, {childList: true});\n",
              "}}\n",
              "\n",
              "                        })\n",
              "                };\n",
              "                \n",
              "            </script>\n",
              "        </div>\n",
              "</body>\n",
              "</html>"
            ]
          },
          "metadata": {
            "tags": []
          }
        }
      ]
    },
    {
      "cell_type": "code",
      "metadata": {
        "colab": {
          "base_uri": "https://localhost:8080/",
          "height": 459
        },
        "id": "hJu5j6JSuCF6",
        "outputId": "724cb5a4-df26-49c2-9e2d-d3f9f771b558"
      },
      "source": [
        "gratka_df.query(\"price_per_m2 == 40000 \")"
      ],
      "execution_count": 73,
      "outputs": [
        {
          "output_type": "execute_result",
          "data": {
            "text/html": [
              "<div>\n",
              "<style scoped>\n",
              "    .dataframe tbody tr th:only-of-type {\n",
              "        vertical-align: middle;\n",
              "    }\n",
              "\n",
              "    .dataframe tbody tr th {\n",
              "        vertical-align: top;\n",
              "    }\n",
              "\n",
              "    .dataframe thead th {\n",
              "        text-align: right;\n",
              "    }\n",
              "</style>\n",
              "<table border=\"1\" class=\"dataframe\">\n",
              "  <thead>\n",
              "    <tr style=\"text-align: right;\">\n",
              "      <th></th>\n",
              "      <th>url_base</th>\n",
              "      <th>url_page</th>\n",
              "      <th>page</th>\n",
              "      <th>location</th>\n",
              "      <th>title</th>\n",
              "      <th>link</th>\n",
              "      <th>description</th>\n",
              "      <th>area_m2</th>\n",
              "      <th>n_rooms</th>\n",
              "      <th>n_floor</th>\n",
              "      <th>price_per_m2</th>\n",
              "    </tr>\n",
              "  </thead>\n",
              "  <tbody>\n",
              "    <tr>\n",
              "      <th>1262</th>\n",
              "      <td>https://gratka.pl/nieruchomosci/mieszkania/krakow/pierwotny</td>\n",
              "      <td>https://gratka.pl/nieruchomosci/mieszkania/krakow/pierwotny?page=41</td>\n",
              "      <td>41</td>\n",
              "      <td>Kraków,                                         Stare Miasto,                                         małopolskie</td>\n",
              "      <td>Nowe mieszkanie Kraków Stare Miasto, ul. św. Sebastiana</td>\n",
              "      <td>https://gratka.pl/nieruchomosci/nowe-mieszkanie-krakow-stare-miasto-ul-sw-sebastiana/ob/21010453</td>\n",
              "      <td>STARE MIASTO - ATRAKCYJNA INWESTYCJA W CENTRUM KRAKOWA!      Prezentowana ofertach to  kameralna inwestycja 10 mieszkań , zlokalizowanych w historycznej cz</td>\n",
              "      <td>27.50</td>\n",
              "      <td>1</td>\n",
              "      <td>3.0</td>\n",
              "      <td>40000</td>\n",
              "    </tr>\n",
              "    <tr>\n",
              "      <th>1264</th>\n",
              "      <td>https://gratka.pl/nieruchomosci/mieszkania/krakow/pierwotny</td>\n",
              "      <td>https://gratka.pl/nieruchomosci/mieszkania/krakow/pierwotny?page=41</td>\n",
              "      <td>41</td>\n",
              "      <td>Kraków,                                         Stare Miasto,                                         małopolskie</td>\n",
              "      <td>Nowe mieszkanie Kraków Stare Miasto, ul. św. Sebastiana</td>\n",
              "      <td>https://gratka.pl/nieruchomosci/nowe-mieszkanie-krakow-stare-miasto-ul-sw-sebastiana/ob/21010451</td>\n",
              "      <td>STARE MIASTO - ATRAKCYJNA INWESTYCJA W CENTRUM KRAKOWA!      Prezentowana ofertach to  kameralna inwestycja 10 mieszkań , zlokalizowanych w historycznej cz</td>\n",
              "      <td>25.01</td>\n",
              "      <td>1</td>\n",
              "      <td>1.0</td>\n",
              "      <td>40000</td>\n",
              "    </tr>\n",
              "  </tbody>\n",
              "</table>\n",
              "</div>"
            ],
            "text/plain": [
              "                                                         url_base  ... price_per_m2\n",
              "1262  https://gratka.pl/nieruchomosci/mieszkania/krakow/pierwotny  ...        40000\n",
              "1264  https://gratka.pl/nieruchomosci/mieszkania/krakow/pierwotny  ...        40000\n",
              "\n",
              "[2 rows x 11 columns]"
            ]
          },
          "metadata": {
            "tags": []
          },
          "execution_count": 73
        }
      ]
    },
    {
      "cell_type": "code",
      "metadata": {
        "id": "ugE4nTXQEuff"
      },
      "source": [
        "gratka_df[\"district\"] = gratka_df[\"location\"].str.replace(\",\",\"\")\n",
        "gratka_df[\"district\"] = gratka_df[\"district\"].str.replace(\"Kraków\",\"\")\n",
        "gratka_df[\"district\"] = gratka_df[\"district\"].str.replace(\"małopolskie\",\"\")\n",
        "gratka_df[\"district\"] = gratka_df[\"district\"].str.strip()"
      ],
      "execution_count": 79,
      "outputs": []
    },
    {
      "cell_type": "code",
      "metadata": {
        "id": "BKlxKHShFYxq",
        "outputId": "4b20f81b-cb03-4935-cd5a-42f4ffbcbe17",
        "colab": {
          "base_uri": "https://localhost:8080/"
        }
      },
      "source": [
        "gratka_df[\"district\"].value_counts()"
      ],
      "execution_count": 83,
      "outputs": [
        {
          "output_type": "execute_result",
          "data": {
            "text/plain": [
              "                          563\n",
              "Podgórze                  375\n",
              "Mistrzejowice             301\n",
              "Płaszów                   280\n",
              "Prądnik Biały             276\n",
              "Grzegórzki                247\n",
              "Krowodrza                 212\n",
              "Zabłocie                  156\n",
              "Wola Duchacka             108\n",
              "Os. Prądnik Biały          92\n",
              "Dębniki                    92\n",
              "Bieżanów                   83\n",
              "Stare Miasto               83\n",
              "Prądnik Czerwony           57\n",
              "Bronowice Małe             49\n",
              "Wola Justowska             44\n",
              "Górka Narodowa             42\n",
              "Nowa Huta                  41\n",
              "Czyżyny Stare              29\n",
              "Salwator                   29\n",
              "Azory                      25\n",
              "Czyżyny                    25\n",
              "Os. Prądnik Czerwony       24\n",
              "Zwierzyniec                22\n",
              "Bronowice                  20\n",
              "Os. Kliny Zacisze          20\n",
              "Os. Ruczaj                 18\n",
              "Olsza                      17\n",
              "Podgórze Stare             14\n",
              "Dąbie                      13\n",
              "Os. Złocień                11\n",
              "Sidzina                    11\n",
              "Kazimierz                   9\n",
              "Kleparz                     8\n",
              "Kurdwanów                   7\n",
              "Bronowice Wielkie           7\n",
              "Łobzów                      7\n",
              "Pychowice                   5\n",
              "Borek Fałęcki               5\n",
              "Nowy Świat                  5\n",
              "Os. Mistrzejowice Nowe      5\n",
              "Ludwinów                    4\n",
              "Ugorek                      4\n",
              "Grzegórzki Stare            4\n",
              "Mateczny                    4\n",
              "Ruczaj                      3\n",
              "Bielany                     3\n",
              "Witkowice                   3\n",
              "Cichy Kącik                 3\n",
              "Półwsie Zwierzynieckie      2\n",
              "Swoszowice                  2\n",
              "Łagiewniki                  2\n",
              "XI Podgórze Duchackie       2\n",
              "Opatkowice                  2\n",
              "Warszawskie                 1\n",
              "Nowa Wieś                   1\n",
              "Wawel                       1\n",
              "Os. Bieżanów Nowy           1\n",
              "Tonie                       1\n",
              "Olszanica                   1\n",
              "Name: district, dtype: int64"
            ]
          },
          "metadata": {
            "tags": []
          },
          "execution_count": 83
        }
      ]
    },
    {
      "cell_type": "code",
      "metadata": {
        "id": "dAjwCIYU4XTE"
      },
      "source": [
        ""
      ],
      "execution_count": null,
      "outputs": []
    }
  ]
}