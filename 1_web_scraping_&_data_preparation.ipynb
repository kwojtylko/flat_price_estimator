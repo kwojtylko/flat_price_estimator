{
  "nbformat": 4,
  "nbformat_minor": 0,
  "metadata": {
    "colab": {
      "name": "1_web_scraping & data_preparation.ipynb",
      "provenance": [],
      "collapsed_sections": [],
      "toc_visible": true,
      "authorship_tag": "ABX9TyO2uMwhfxrMRH5nBGkXsXx3",
      "include_colab_link": true
    },
    "kernelspec": {
      "name": "python3",
      "display_name": "Python 3"
    },
    "language_info": {
      "name": "python"
    }
  },
  "cells": [
    {
      "cell_type": "markdown",
      "metadata": {
        "id": "view-in-github",
        "colab_type": "text"
      },
      "source": [
        "<a href=\"https://colab.research.google.com/github/kwojtylko/flat_price_estimator/blob/main/1_web_scraping_%26_data_preparation.ipynb\" target=\"_parent\"><img src=\"https://colab.research.google.com/assets/colab-badge.svg\" alt=\"Open In Colab\"/></a>"
      ]
    },
    {
      "cell_type": "markdown",
      "metadata": {
        "id": "-RIp-FMwXpFA"
      },
      "source": [
        "## Predykcja ceny 1 m2 mieszkania  na rynku pierwotym w Krakowie na podstawie ofert zamieszczonych na portalu gratka.pl "
      ]
    },
    {
      "cell_type": "code",
      "metadata": {
        "id": "Ys2nAZfn5qf2"
      },
      "source": [
        "# import bibliotek\n",
        "import requests\n",
        "from bs4 import BeautifulSoup\n",
        "import time\n",
        "import pandas as pd\n",
        "import numpy as np"
      ],
      "execution_count": 1,
      "outputs": []
    },
    {
      "cell_type": "markdown",
      "metadata": {
        "id": "9RDJuuWz5wmt"
      },
      "source": [
        "# Pobranie danych"
      ]
    },
    {
      "cell_type": "code",
      "metadata": {
        "id": "wsSdg1b9P_sl"
      },
      "source": [
        "def get_offers_gratka(real_estate=\"mieszkania\", city=\"krakow\", market=\"pierwotny\"):\n",
        "\n",
        "  # tworzenie listy z nazwami cech\n",
        "  features  = [ [\"url_base\", \n",
        "                \"url_page\", \n",
        "                \"page\",\n",
        "                \"location\",  \n",
        "                \"title\", \n",
        "                \"link\",\n",
        "                \"description\",\n",
        "                \"area_m2\", \n",
        "                \"n_rooms\",\n",
        "                \"n_floor\", \n",
        "                \"price_per_m2\" \n",
        "             ] ]\n",
        "\n",
        "\n",
        "  # pobranie liczby dostępnych stron w wyniku wyszukiwania\n",
        "  \n",
        "  URL_base = \"https://gratka.pl/nieruchomosci/\" + real_estate + \"/\" + city + \"/\" + market\n",
        "  req_url_base = requests.get(URL_base)\n",
        "  html_url_base = req_url_base.content\n",
        "  soup_url_base = BeautifulSoup(html_url_base, \"lxml\")\n",
        "  n_pages = 110\n",
        "  \n",
        "\n",
        "\n",
        "  # pętla do pobrania wszystkich stron\n",
        "  for page in range(1, n_pages+1):\n",
        "    time.sleep(1)\n",
        "\n",
        "    # definiowanie żądania\n",
        "    URL_page = URL_base + \"?page=\" + str(page)\n",
        "    req_page = requests.get(URL_page) \n",
        "    print(\"Strona:\", page, \"|\", \"Status:\", req_page, sep=\" \", end=\"\\n\")\n",
        "\n",
        "    # pobranie strony html\n",
        "    html_page = req_page.content\n",
        "\n",
        "    # tworzenie obiektu BeautifulSoup\n",
        "    soup_page = BeautifulSoup(html_page, \"lxml\")\n",
        "\n",
        "    # lista z informacjami o ofertach ze sparsowanej strony\n",
        "    offers = soup_page.find_all(\"article\", {\"class\": \"teaserUnified\"})\n",
        "    print(\"Lista ofert na stronie:\", len(offers), \"| Strona: [\", page, \"/\", n_pages, \"]\", sep=\" \", end=\"\\n\")\n",
        "\n",
        "    for offer in offers:\n",
        "\n",
        "      # pobranie lokalizacji oferty\n",
        "      location = offer.find(\"span\", {\"class\": \"teaserUnified__location\"}).text.strip()\n",
        "\n",
        "      # pobranie tytułu oferty\n",
        "      title = offer.find(\"a\", {\"class\": \"teaserUnified__anchor\"}).text.strip()\n",
        "\n",
        "      # pobranie linku do oferty\n",
        "      link = offer.find(\"a\").get(\"href\")\n",
        "\n",
        "      # pobranie opisu oferty\n",
        "      description = np.NaN if offer.find(\"p\", {\"class\": \"teaserUnified__description\"})==None else offer.find(\"p\", {\"class\": \"teaserUnified__description\"}).text.strip()\n",
        "\n",
        "      # pobranie ceny zł/m2 z oferty\n",
        "      price_per_m2 = np.NaN if offer.find(\"span\", {\"class\": \"teaserUnified__additionalPrice\"})==None else offer.find(\"span\", {\"class\": \"teaserUnified__additionalPrice\"}).text.strip(\"zł/m²\").strip(\"\\n\").replace(\" \",\"\").replace(\",\",\".\") \n",
        "\n",
        "      # pobranie informacji o metrazu, liczbie pokoi oraz nr piętra\n",
        "      offer_details = offer.find_all(\"li\", {\"class\": \"teaserUnified__listItem\"})\n",
        "      \n",
        "      # tworzenie pętli dla uzupełnienia listy z dodatkową informacją\n",
        "      # o metrazu, liczbie pokoi oraz nr piętra\n",
        "      offer_detail_list = []\n",
        "      for offer_detail in offer_details:\n",
        "          offer_detail_list.append(offer_detail.text)\n",
        "          #print(offer_detail_list)\n",
        "      \n",
        "      # pobranie metraza\n",
        "      area_m2 = \"\".join(list(filter(lambda i: \"m2\" in i, offer_detail_list))).replace(\" m2\", \"\").replace(\",\",\".\")\n",
        "\n",
        "      # pobranie liczby pokoi\n",
        "      n_rooms = \"\".join(list(filter(lambda i: \" pok\" in i, offer_detail_list))).replace(\" pokoje\", \"\").replace(\" pokój\", \"\").replace(\" pokoi\", \"\")\n",
        "      \n",
        "      # pobranie nr piętra       \n",
        "      n_floor = 0 if \"parter\" in offer_detail_list else \"\".join(list(filter(lambda i: \"piętro\" in i, offer_detail_list))).replace(\" piętro\", \"\")\n",
        "\n",
        "\n",
        "\n",
        "      features.append([URL_base, \n",
        "                URL_page, \n",
        "                page,\n",
        "                location,  \n",
        "                title, \n",
        "                link,\n",
        "                description,\n",
        "                area_m2, \n",
        "                n_rooms,\n",
        "                n_floor, \n",
        "                price_per_m2 \n",
        "             ])\n",
        "      \n",
        "  # przekształcenie zbioru danych w DF \n",
        "  return(pd.DataFrame(features[1:], columns=features[0]))"
      ],
      "execution_count": null,
      "outputs": []
    },
    {
      "cell_type": "code",
      "metadata": {
        "colab": {
          "base_uri": "https://localhost:8080/"
        },
        "id": "eRrYiFCyI4sy",
        "outputId": "dc542cde-da31-4803-8467-41b8f98bba38"
      },
      "source": [
        "# przygotowanie df\n",
        "gratka_df = get_offers_gratka()"
      ],
      "execution_count": null,
      "outputs": [
        {
          "output_type": "stream",
          "text": [
            "Strona: 1 | Status: <Response [200]>\n",
            "Lista ofert na stronie: 32 | Strona: [ 1 / 110 ]\n",
            "Strona: 2 | Status: <Response [200]>\n",
            "Lista ofert na stronie: 32 | Strona: [ 2 / 110 ]\n",
            "Strona: 3 | Status: <Response [200]>\n",
            "Lista ofert na stronie: 32 | Strona: [ 3 / 110 ]\n",
            "Strona: 4 | Status: <Response [200]>\n",
            "Lista ofert na stronie: 32 | Strona: [ 4 / 110 ]\n",
            "Strona: 5 | Status: <Response [200]>\n",
            "Lista ofert na stronie: 32 | Strona: [ 5 / 110 ]\n",
            "Strona: 6 | Status: <Response [200]>\n",
            "Lista ofert na stronie: 32 | Strona: [ 6 / 110 ]\n",
            "Strona: 7 | Status: <Response [200]>\n",
            "Lista ofert na stronie: 32 | Strona: [ 7 / 110 ]\n",
            "Strona: 8 | Status: <Response [200]>\n",
            "Lista ofert na stronie: 32 | Strona: [ 8 / 110 ]\n",
            "Strona: 9 | Status: <Response [200]>\n",
            "Lista ofert na stronie: 32 | Strona: [ 9 / 110 ]\n",
            "Strona: 10 | Status: <Response [200]>\n",
            "Lista ofert na stronie: 32 | Strona: [ 10 / 110 ]\n",
            "Strona: 11 | Status: <Response [200]>\n",
            "Lista ofert na stronie: 32 | Strona: [ 11 / 110 ]\n",
            "Strona: 12 | Status: <Response [200]>\n",
            "Lista ofert na stronie: 32 | Strona: [ 12 / 110 ]\n",
            "Strona: 13 | Status: <Response [200]>\n",
            "Lista ofert na stronie: 32 | Strona: [ 13 / 110 ]\n",
            "Strona: 14 | Status: <Response [200]>\n",
            "Lista ofert na stronie: 32 | Strona: [ 14 / 110 ]\n",
            "Strona: 15 | Status: <Response [200]>\n",
            "Lista ofert na stronie: 32 | Strona: [ 15 / 110 ]\n",
            "Strona: 16 | Status: <Response [200]>\n",
            "Lista ofert na stronie: 32 | Strona: [ 16 / 110 ]\n",
            "Strona: 17 | Status: <Response [200]>\n",
            "Lista ofert na stronie: 32 | Strona: [ 17 / 110 ]\n",
            "Strona: 18 | Status: <Response [200]>\n",
            "Lista ofert na stronie: 32 | Strona: [ 18 / 110 ]\n",
            "Strona: 19 | Status: <Response [200]>\n",
            "Lista ofert na stronie: 32 | Strona: [ 19 / 110 ]\n",
            "Strona: 20 | Status: <Response [200]>\n",
            "Lista ofert na stronie: 32 | Strona: [ 20 / 110 ]\n",
            "Strona: 21 | Status: <Response [200]>\n",
            "Lista ofert na stronie: 32 | Strona: [ 21 / 110 ]\n",
            "Strona: 22 | Status: <Response [200]>\n",
            "Lista ofert na stronie: 32 | Strona: [ 22 / 110 ]\n",
            "Strona: 23 | Status: <Response [200]>\n",
            "Lista ofert na stronie: 32 | Strona: [ 23 / 110 ]\n",
            "Strona: 24 | Status: <Response [200]>\n",
            "Lista ofert na stronie: 32 | Strona: [ 24 / 110 ]\n",
            "Strona: 25 | Status: <Response [200]>\n",
            "Lista ofert na stronie: 32 | Strona: [ 25 / 110 ]\n",
            "Strona: 26 | Status: <Response [200]>\n",
            "Lista ofert na stronie: 32 | Strona: [ 26 / 110 ]\n",
            "Strona: 27 | Status: <Response [200]>\n",
            "Lista ofert na stronie: 32 | Strona: [ 27 / 110 ]\n",
            "Strona: 28 | Status: <Response [200]>\n",
            "Lista ofert na stronie: 32 | Strona: [ 28 / 110 ]\n",
            "Strona: 29 | Status: <Response [200]>\n",
            "Lista ofert na stronie: 32 | Strona: [ 29 / 110 ]\n",
            "Strona: 30 | Status: <Response [200]>\n",
            "Lista ofert na stronie: 32 | Strona: [ 30 / 110 ]\n",
            "Strona: 31 | Status: <Response [200]>\n",
            "Lista ofert na stronie: 32 | Strona: [ 31 / 110 ]\n",
            "Strona: 32 | Status: <Response [200]>\n",
            "Lista ofert na stronie: 32 | Strona: [ 32 / 110 ]\n",
            "Strona: 33 | Status: <Response [200]>\n",
            "Lista ofert na stronie: 32 | Strona: [ 33 / 110 ]\n",
            "Strona: 34 | Status: <Response [200]>\n",
            "Lista ofert na stronie: 32 | Strona: [ 34 / 110 ]\n",
            "Strona: 35 | Status: <Response [200]>\n",
            "Lista ofert na stronie: 32 | Strona: [ 35 / 110 ]\n",
            "Strona: 36 | Status: <Response [200]>\n",
            "Lista ofert na stronie: 32 | Strona: [ 36 / 110 ]\n",
            "Strona: 37 | Status: <Response [200]>\n",
            "Lista ofert na stronie: 32 | Strona: [ 37 / 110 ]\n",
            "Strona: 38 | Status: <Response [200]>\n",
            "Lista ofert na stronie: 32 | Strona: [ 38 / 110 ]\n",
            "Strona: 39 | Status: <Response [200]>\n",
            "Lista ofert na stronie: 32 | Strona: [ 39 / 110 ]\n",
            "Strona: 40 | Status: <Response [200]>\n",
            "Lista ofert na stronie: 32 | Strona: [ 40 / 110 ]\n",
            "Strona: 41 | Status: <Response [200]>\n",
            "Lista ofert na stronie: 32 | Strona: [ 41 / 110 ]\n",
            "Strona: 42 | Status: <Response [200]>\n",
            "Lista ofert na stronie: 32 | Strona: [ 42 / 110 ]\n",
            "Strona: 43 | Status: <Response [200]>\n",
            "Lista ofert na stronie: 32 | Strona: [ 43 / 110 ]\n",
            "Strona: 44 | Status: <Response [200]>\n",
            "Lista ofert na stronie: 32 | Strona: [ 44 / 110 ]\n",
            "Strona: 45 | Status: <Response [200]>\n",
            "Lista ofert na stronie: 32 | Strona: [ 45 / 110 ]\n",
            "Strona: 46 | Status: <Response [200]>\n",
            "Lista ofert na stronie: 32 | Strona: [ 46 / 110 ]\n",
            "Strona: 47 | Status: <Response [200]>\n",
            "Lista ofert na stronie: 32 | Strona: [ 47 / 110 ]\n",
            "Strona: 48 | Status: <Response [200]>\n",
            "Lista ofert na stronie: 32 | Strona: [ 48 / 110 ]\n",
            "Strona: 49 | Status: <Response [200]>\n",
            "Lista ofert na stronie: 32 | Strona: [ 49 / 110 ]\n",
            "Strona: 50 | Status: <Response [200]>\n",
            "Lista ofert na stronie: 32 | Strona: [ 50 / 110 ]\n",
            "Strona: 51 | Status: <Response [200]>\n",
            "Lista ofert na stronie: 32 | Strona: [ 51 / 110 ]\n",
            "Strona: 52 | Status: <Response [200]>\n",
            "Lista ofert na stronie: 32 | Strona: [ 52 / 110 ]\n",
            "Strona: 53 | Status: <Response [200]>\n",
            "Lista ofert na stronie: 32 | Strona: [ 53 / 110 ]\n",
            "Strona: 54 | Status: <Response [200]>\n",
            "Lista ofert na stronie: 32 | Strona: [ 54 / 110 ]\n",
            "Strona: 55 | Status: <Response [200]>\n",
            "Lista ofert na stronie: 32 | Strona: [ 55 / 110 ]\n",
            "Strona: 56 | Status: <Response [200]>\n",
            "Lista ofert na stronie: 32 | Strona: [ 56 / 110 ]\n",
            "Strona: 57 | Status: <Response [200]>\n",
            "Lista ofert na stronie: 32 | Strona: [ 57 / 110 ]\n",
            "Strona: 58 | Status: <Response [200]>\n",
            "Lista ofert na stronie: 32 | Strona: [ 58 / 110 ]\n",
            "Strona: 59 | Status: <Response [200]>\n",
            "Lista ofert na stronie: 32 | Strona: [ 59 / 110 ]\n",
            "Strona: 60 | Status: <Response [200]>\n",
            "Lista ofert na stronie: 32 | Strona: [ 60 / 110 ]\n",
            "Strona: 61 | Status: <Response [200]>\n",
            "Lista ofert na stronie: 32 | Strona: [ 61 / 110 ]\n",
            "Strona: 62 | Status: <Response [200]>\n",
            "Lista ofert na stronie: 32 | Strona: [ 62 / 110 ]\n",
            "Strona: 63 | Status: <Response [200]>\n",
            "Lista ofert na stronie: 32 | Strona: [ 63 / 110 ]\n",
            "Strona: 64 | Status: <Response [200]>\n",
            "Lista ofert na stronie: 32 | Strona: [ 64 / 110 ]\n",
            "Strona: 65 | Status: <Response [200]>\n",
            "Lista ofert na stronie: 32 | Strona: [ 65 / 110 ]\n",
            "Strona: 66 | Status: <Response [200]>\n",
            "Lista ofert na stronie: 32 | Strona: [ 66 / 110 ]\n",
            "Strona: 67 | Status: <Response [200]>\n",
            "Lista ofert na stronie: 32 | Strona: [ 67 / 110 ]\n",
            "Strona: 68 | Status: <Response [200]>\n",
            "Lista ofert na stronie: 32 | Strona: [ 68 / 110 ]\n",
            "Strona: 69 | Status: <Response [200]>\n",
            "Lista ofert na stronie: 32 | Strona: [ 69 / 110 ]\n",
            "Strona: 70 | Status: <Response [200]>\n",
            "Lista ofert na stronie: 32 | Strona: [ 70 / 110 ]\n",
            "Strona: 71 | Status: <Response [200]>\n",
            "Lista ofert na stronie: 32 | Strona: [ 71 / 110 ]\n",
            "Strona: 72 | Status: <Response [200]>\n",
            "Lista ofert na stronie: 32 | Strona: [ 72 / 110 ]\n",
            "Strona: 73 | Status: <Response [200]>\n",
            "Lista ofert na stronie: 32 | Strona: [ 73 / 110 ]\n",
            "Strona: 74 | Status: <Response [200]>\n",
            "Lista ofert na stronie: 32 | Strona: [ 74 / 110 ]\n",
            "Strona: 75 | Status: <Response [200]>\n",
            "Lista ofert na stronie: 32 | Strona: [ 75 / 110 ]\n",
            "Strona: 76 | Status: <Response [200]>\n",
            "Lista ofert na stronie: 32 | Strona: [ 76 / 110 ]\n",
            "Strona: 77 | Status: <Response [200]>\n",
            "Lista ofert na stronie: 32 | Strona: [ 77 / 110 ]\n",
            "Strona: 78 | Status: <Response [200]>\n",
            "Lista ofert na stronie: 32 | Strona: [ 78 / 110 ]\n",
            "Strona: 79 | Status: <Response [200]>\n",
            "Lista ofert na stronie: 32 | Strona: [ 79 / 110 ]\n",
            "Strona: 80 | Status: <Response [200]>\n",
            "Lista ofert na stronie: 32 | Strona: [ 80 / 110 ]\n",
            "Strona: 81 | Status: <Response [200]>\n",
            "Lista ofert na stronie: 32 | Strona: [ 81 / 110 ]\n",
            "Strona: 82 | Status: <Response [200]>\n",
            "Lista ofert na stronie: 32 | Strona: [ 82 / 110 ]\n",
            "Strona: 83 | Status: <Response [200]>\n",
            "Lista ofert na stronie: 32 | Strona: [ 83 / 110 ]\n",
            "Strona: 84 | Status: <Response [200]>\n",
            "Lista ofert na stronie: 32 | Strona: [ 84 / 110 ]\n",
            "Strona: 85 | Status: <Response [200]>\n",
            "Lista ofert na stronie: 32 | Strona: [ 85 / 110 ]\n",
            "Strona: 86 | Status: <Response [200]>\n",
            "Lista ofert na stronie: 32 | Strona: [ 86 / 110 ]\n",
            "Strona: 87 | Status: <Response [200]>\n",
            "Lista ofert na stronie: 32 | Strona: [ 87 / 110 ]\n",
            "Strona: 88 | Status: <Response [200]>\n",
            "Lista ofert na stronie: 32 | Strona: [ 88 / 110 ]\n",
            "Strona: 89 | Status: <Response [200]>\n",
            "Lista ofert na stronie: 32 | Strona: [ 89 / 110 ]\n",
            "Strona: 90 | Status: <Response [200]>\n",
            "Lista ofert na stronie: 32 | Strona: [ 90 / 110 ]\n",
            "Strona: 91 | Status: <Response [200]>\n",
            "Lista ofert na stronie: 32 | Strona: [ 91 / 110 ]\n",
            "Strona: 92 | Status: <Response [200]>\n",
            "Lista ofert na stronie: 32 | Strona: [ 92 / 110 ]\n",
            "Strona: 93 | Status: <Response [200]>\n",
            "Lista ofert na stronie: 32 | Strona: [ 93 / 110 ]\n",
            "Strona: 94 | Status: <Response [200]>\n",
            "Lista ofert na stronie: 32 | Strona: [ 94 / 110 ]\n",
            "Strona: 95 | Status: <Response [200]>\n",
            "Lista ofert na stronie: 32 | Strona: [ 95 / 110 ]\n",
            "Strona: 96 | Status: <Response [200]>\n",
            "Lista ofert na stronie: 32 | Strona: [ 96 / 110 ]\n",
            "Strona: 97 | Status: <Response [200]>\n",
            "Lista ofert na stronie: 32 | Strona: [ 97 / 110 ]\n",
            "Strona: 98 | Status: <Response [200]>\n",
            "Lista ofert na stronie: 32 | Strona: [ 98 / 110 ]\n",
            "Strona: 99 | Status: <Response [200]>\n",
            "Lista ofert na stronie: 32 | Strona: [ 99 / 110 ]\n",
            "Strona: 100 | Status: <Response [200]>\n",
            "Lista ofert na stronie: 32 | Strona: [ 100 / 110 ]\n",
            "Strona: 101 | Status: <Response [200]>\n",
            "Lista ofert na stronie: 32 | Strona: [ 101 / 110 ]\n",
            "Strona: 102 | Status: <Response [200]>\n",
            "Lista ofert na stronie: 32 | Strona: [ 102 / 110 ]\n",
            "Strona: 103 | Status: <Response [200]>\n",
            "Lista ofert na stronie: 32 | Strona: [ 103 / 110 ]\n",
            "Strona: 104 | Status: <Response [200]>\n",
            "Lista ofert na stronie: 32 | Strona: [ 104 / 110 ]\n",
            "Strona: 105 | Status: <Response [200]>\n",
            "Lista ofert na stronie: 32 | Strona: [ 105 / 110 ]\n",
            "Strona: 106 | Status: <Response [200]>\n",
            "Lista ofert na stronie: 32 | Strona: [ 106 / 110 ]\n",
            "Strona: 107 | Status: <Response [200]>\n",
            "Lista ofert na stronie: 32 | Strona: [ 107 / 110 ]\n",
            "Strona: 108 | Status: <Response [200]>\n",
            "Lista ofert na stronie: 32 | Strona: [ 108 / 110 ]\n",
            "Strona: 109 | Status: <Response [200]>\n",
            "Lista ofert na stronie: 32 | Strona: [ 109 / 110 ]\n",
            "Strona: 110 | Status: <Response [200]>\n",
            "Lista ofert na stronie: 32 | Strona: [ 110 / 110 ]\n"
          ],
          "name": "stdout"
        }
      ]
    },
    {
      "cell_type": "code",
      "metadata": {
        "colab": {
          "base_uri": "https://localhost:8080/",
          "height": 1000
        },
        "id": "0Ue2ynhBZ9E-",
        "outputId": "a02b3c5a-0d39-4ef7-edd7-3912c20159d6"
      },
      "source": [
        "# przegląd danych\n",
        "gratka_df"
      ],
      "execution_count": null,
      "outputs": [
        {
          "output_type": "execute_result",
          "data": {
            "text/html": [
              "<div>\n",
              "<style scoped>\n",
              "    .dataframe tbody tr th:only-of-type {\n",
              "        vertical-align: middle;\n",
              "    }\n",
              "\n",
              "    .dataframe tbody tr th {\n",
              "        vertical-align: top;\n",
              "    }\n",
              "\n",
              "    .dataframe thead th {\n",
              "        text-align: right;\n",
              "    }\n",
              "</style>\n",
              "<table border=\"1\" class=\"dataframe\">\n",
              "  <thead>\n",
              "    <tr style=\"text-align: right;\">\n",
              "      <th></th>\n",
              "      <th>url_base</th>\n",
              "      <th>url_page</th>\n",
              "      <th>page</th>\n",
              "      <th>location</th>\n",
              "      <th>title</th>\n",
              "      <th>link</th>\n",
              "      <th>description</th>\n",
              "      <th>area_m2</th>\n",
              "      <th>n_rooms</th>\n",
              "      <th>n_floor</th>\n",
              "      <th>price_per_m2</th>\n",
              "    </tr>\n",
              "  </thead>\n",
              "  <tbody>\n",
              "    <tr>\n",
              "      <th>0</th>\n",
              "      <td>https://gratka.pl/nieruchomosci/mieszkania/kra...</td>\n",
              "      <td>https://gratka.pl/nieruchomosci/mieszkania/kra...</td>\n",
              "      <td>1</td>\n",
              "      <td>Kraków,                                       ...</td>\n",
              "      <td>Nowe mieszkanie Kraków Krowodrza, ul. Pod Fortem</td>\n",
              "      <td>https://gratka.pl/nieruchomosci/nowe-mieszkani...</td>\n",
              "      <td>Poznajcie bliżej naszą inwestycję – Krowodrza ...</td>\n",
              "      <td>44.93</td>\n",
              "      <td>2</td>\n",
              "      <td>7</td>\n",
              "      <td>10700zł/m2</td>\n",
              "    </tr>\n",
              "    <tr>\n",
              "      <th>1</th>\n",
              "      <td>https://gratka.pl/nieruchomosci/mieszkania/kra...</td>\n",
              "      <td>https://gratka.pl/nieruchomosci/mieszkania/kra...</td>\n",
              "      <td>1</td>\n",
              "      <td>Kraków,                                       ...</td>\n",
              "      <td>Nowe mieszkanie Kraków Podgórze, ul. Golikówka</td>\n",
              "      <td>https://gratka.pl/nieruchomosci/nowe-mieszkani...</td>\n",
              "      <td>Kukla Nieruchomości prezentujeMieszkanie 2- po...</td>\n",
              "      <td>42</td>\n",
              "      <td>2</td>\n",
              "      <td>1</td>\n",
              "      <td>7024zł/m2</td>\n",
              "    </tr>\n",
              "    <tr>\n",
              "      <th>2</th>\n",
              "      <td>https://gratka.pl/nieruchomosci/mieszkania/kra...</td>\n",
              "      <td>https://gratka.pl/nieruchomosci/mieszkania/kra...</td>\n",
              "      <td>1</td>\n",
              "      <td>Kraków,                                       ...</td>\n",
              "      <td>Nowe mieszkanie Kraków Krowodrza, ul. Pod Fortem</td>\n",
              "      <td>https://gratka.pl/nieruchomosci/nowe-mieszkani...</td>\n",
              "      <td>Poznajcie bliżej naszą inwestycję – Krowodrza ...</td>\n",
              "      <td>59.15</td>\n",
              "      <td>3</td>\n",
              "      <td>1</td>\n",
              "      <td>9400zł/m2</td>\n",
              "    </tr>\n",
              "    <tr>\n",
              "      <th>3</th>\n",
              "      <td>https://gratka.pl/nieruchomosci/mieszkania/kra...</td>\n",
              "      <td>https://gratka.pl/nieruchomosci/mieszkania/kra...</td>\n",
              "      <td>1</td>\n",
              "      <td>Kraków,                                       ...</td>\n",
              "      <td>Nowe mieszkanie Kraków Krowodrza, ul. Pod Fortem</td>\n",
              "      <td>https://gratka.pl/nieruchomosci/nowe-mieszkani...</td>\n",
              "      <td>Poznajcie bliżej naszą inwestycję – Krowodrza ...</td>\n",
              "      <td>50.56</td>\n",
              "      <td>2</td>\n",
              "      <td>7</td>\n",
              "      <td>10300zł/m2</td>\n",
              "    </tr>\n",
              "    <tr>\n",
              "      <th>4</th>\n",
              "      <td>https://gratka.pl/nieruchomosci/mieszkania/kra...</td>\n",
              "      <td>https://gratka.pl/nieruchomosci/mieszkania/kra...</td>\n",
              "      <td>1</td>\n",
              "      <td>Kraków,                                       ...</td>\n",
              "      <td>Nowe mieszkanie Kraków Krowodrza, ul. Pod Fortem</td>\n",
              "      <td>https://gratka.pl/nieruchomosci/nowe-mieszkani...</td>\n",
              "      <td>Poznajcie bliżej naszą inwestycję – Krowodrza ...</td>\n",
              "      <td>76.35</td>\n",
              "      <td>4</td>\n",
              "      <td>6</td>\n",
              "      <td>9700zł/m2</td>\n",
              "    </tr>\n",
              "    <tr>\n",
              "      <th>...</th>\n",
              "      <td>...</td>\n",
              "      <td>...</td>\n",
              "      <td>...</td>\n",
              "      <td>...</td>\n",
              "      <td>...</td>\n",
              "      <td>...</td>\n",
              "      <td>...</td>\n",
              "      <td>...</td>\n",
              "      <td>...</td>\n",
              "      <td>...</td>\n",
              "      <td>...</td>\n",
              "    </tr>\n",
              "    <tr>\n",
              "      <th>3515</th>\n",
              "      <td>https://gratka.pl/nieruchomosci/mieszkania/kra...</td>\n",
              "      <td>https://gratka.pl/nieruchomosci/mieszkania/kra...</td>\n",
              "      <td>110</td>\n",
              "      <td>Kraków,                                       ...</td>\n",
              "      <td>Nowe mieszkanie Kraków Płaszów, ul. Myśliwska</td>\n",
              "      <td>https://gratka.pl/nieruchomosci/nowe-mieszkani...</td>\n",
              "      <td>W budynkach Myśliwska Solar Garden w Krakowie-...</td>\n",
              "      <td>42.22</td>\n",
              "      <td>2</td>\n",
              "      <td>0</td>\n",
              "      <td>9995zł/m2</td>\n",
              "    </tr>\n",
              "    <tr>\n",
              "      <th>3516</th>\n",
              "      <td>https://gratka.pl/nieruchomosci/mieszkania/kra...</td>\n",
              "      <td>https://gratka.pl/nieruchomosci/mieszkania/kra...</td>\n",
              "      <td>110</td>\n",
              "      <td>Kraków,                                       ...</td>\n",
              "      <td>Nowe mieszkanie Kraków Płaszów, ul. Myśliwska</td>\n",
              "      <td>https://gratka.pl/nieruchomosci/nowe-mieszkani...</td>\n",
              "      <td>W budynkach Myśliwska Solar Garden w Krakowie-...</td>\n",
              "      <td>67.07</td>\n",
              "      <td>3</td>\n",
              "      <td>1</td>\n",
              "      <td>8916zł/m2</td>\n",
              "    </tr>\n",
              "    <tr>\n",
              "      <th>3517</th>\n",
              "      <td>https://gratka.pl/nieruchomosci/mieszkania/kra...</td>\n",
              "      <td>https://gratka.pl/nieruchomosci/mieszkania/kra...</td>\n",
              "      <td>110</td>\n",
              "      <td>Kraków,                                       ...</td>\n",
              "      <td>Nowe mieszkanie Kraków Płaszów, ul. Myśliwska</td>\n",
              "      <td>https://gratka.pl/nieruchomosci/nowe-mieszkani...</td>\n",
              "      <td>W budynkach Myśliwska Solar Garden w Krakowie-...</td>\n",
              "      <td>63.05</td>\n",
              "      <td>3</td>\n",
              "      <td>1</td>\n",
              "      <td>9056zł/m2</td>\n",
              "    </tr>\n",
              "    <tr>\n",
              "      <th>3518</th>\n",
              "      <td>https://gratka.pl/nieruchomosci/mieszkania/kra...</td>\n",
              "      <td>https://gratka.pl/nieruchomosci/mieszkania/kra...</td>\n",
              "      <td>110</td>\n",
              "      <td>Kraków,                                       ...</td>\n",
              "      <td>Nowe mieszkanie Kraków Płaszów, ul. Myśliwska</td>\n",
              "      <td>https://gratka.pl/nieruchomosci/nowe-mieszkani...</td>\n",
              "      <td>W budynkach Myśliwska Solar Garden w Krakowie-...</td>\n",
              "      <td>62.59</td>\n",
              "      <td>3</td>\n",
              "      <td>0</td>\n",
              "      <td>9394zł/m2</td>\n",
              "    </tr>\n",
              "    <tr>\n",
              "      <th>3519</th>\n",
              "      <td>https://gratka.pl/nieruchomosci/mieszkania/kra...</td>\n",
              "      <td>https://gratka.pl/nieruchomosci/mieszkania/kra...</td>\n",
              "      <td>110</td>\n",
              "      <td>Kraków,                                       ...</td>\n",
              "      <td>Nowe mieszkanie Kraków Płaszów, ul. Myśliwska</td>\n",
              "      <td>https://gratka.pl/nieruchomosci/nowe-mieszkani...</td>\n",
              "      <td>W budynkach Myśliwska Solar Garden w Krakowie-...</td>\n",
              "      <td>63.77</td>\n",
              "      <td>3</td>\n",
              "      <td>0</td>\n",
              "      <td>9032zł/m2</td>\n",
              "    </tr>\n",
              "  </tbody>\n",
              "</table>\n",
              "<p>3520 rows × 11 columns</p>\n",
              "</div>"
            ],
            "text/plain": [
              "                                               url_base  ... price_per_m2\n",
              "0     https://gratka.pl/nieruchomosci/mieszkania/kra...  ...   10700zł/m2\n",
              "1     https://gratka.pl/nieruchomosci/mieszkania/kra...  ...    7024zł/m2\n",
              "2     https://gratka.pl/nieruchomosci/mieszkania/kra...  ...    9400zł/m2\n",
              "3     https://gratka.pl/nieruchomosci/mieszkania/kra...  ...   10300zł/m2\n",
              "4     https://gratka.pl/nieruchomosci/mieszkania/kra...  ...    9700zł/m2\n",
              "...                                                 ...  ...          ...\n",
              "3515  https://gratka.pl/nieruchomosci/mieszkania/kra...  ...    9995zł/m2\n",
              "3516  https://gratka.pl/nieruchomosci/mieszkania/kra...  ...    8916zł/m2\n",
              "3517  https://gratka.pl/nieruchomosci/mieszkania/kra...  ...    9056zł/m2\n",
              "3518  https://gratka.pl/nieruchomosci/mieszkania/kra...  ...    9394zł/m2\n",
              "3519  https://gratka.pl/nieruchomosci/mieszkania/kra...  ...    9032zł/m2\n",
              "\n",
              "[3520 rows x 11 columns]"
            ]
          },
          "metadata": {
            "tags": []
          },
          "execution_count": 9
        }
      ]
    },
    {
      "cell_type": "code",
      "metadata": {
        "id": "Zvbt2AL0pYXN"
      },
      "source": [
        "# zapisywanie pliku z danymi\n",
        "gratka_df.to_csv(\"gratka_dane.csv\", index=False)"
      ],
      "execution_count": null,
      "outputs": []
    },
    {
      "cell_type": "markdown",
      "metadata": {
        "id": "I4wkEzhwfn79"
      },
      "source": [
        "## Wstępne oczyszczanie danych"
      ]
    },
    {
      "cell_type": "code",
      "metadata": {
        "id": "V3B6eleIphjJ"
      },
      "source": [
        "# wczytywanie danych\n",
        "gratka_df = pd.read_csv(\"gratka_dane.csv\")"
      ],
      "execution_count": null,
      "outputs": []
    },
    {
      "cell_type": "code",
      "metadata": {
        "colab": {
          "base_uri": "https://localhost:8080/",
          "height": 1000
        },
        "id": "2fBdT4hWqC9F",
        "outputId": "44f8224e-7f86-4215-b8cb-9859f49b57e5"
      },
      "source": [
        "pd.set_option('max_colwidth', 400)\n",
        "gratka_df"
      ],
      "execution_count": null,
      "outputs": [
        {
          "output_type": "execute_result",
          "data": {
            "text/html": [
              "<div>\n",
              "<style scoped>\n",
              "    .dataframe tbody tr th:only-of-type {\n",
              "        vertical-align: middle;\n",
              "    }\n",
              "\n",
              "    .dataframe tbody tr th {\n",
              "        vertical-align: top;\n",
              "    }\n",
              "\n",
              "    .dataframe thead th {\n",
              "        text-align: right;\n",
              "    }\n",
              "</style>\n",
              "<table border=\"1\" class=\"dataframe\">\n",
              "  <thead>\n",
              "    <tr style=\"text-align: right;\">\n",
              "      <th></th>\n",
              "      <th>url_base</th>\n",
              "      <th>url_page</th>\n",
              "      <th>page</th>\n",
              "      <th>location</th>\n",
              "      <th>title</th>\n",
              "      <th>link</th>\n",
              "      <th>description</th>\n",
              "      <th>area_m2</th>\n",
              "      <th>n_rooms</th>\n",
              "      <th>n_floor</th>\n",
              "      <th>price_per_m2</th>\n",
              "    </tr>\n",
              "  </thead>\n",
              "  <tbody>\n",
              "    <tr>\n",
              "      <th>0</th>\n",
              "      <td>https://gratka.pl/nieruchomosci/mieszkania/krakow/pierwotny</td>\n",
              "      <td>https://gratka.pl/nieruchomosci/mieszkania/krakow/pierwotny?page=1</td>\n",
              "      <td>1</td>\n",
              "      <td>Kraków,                                         Krowodrza,                                         małopolskie</td>\n",
              "      <td>Nowe mieszkanie Kraków Krowodrza, ul. Pod Fortem</td>\n",
              "      <td>https://gratka.pl/nieruchomosci/nowe-mieszkanie-krakow-krowodrza-ul-pod-fortem/ob/14399332</td>\n",
              "      <td>Poznajcie bliżej naszą inwestycję – Krowodrza Fort \\n\\nNasza nowa inwestycja Krowodrza Fort to mieszkania z rynku pierwotnego, głównie dwu – lub trzy pokojowe. Du</td>\n",
              "      <td>44.93</td>\n",
              "      <td>2</td>\n",
              "      <td>7.0</td>\n",
              "      <td>10700zł/m2</td>\n",
              "    </tr>\n",
              "    <tr>\n",
              "      <th>1</th>\n",
              "      <td>https://gratka.pl/nieruchomosci/mieszkania/krakow/pierwotny</td>\n",
              "      <td>https://gratka.pl/nieruchomosci/mieszkania/krakow/pierwotny?page=1</td>\n",
              "      <td>1</td>\n",
              "      <td>Kraków,                                         Podgórze,                                         małopolskie</td>\n",
              "      <td>Nowe mieszkanie Kraków Podgórze, ul. Golikówka</td>\n",
              "      <td>https://gratka.pl/nieruchomosci/nowe-mieszkanie-krakow-podgorze-ul-golikowka/ob/19878365</td>\n",
              "      <td>Kukla Nieruchomości prezentujeMieszkanie 2- pokojowe o powierzchni 42 m2 zlokalizowane w domu wolnostojącym przy ulicy Golikówka w dzielnicy Rybitwy. Mieszkanie</td>\n",
              "      <td>42.00</td>\n",
              "      <td>2</td>\n",
              "      <td>1.0</td>\n",
              "      <td>7024zł/m2</td>\n",
              "    </tr>\n",
              "    <tr>\n",
              "      <th>2</th>\n",
              "      <td>https://gratka.pl/nieruchomosci/mieszkania/krakow/pierwotny</td>\n",
              "      <td>https://gratka.pl/nieruchomosci/mieszkania/krakow/pierwotny?page=1</td>\n",
              "      <td>1</td>\n",
              "      <td>Kraków,                                         Krowodrza,                                         małopolskie</td>\n",
              "      <td>Nowe mieszkanie Kraków Krowodrza, ul. Pod Fortem</td>\n",
              "      <td>https://gratka.pl/nieruchomosci/nowe-mieszkanie-krakow-krowodrza-ul-pod-fortem/ob/14403264</td>\n",
              "      <td>Poznajcie bliżej naszą inwestycję – Krowodrza Fort \\n\\nNasza nowa inwestycja Krowodrza Fort to mieszkania z rynku pierwotnego, głównie dwu – lub trzy pokojowe. Du</td>\n",
              "      <td>59.15</td>\n",
              "      <td>3</td>\n",
              "      <td>1.0</td>\n",
              "      <td>9400zł/m2</td>\n",
              "    </tr>\n",
              "    <tr>\n",
              "      <th>3</th>\n",
              "      <td>https://gratka.pl/nieruchomosci/mieszkania/krakow/pierwotny</td>\n",
              "      <td>https://gratka.pl/nieruchomosci/mieszkania/krakow/pierwotny?page=1</td>\n",
              "      <td>1</td>\n",
              "      <td>Kraków,                                         Krowodrza,                                         małopolskie</td>\n",
              "      <td>Nowe mieszkanie Kraków Krowodrza, ul. Pod Fortem</td>\n",
              "      <td>https://gratka.pl/nieruchomosci/nowe-mieszkanie-krakow-krowodrza-ul-pod-fortem/ob/14398368</td>\n",
              "      <td>Poznajcie bliżej naszą inwestycję – Krowodrza Fort \\n\\nNasza nowa inwestycja Krowodrza Fort to mieszkania z rynku pierwotnego, głównie dwu – lub trzy pokojowe. Du</td>\n",
              "      <td>50.56</td>\n",
              "      <td>2</td>\n",
              "      <td>7.0</td>\n",
              "      <td>10300zł/m2</td>\n",
              "    </tr>\n",
              "    <tr>\n",
              "      <th>4</th>\n",
              "      <td>https://gratka.pl/nieruchomosci/mieszkania/krakow/pierwotny</td>\n",
              "      <td>https://gratka.pl/nieruchomosci/mieszkania/krakow/pierwotny?page=1</td>\n",
              "      <td>1</td>\n",
              "      <td>Kraków,                                         Krowodrza,                                         małopolskie</td>\n",
              "      <td>Nowe mieszkanie Kraków Krowodrza, ul. Pod Fortem</td>\n",
              "      <td>https://gratka.pl/nieruchomosci/nowe-mieszkanie-krakow-krowodrza-ul-pod-fortem/ob/14398296</td>\n",
              "      <td>Poznajcie bliżej naszą inwestycję – Krowodrza Fort \\n\\nNasza nowa inwestycja Krowodrza Fort to mieszkania z rynku pierwotnego, głównie dwu – lub trzy pokojowe. Du</td>\n",
              "      <td>76.35</td>\n",
              "      <td>4</td>\n",
              "      <td>6.0</td>\n",
              "      <td>9700zł/m2</td>\n",
              "    </tr>\n",
              "    <tr>\n",
              "      <th>...</th>\n",
              "      <td>...</td>\n",
              "      <td>...</td>\n",
              "      <td>...</td>\n",
              "      <td>...</td>\n",
              "      <td>...</td>\n",
              "      <td>...</td>\n",
              "      <td>...</td>\n",
              "      <td>...</td>\n",
              "      <td>...</td>\n",
              "      <td>...</td>\n",
              "      <td>...</td>\n",
              "    </tr>\n",
              "    <tr>\n",
              "      <th>3516</th>\n",
              "      <td>https://gratka.pl/nieruchomosci/mieszkania/krakow/pierwotny</td>\n",
              "      <td>https://gratka.pl/nieruchomosci/mieszkania/krakow/pierwotny?page=110</td>\n",
              "      <td>110</td>\n",
              "      <td>Kraków,                                         Płaszów,                                         małopolskie</td>\n",
              "      <td>Nowe mieszkanie Kraków Płaszów, ul. Myśliwska</td>\n",
              "      <td>https://gratka.pl/nieruchomosci/nowe-mieszkanie-krakow-plaszow-ul-mysliwska/ob/17790039</td>\n",
              "      <td>W budynkach Myśliwska Solar Garden w Krakowie-Płaszowie na piętrach oraz na poziomie garażu zaplanowane są komórki lokatorskie w cenie 3250 zł/m2. Metraże komór</td>\n",
              "      <td>42.22</td>\n",
              "      <td>2</td>\n",
              "      <td>0.0</td>\n",
              "      <td>9995zł/m2</td>\n",
              "    </tr>\n",
              "    <tr>\n",
              "      <th>3517</th>\n",
              "      <td>https://gratka.pl/nieruchomosci/mieszkania/krakow/pierwotny</td>\n",
              "      <td>https://gratka.pl/nieruchomosci/mieszkania/krakow/pierwotny?page=110</td>\n",
              "      <td>110</td>\n",
              "      <td>Kraków,                                         Płaszów,                                         małopolskie</td>\n",
              "      <td>Nowe mieszkanie Kraków Płaszów, ul. Myśliwska</td>\n",
              "      <td>https://gratka.pl/nieruchomosci/nowe-mieszkanie-krakow-plaszow-ul-mysliwska/ob/17790031</td>\n",
              "      <td>W budynkach Myśliwska Solar Garden w Krakowie-Płaszowie na piętrach oraz na poziomie garażu zaplanowane są komórki lokatorskie w cenie 3250 zł/m2. Metraże komór</td>\n",
              "      <td>67.07</td>\n",
              "      <td>3</td>\n",
              "      <td>1.0</td>\n",
              "      <td>8916zł/m2</td>\n",
              "    </tr>\n",
              "    <tr>\n",
              "      <th>3518</th>\n",
              "      <td>https://gratka.pl/nieruchomosci/mieszkania/krakow/pierwotny</td>\n",
              "      <td>https://gratka.pl/nieruchomosci/mieszkania/krakow/pierwotny?page=110</td>\n",
              "      <td>110</td>\n",
              "      <td>Kraków,                                         Płaszów,                                         małopolskie</td>\n",
              "      <td>Nowe mieszkanie Kraków Płaszów, ul. Myśliwska</td>\n",
              "      <td>https://gratka.pl/nieruchomosci/nowe-mieszkanie-krakow-plaszow-ul-mysliwska/ob/17790023</td>\n",
              "      <td>W budynkach Myśliwska Solar Garden w Krakowie-Płaszowie na piętrach oraz na poziomie garażu zaplanowane są komórki lokatorskie w cenie 3250 zł/m2. Metraże komór</td>\n",
              "      <td>63.05</td>\n",
              "      <td>3</td>\n",
              "      <td>1.0</td>\n",
              "      <td>9056zł/m2</td>\n",
              "    </tr>\n",
              "    <tr>\n",
              "      <th>3519</th>\n",
              "      <td>https://gratka.pl/nieruchomosci/mieszkania/krakow/pierwotny</td>\n",
              "      <td>https://gratka.pl/nieruchomosci/mieszkania/krakow/pierwotny?page=110</td>\n",
              "      <td>110</td>\n",
              "      <td>Kraków,                                         Płaszów,                                         małopolskie</td>\n",
              "      <td>Nowe mieszkanie Kraków Płaszów, ul. Myśliwska</td>\n",
              "      <td>https://gratka.pl/nieruchomosci/nowe-mieszkanie-krakow-plaszow-ul-mysliwska/ob/17790013</td>\n",
              "      <td>W budynkach Myśliwska Solar Garden w Krakowie-Płaszowie na piętrach oraz na poziomie garażu zaplanowane są komórki lokatorskie w cenie 3250 zł/m2. Metraże komór</td>\n",
              "      <td>62.59</td>\n",
              "      <td>3</td>\n",
              "      <td>0.0</td>\n",
              "      <td>9394zł/m2</td>\n",
              "    </tr>\n",
              "    <tr>\n",
              "      <th>3520</th>\n",
              "      <td>https://gratka.pl/nieruchomosci/mieszkania/krakow/pierwotny</td>\n",
              "      <td>https://gratka.pl/nieruchomosci/mieszkania/krakow/pierwotny?page=110</td>\n",
              "      <td>110</td>\n",
              "      <td>Kraków,                                         Płaszów,                                         małopolskie</td>\n",
              "      <td>Nowe mieszkanie Kraków Płaszów, ul. Myśliwska</td>\n",
              "      <td>https://gratka.pl/nieruchomosci/nowe-mieszkanie-krakow-plaszow-ul-mysliwska/ob/17789991</td>\n",
              "      <td>W budynkach Myśliwska Solar Garden w Krakowie-Płaszowie na piętrach oraz na poziomie garażu zaplanowane są komórki lokatorskie w cenie 3250 zł/m2. Metraże komór</td>\n",
              "      <td>63.77</td>\n",
              "      <td>3</td>\n",
              "      <td>0.0</td>\n",
              "      <td>9032zł/m2</td>\n",
              "    </tr>\n",
              "  </tbody>\n",
              "</table>\n",
              "<p>3521 rows × 11 columns</p>\n",
              "</div>"
            ],
            "text/plain": [
              "                                                         url_base  ... price_per_m2\n",
              "0     https://gratka.pl/nieruchomosci/mieszkania/krakow/pierwotny  ...   10700zł/m2\n",
              "1     https://gratka.pl/nieruchomosci/mieszkania/krakow/pierwotny  ...    7024zł/m2\n",
              "2     https://gratka.pl/nieruchomosci/mieszkania/krakow/pierwotny  ...    9400zł/m2\n",
              "3     https://gratka.pl/nieruchomosci/mieszkania/krakow/pierwotny  ...   10300zł/m2\n",
              "4     https://gratka.pl/nieruchomosci/mieszkania/krakow/pierwotny  ...    9700zł/m2\n",
              "...                                                           ...  ...          ...\n",
              "3516  https://gratka.pl/nieruchomosci/mieszkania/krakow/pierwotny  ...    9995zł/m2\n",
              "3517  https://gratka.pl/nieruchomosci/mieszkania/krakow/pierwotny  ...    8916zł/m2\n",
              "3518  https://gratka.pl/nieruchomosci/mieszkania/krakow/pierwotny  ...    9056zł/m2\n",
              "3519  https://gratka.pl/nieruchomosci/mieszkania/krakow/pierwotny  ...    9394zł/m2\n",
              "3520  https://gratka.pl/nieruchomosci/mieszkania/krakow/pierwotny  ...    9032zł/m2\n",
              "\n",
              "[3521 rows x 11 columns]"
            ]
          },
          "metadata": {
            "tags": []
          },
          "execution_count": 25
        }
      ]
    },
    {
      "cell_type": "code",
      "metadata": {
        "colab": {
          "base_uri": "https://localhost:8080/"
        },
        "id": "UG5bkJOxZ0d-",
        "outputId": "0574eac8-e900-4dac-f41f-9128e020972d"
      },
      "source": [
        "#rozmiar df\n",
        "gratka_df.shape"
      ],
      "execution_count": null,
      "outputs": [
        {
          "output_type": "execute_result",
          "data": {
            "text/plain": [
              "(3521, 11)"
            ]
          },
          "metadata": {
            "tags": []
          },
          "execution_count": 26
        }
      ]
    },
    {
      "cell_type": "code",
      "metadata": {
        "id": "XT3msBPMkiuI",
        "colab": {
          "base_uri": "https://localhost:8080/"
        },
        "outputId": "4b496e46-e666-4d4e-d00a-b4c2f0aa5be3"
      },
      "source": [
        "#podstawowe informacje\n",
        "gratka_df.info()"
      ],
      "execution_count": null,
      "outputs": [
        {
          "output_type": "stream",
          "text": [
            "<class 'pandas.core.frame.DataFrame'>\n",
            "RangeIndex: 3521 entries, 0 to 3520\n",
            "Data columns (total 11 columns):\n",
            " #   Column        Non-Null Count  Dtype  \n",
            "---  ------        --------------  -----  \n",
            " 0   url_base      3521 non-null   object \n",
            " 1   url_page      3521 non-null   object \n",
            " 2   page          3521 non-null   int64  \n",
            " 3   location      3521 non-null   object \n",
            " 4   title         3521 non-null   object \n",
            " 5   link          3520 non-null   object \n",
            " 6   description   3248 non-null   object \n",
            " 7   area_m2       3519 non-null   float64\n",
            " 8   n_rooms       3514 non-null   object \n",
            " 9   n_floor       3484 non-null   float64\n",
            " 10  price_per_m2  3519 non-null   object \n",
            "dtypes: float64(2), int64(1), object(8)\n",
            "memory usage: 302.7+ KB\n"
          ],
          "name": "stdout"
        }
      ]
    },
    {
      "cell_type": "code",
      "metadata": {
        "colab": {
          "base_uri": "https://localhost:8080/"
        },
        "id": "hFx3u1HP7Ty_",
        "outputId": "36152431-affe-4ef9-fb52-485a2c7a90fa"
      },
      "source": [
        "#sprawdzenie ilości braków\n",
        "gratka_df.isnull().sum()"
      ],
      "execution_count": null,
      "outputs": [
        {
          "output_type": "execute_result",
          "data": {
            "text/plain": [
              "url_base          0\n",
              "url_page          0\n",
              "page              0\n",
              "location          0\n",
              "title             0\n",
              "link              1\n",
              "description     273\n",
              "area_m2           2\n",
              "n_rooms           7\n",
              "n_floor          37\n",
              "price_per_m2      2\n",
              "dtype: int64"
            ]
          },
          "metadata": {
            "tags": []
          },
          "execution_count": 28
        }
      ]
    },
    {
      "cell_type": "code",
      "metadata": {
        "id": "2Z5AcBur7YRE"
      },
      "source": [
        "#uzupełnianie braków/ usuwanie braków\n",
        "gratka_df[\"description\"].fillna(\"brak\", inplace=True)"
      ],
      "execution_count": null,
      "outputs": []
    },
    {
      "cell_type": "code",
      "metadata": {
        "id": "bU37w8xTQ4yD"
      },
      "source": [
        "gratka_df.dropna(inplace=True)"
      ],
      "execution_count": null,
      "outputs": []
    },
    {
      "cell_type": "code",
      "metadata": {
        "colab": {
          "base_uri": "https://localhost:8080/"
        },
        "id": "4n-VJb9vRVfO",
        "outputId": "0341f4b3-546d-449f-e024-9809a43f73e7"
      },
      "source": [
        "gratka_df.isnull().sum()"
      ],
      "execution_count": null,
      "outputs": [
        {
          "output_type": "execute_result",
          "data": {
            "text/plain": [
              "url_base        0\n",
              "url_page        0\n",
              "page            0\n",
              "location        0\n",
              "title           0\n",
              "link            0\n",
              "description     0\n",
              "area_m2         0\n",
              "n_rooms         0\n",
              "n_floor         0\n",
              "price_per_m2    0\n",
              "dtype: int64"
            ]
          },
          "metadata": {
            "tags": []
          },
          "execution_count": 31
        }
      ]
    },
    {
      "cell_type": "code",
      "metadata": {
        "colab": {
          "base_uri": "https://localhost:8080/"
        },
        "id": "CnrOoWnkpKR_",
        "outputId": "00f48a7c-8ce7-43a9-ace6-de572df85aac"
      },
      "source": [
        "#zmiana typów danych\n",
        "gratka_df.info()"
      ],
      "execution_count": null,
      "outputs": [
        {
          "output_type": "stream",
          "text": [
            "<class 'pandas.core.frame.DataFrame'>\n",
            "Int64Index: 3483 entries, 0 to 3520\n",
            "Data columns (total 11 columns):\n",
            " #   Column        Non-Null Count  Dtype  \n",
            "---  ------        --------------  -----  \n",
            " 0   url_base      3483 non-null   object \n",
            " 1   url_page      3483 non-null   object \n",
            " 2   page          3483 non-null   int64  \n",
            " 3   location      3483 non-null   object \n",
            " 4   title         3483 non-null   object \n",
            " 5   link          3483 non-null   object \n",
            " 6   description   3483 non-null   object \n",
            " 7   area_m2       3483 non-null   float64\n",
            " 8   n_rooms       3483 non-null   object \n",
            " 9   n_floor       3483 non-null   float64\n",
            " 10  price_per_m2  3483 non-null   object \n",
            "dtypes: float64(2), int64(1), object(8)\n",
            "memory usage: 326.5+ KB\n"
          ],
          "name": "stdout"
        }
      ]
    },
    {
      "cell_type": "code",
      "metadata": {
        "colab": {
          "base_uri": "https://localhost:8080/"
        },
        "id": "zi4f7Mf2riDh",
        "outputId": "daab9975-8b9e-43e0-d456-0115f12cd67b"
      },
      "source": [
        "gratka_df[\"n_rooms\"].value_counts()"
      ],
      "execution_count": null,
      "outputs": [
        {
          "output_type": "execute_result",
          "data": {
            "text/plain": [
              "3               1245\n",
              "2               1171\n",
              "1                529\n",
              "4                399\n",
              "5                114\n",
              "6                 23\n",
              "więcej niż 8       2\n",
              "Name: n_rooms, dtype: int64"
            ]
          },
          "metadata": {
            "tags": []
          },
          "execution_count": 33
        }
      ]
    },
    {
      "cell_type": "code",
      "metadata": {
        "id": "FX-fw_ctrlTy",
        "colab": {
          "base_uri": "https://localhost:8080/",
          "height": 358
        },
        "outputId": "7bf9554c-8517-4ea0-9b2f-0dcb5746553c"
      },
      "source": [
        "more8rooms = gratka_df.query(\"n_rooms == 'więcej niż 8' \")\n",
        "more8rooms"
      ],
      "execution_count": null,
      "outputs": [
        {
          "output_type": "execute_result",
          "data": {
            "text/html": [
              "<div>\n",
              "<style scoped>\n",
              "    .dataframe tbody tr th:only-of-type {\n",
              "        vertical-align: middle;\n",
              "    }\n",
              "\n",
              "    .dataframe tbody tr th {\n",
              "        vertical-align: top;\n",
              "    }\n",
              "\n",
              "    .dataframe thead th {\n",
              "        text-align: right;\n",
              "    }\n",
              "</style>\n",
              "<table border=\"1\" class=\"dataframe\">\n",
              "  <thead>\n",
              "    <tr style=\"text-align: right;\">\n",
              "      <th></th>\n",
              "      <th>url_base</th>\n",
              "      <th>url_page</th>\n",
              "      <th>page</th>\n",
              "      <th>location</th>\n",
              "      <th>title</th>\n",
              "      <th>link</th>\n",
              "      <th>description</th>\n",
              "      <th>area_m2</th>\n",
              "      <th>n_rooms</th>\n",
              "      <th>n_floor</th>\n",
              "      <th>price_per_m2</th>\n",
              "    </tr>\n",
              "  </thead>\n",
              "  <tbody>\n",
              "    <tr>\n",
              "      <th>3392</th>\n",
              "      <td>https://gratka.pl/nieruchomosci/mieszkania/krakow/pierwotny</td>\n",
              "      <td>https://gratka.pl/nieruchomosci/mieszkania/krakow/pierwotny?page=106</td>\n",
              "      <td>106</td>\n",
              "      <td>Kraków,                                         Dębniki,                                         małopolskie</td>\n",
              "      <td>Nowe mieszkanie Kraków Dębniki, ul. Tyniecka</td>\n",
              "      <td>https://gratka.pl/nieruchomosci/nowe-mieszkanie-krakow-debniki-ul-tyniecka/ob/18575333</td>\n",
              "      <td>Atrakcyjny apartamentowiec dla inwestoraLOKALIZACJA:Budynek zlokalizowany jest na Podgórzu w okolicy ulicy Tynieckiej i Widłakowej. Niewątpliwą zaletą</td>\n",
              "      <td>365.0</td>\n",
              "      <td>więcej niż 8</td>\n",
              "      <td>1.0</td>\n",
              "      <td>5342zł/m2</td>\n",
              "    </tr>\n",
              "    <tr>\n",
              "      <th>3403</th>\n",
              "      <td>https://gratka.pl/nieruchomosci/mieszkania/krakow/pierwotny</td>\n",
              "      <td>https://gratka.pl/nieruchomosci/mieszkania/krakow/pierwotny?page=107</td>\n",
              "      <td>107</td>\n",
              "      <td>Kraków,                                         Stradom,                                         małopolskie</td>\n",
              "      <td>Nowe mieszkanie Kraków Stradom, ul. Koletek 12</td>\n",
              "      <td>https://gratka.pl/nieruchomosci/nowe-mieszkanie-krakow-stradom-ul-koletek-12/ob/18488123</td>\n",
              "      <td>Do sprzedaży piękny apartament królewski, położony w luksusowym kompleksie Angel Wawel tuż przy Bulwarach Wiślanych, Zamku Wawel oraz modnej dzielnicy Kazimierz</td>\n",
              "      <td>500.0</td>\n",
              "      <td>więcej niż 8</td>\n",
              "      <td>0.0</td>\n",
              "      <td>30000zł/m2</td>\n",
              "    </tr>\n",
              "  </tbody>\n",
              "</table>\n",
              "</div>"
            ],
            "text/plain": [
              "                                                         url_base  ... price_per_m2\n",
              "3392  https://gratka.pl/nieruchomosci/mieszkania/krakow/pierwotny  ...    5342zł/m2\n",
              "3403  https://gratka.pl/nieruchomosci/mieszkania/krakow/pierwotny  ...   30000zł/m2\n",
              "\n",
              "[2 rows x 11 columns]"
            ]
          },
          "metadata": {
            "tags": []
          },
          "execution_count": 34
        }
      ]
    },
    {
      "cell_type": "code",
      "metadata": {
        "id": "NTjBCEF3WpPx"
      },
      "source": [
        "gratka_df.drop(index=[3392,3403], inplace=True)"
      ],
      "execution_count": null,
      "outputs": []
    },
    {
      "cell_type": "code",
      "metadata": {
        "id": "UVdv5ZnQXFNL",
        "colab": {
          "base_uri": "https://localhost:8080/"
        },
        "outputId": "54956e40-5970-4889-84fc-4348fb14fba9"
      },
      "source": [
        "#sprawdzenie\n",
        "gratka_df[\"n_rooms\"].value_counts()"
      ],
      "execution_count": null,
      "outputs": [
        {
          "output_type": "execute_result",
          "data": {
            "text/plain": [
              "3    1245\n",
              "2    1171\n",
              "1     529\n",
              "4     399\n",
              "5     114\n",
              "6      23\n",
              "Name: n_rooms, dtype: int64"
            ]
          },
          "metadata": {
            "tags": []
          },
          "execution_count": 36
        }
      ]
    },
    {
      "cell_type": "code",
      "metadata": {
        "id": "XhpCGDLgXJT3"
      },
      "source": [
        "gratka_df[\"n_rooms\"] = gratka_df[\"n_rooms\"].astype(int)"
      ],
      "execution_count": null,
      "outputs": []
    },
    {
      "cell_type": "code",
      "metadata": {
        "colab": {
          "base_uri": "https://localhost:8080/"
        },
        "id": "jApmtW4CXSst",
        "outputId": "248d420f-1c90-423e-8539-7f94a91bc507"
      },
      "source": [
        "gratka_df.info()"
      ],
      "execution_count": null,
      "outputs": [
        {
          "output_type": "stream",
          "text": [
            "<class 'pandas.core.frame.DataFrame'>\n",
            "Int64Index: 3481 entries, 0 to 3520\n",
            "Data columns (total 11 columns):\n",
            " #   Column        Non-Null Count  Dtype  \n",
            "---  ------        --------------  -----  \n",
            " 0   url_base      3481 non-null   object \n",
            " 1   url_page      3481 non-null   object \n",
            " 2   page          3481 non-null   int64  \n",
            " 3   location      3481 non-null   object \n",
            " 4   title         3481 non-null   object \n",
            " 5   link          3481 non-null   object \n",
            " 6   description   3481 non-null   object \n",
            " 7   area_m2       3481 non-null   float64\n",
            " 8   n_rooms       3481 non-null   int64  \n",
            " 9   n_floor       3481 non-null   float64\n",
            " 10  price_per_m2  3481 non-null   object \n",
            "dtypes: float64(2), int64(2), object(7)\n",
            "memory usage: 326.3+ KB\n"
          ],
          "name": "stdout"
        }
      ]
    },
    {
      "cell_type": "code",
      "metadata": {
        "id": "2SsEIV_AY8lL"
      },
      "source": [
        "\n",
        "gratka_df[\"price_per_m2\"] = gratka_df[\"price_per_m2\"].str.replace(\"zł/m2\", \"\").astype(int)"
      ],
      "execution_count": null,
      "outputs": []
    },
    {
      "cell_type": "code",
      "metadata": {
        "colab": {
          "base_uri": "https://localhost:8080/",
          "height": 1000
        },
        "id": "8NUDdM1ucV6P",
        "outputId": "65214509-867d-4efd-ed12-06a8a3729c9a"
      },
      "source": [
        "#df po przekształceniach\n",
        "gratka_df.reset_index(drop=True, inplace=True)\n",
        "gratka_df"
      ],
      "execution_count": null,
      "outputs": [
        {
          "output_type": "execute_result",
          "data": {
            "text/html": [
              "<div>\n",
              "<style scoped>\n",
              "    .dataframe tbody tr th:only-of-type {\n",
              "        vertical-align: middle;\n",
              "    }\n",
              "\n",
              "    .dataframe tbody tr th {\n",
              "        vertical-align: top;\n",
              "    }\n",
              "\n",
              "    .dataframe thead th {\n",
              "        text-align: right;\n",
              "    }\n",
              "</style>\n",
              "<table border=\"1\" class=\"dataframe\">\n",
              "  <thead>\n",
              "    <tr style=\"text-align: right;\">\n",
              "      <th></th>\n",
              "      <th>url_base</th>\n",
              "      <th>url_page</th>\n",
              "      <th>page</th>\n",
              "      <th>location</th>\n",
              "      <th>title</th>\n",
              "      <th>link</th>\n",
              "      <th>description</th>\n",
              "      <th>area_m2</th>\n",
              "      <th>n_rooms</th>\n",
              "      <th>n_floor</th>\n",
              "      <th>price_per_m2</th>\n",
              "    </tr>\n",
              "  </thead>\n",
              "  <tbody>\n",
              "    <tr>\n",
              "      <th>0</th>\n",
              "      <td>https://gratka.pl/nieruchomosci/mieszkania/krakow/pierwotny</td>\n",
              "      <td>https://gratka.pl/nieruchomosci/mieszkania/krakow/pierwotny?page=1</td>\n",
              "      <td>1</td>\n",
              "      <td>Kraków,                                         Krowodrza,                                         małopolskie</td>\n",
              "      <td>Nowe mieszkanie Kraków Krowodrza, ul. Pod Fortem</td>\n",
              "      <td>https://gratka.pl/nieruchomosci/nowe-mieszkanie-krakow-krowodrza-ul-pod-fortem/ob/14399332</td>\n",
              "      <td>Poznajcie bliżej naszą inwestycję – Krowodrza Fort \\n\\nNasza nowa inwestycja Krowodrza Fort to mieszkania z rynku pierwotnego, głównie dwu – lub trzy pokojowe. Du</td>\n",
              "      <td>44.93</td>\n",
              "      <td>2</td>\n",
              "      <td>7.0</td>\n",
              "      <td>10700</td>\n",
              "    </tr>\n",
              "    <tr>\n",
              "      <th>1</th>\n",
              "      <td>https://gratka.pl/nieruchomosci/mieszkania/krakow/pierwotny</td>\n",
              "      <td>https://gratka.pl/nieruchomosci/mieszkania/krakow/pierwotny?page=1</td>\n",
              "      <td>1</td>\n",
              "      <td>Kraków,                                         Podgórze,                                         małopolskie</td>\n",
              "      <td>Nowe mieszkanie Kraków Podgórze, ul. Golikówka</td>\n",
              "      <td>https://gratka.pl/nieruchomosci/nowe-mieszkanie-krakow-podgorze-ul-golikowka/ob/19878365</td>\n",
              "      <td>Kukla Nieruchomości prezentujeMieszkanie 2- pokojowe o powierzchni 42 m2 zlokalizowane w domu wolnostojącym przy ulicy Golikówka w dzielnicy Rybitwy. Mieszkanie</td>\n",
              "      <td>42.00</td>\n",
              "      <td>2</td>\n",
              "      <td>1.0</td>\n",
              "      <td>7024</td>\n",
              "    </tr>\n",
              "    <tr>\n",
              "      <th>2</th>\n",
              "      <td>https://gratka.pl/nieruchomosci/mieszkania/krakow/pierwotny</td>\n",
              "      <td>https://gratka.pl/nieruchomosci/mieszkania/krakow/pierwotny?page=1</td>\n",
              "      <td>1</td>\n",
              "      <td>Kraków,                                         Krowodrza,                                         małopolskie</td>\n",
              "      <td>Nowe mieszkanie Kraków Krowodrza, ul. Pod Fortem</td>\n",
              "      <td>https://gratka.pl/nieruchomosci/nowe-mieszkanie-krakow-krowodrza-ul-pod-fortem/ob/14403264</td>\n",
              "      <td>Poznajcie bliżej naszą inwestycję – Krowodrza Fort \\n\\nNasza nowa inwestycja Krowodrza Fort to mieszkania z rynku pierwotnego, głównie dwu – lub trzy pokojowe. Du</td>\n",
              "      <td>59.15</td>\n",
              "      <td>3</td>\n",
              "      <td>1.0</td>\n",
              "      <td>9400</td>\n",
              "    </tr>\n",
              "    <tr>\n",
              "      <th>3</th>\n",
              "      <td>https://gratka.pl/nieruchomosci/mieszkania/krakow/pierwotny</td>\n",
              "      <td>https://gratka.pl/nieruchomosci/mieszkania/krakow/pierwotny?page=1</td>\n",
              "      <td>1</td>\n",
              "      <td>Kraków,                                         Krowodrza,                                         małopolskie</td>\n",
              "      <td>Nowe mieszkanie Kraków Krowodrza, ul. Pod Fortem</td>\n",
              "      <td>https://gratka.pl/nieruchomosci/nowe-mieszkanie-krakow-krowodrza-ul-pod-fortem/ob/14398368</td>\n",
              "      <td>Poznajcie bliżej naszą inwestycję – Krowodrza Fort \\n\\nNasza nowa inwestycja Krowodrza Fort to mieszkania z rynku pierwotnego, głównie dwu – lub trzy pokojowe. Du</td>\n",
              "      <td>50.56</td>\n",
              "      <td>2</td>\n",
              "      <td>7.0</td>\n",
              "      <td>10300</td>\n",
              "    </tr>\n",
              "    <tr>\n",
              "      <th>4</th>\n",
              "      <td>https://gratka.pl/nieruchomosci/mieszkania/krakow/pierwotny</td>\n",
              "      <td>https://gratka.pl/nieruchomosci/mieszkania/krakow/pierwotny?page=1</td>\n",
              "      <td>1</td>\n",
              "      <td>Kraków,                                         Krowodrza,                                         małopolskie</td>\n",
              "      <td>Nowe mieszkanie Kraków Krowodrza, ul. Pod Fortem</td>\n",
              "      <td>https://gratka.pl/nieruchomosci/nowe-mieszkanie-krakow-krowodrza-ul-pod-fortem/ob/14398296</td>\n",
              "      <td>Poznajcie bliżej naszą inwestycję – Krowodrza Fort \\n\\nNasza nowa inwestycja Krowodrza Fort to mieszkania z rynku pierwotnego, głównie dwu – lub trzy pokojowe. Du</td>\n",
              "      <td>76.35</td>\n",
              "      <td>4</td>\n",
              "      <td>6.0</td>\n",
              "      <td>9700</td>\n",
              "    </tr>\n",
              "    <tr>\n",
              "      <th>...</th>\n",
              "      <td>...</td>\n",
              "      <td>...</td>\n",
              "      <td>...</td>\n",
              "      <td>...</td>\n",
              "      <td>...</td>\n",
              "      <td>...</td>\n",
              "      <td>...</td>\n",
              "      <td>...</td>\n",
              "      <td>...</td>\n",
              "      <td>...</td>\n",
              "      <td>...</td>\n",
              "    </tr>\n",
              "    <tr>\n",
              "      <th>3476</th>\n",
              "      <td>https://gratka.pl/nieruchomosci/mieszkania/krakow/pierwotny</td>\n",
              "      <td>https://gratka.pl/nieruchomosci/mieszkania/krakow/pierwotny?page=110</td>\n",
              "      <td>110</td>\n",
              "      <td>Kraków,                                         Płaszów,                                         małopolskie</td>\n",
              "      <td>Nowe mieszkanie Kraków Płaszów, ul. Myśliwska</td>\n",
              "      <td>https://gratka.pl/nieruchomosci/nowe-mieszkanie-krakow-plaszow-ul-mysliwska/ob/17790039</td>\n",
              "      <td>W budynkach Myśliwska Solar Garden w Krakowie-Płaszowie na piętrach oraz na poziomie garażu zaplanowane są komórki lokatorskie w cenie 3250 zł/m2. Metraże komór</td>\n",
              "      <td>42.22</td>\n",
              "      <td>2</td>\n",
              "      <td>0.0</td>\n",
              "      <td>9995</td>\n",
              "    </tr>\n",
              "    <tr>\n",
              "      <th>3477</th>\n",
              "      <td>https://gratka.pl/nieruchomosci/mieszkania/krakow/pierwotny</td>\n",
              "      <td>https://gratka.pl/nieruchomosci/mieszkania/krakow/pierwotny?page=110</td>\n",
              "      <td>110</td>\n",
              "      <td>Kraków,                                         Płaszów,                                         małopolskie</td>\n",
              "      <td>Nowe mieszkanie Kraków Płaszów, ul. Myśliwska</td>\n",
              "      <td>https://gratka.pl/nieruchomosci/nowe-mieszkanie-krakow-plaszow-ul-mysliwska/ob/17790031</td>\n",
              "      <td>W budynkach Myśliwska Solar Garden w Krakowie-Płaszowie na piętrach oraz na poziomie garażu zaplanowane są komórki lokatorskie w cenie 3250 zł/m2. Metraże komór</td>\n",
              "      <td>67.07</td>\n",
              "      <td>3</td>\n",
              "      <td>1.0</td>\n",
              "      <td>8916</td>\n",
              "    </tr>\n",
              "    <tr>\n",
              "      <th>3478</th>\n",
              "      <td>https://gratka.pl/nieruchomosci/mieszkania/krakow/pierwotny</td>\n",
              "      <td>https://gratka.pl/nieruchomosci/mieszkania/krakow/pierwotny?page=110</td>\n",
              "      <td>110</td>\n",
              "      <td>Kraków,                                         Płaszów,                                         małopolskie</td>\n",
              "      <td>Nowe mieszkanie Kraków Płaszów, ul. Myśliwska</td>\n",
              "      <td>https://gratka.pl/nieruchomosci/nowe-mieszkanie-krakow-plaszow-ul-mysliwska/ob/17790023</td>\n",
              "      <td>W budynkach Myśliwska Solar Garden w Krakowie-Płaszowie na piętrach oraz na poziomie garażu zaplanowane są komórki lokatorskie w cenie 3250 zł/m2. Metraże komór</td>\n",
              "      <td>63.05</td>\n",
              "      <td>3</td>\n",
              "      <td>1.0</td>\n",
              "      <td>9056</td>\n",
              "    </tr>\n",
              "    <tr>\n",
              "      <th>3479</th>\n",
              "      <td>https://gratka.pl/nieruchomosci/mieszkania/krakow/pierwotny</td>\n",
              "      <td>https://gratka.pl/nieruchomosci/mieszkania/krakow/pierwotny?page=110</td>\n",
              "      <td>110</td>\n",
              "      <td>Kraków,                                         Płaszów,                                         małopolskie</td>\n",
              "      <td>Nowe mieszkanie Kraków Płaszów, ul. Myśliwska</td>\n",
              "      <td>https://gratka.pl/nieruchomosci/nowe-mieszkanie-krakow-plaszow-ul-mysliwska/ob/17790013</td>\n",
              "      <td>W budynkach Myśliwska Solar Garden w Krakowie-Płaszowie na piętrach oraz na poziomie garażu zaplanowane są komórki lokatorskie w cenie 3250 zł/m2. Metraże komór</td>\n",
              "      <td>62.59</td>\n",
              "      <td>3</td>\n",
              "      <td>0.0</td>\n",
              "      <td>9394</td>\n",
              "    </tr>\n",
              "    <tr>\n",
              "      <th>3480</th>\n",
              "      <td>https://gratka.pl/nieruchomosci/mieszkania/krakow/pierwotny</td>\n",
              "      <td>https://gratka.pl/nieruchomosci/mieszkania/krakow/pierwotny?page=110</td>\n",
              "      <td>110</td>\n",
              "      <td>Kraków,                                         Płaszów,                                         małopolskie</td>\n",
              "      <td>Nowe mieszkanie Kraków Płaszów, ul. Myśliwska</td>\n",
              "      <td>https://gratka.pl/nieruchomosci/nowe-mieszkanie-krakow-plaszow-ul-mysliwska/ob/17789991</td>\n",
              "      <td>W budynkach Myśliwska Solar Garden w Krakowie-Płaszowie na piętrach oraz na poziomie garażu zaplanowane są komórki lokatorskie w cenie 3250 zł/m2. Metraże komór</td>\n",
              "      <td>63.77</td>\n",
              "      <td>3</td>\n",
              "      <td>0.0</td>\n",
              "      <td>9032</td>\n",
              "    </tr>\n",
              "  </tbody>\n",
              "</table>\n",
              "<p>3481 rows × 11 columns</p>\n",
              "</div>"
            ],
            "text/plain": [
              "                                                         url_base  ... price_per_m2\n",
              "0     https://gratka.pl/nieruchomosci/mieszkania/krakow/pierwotny  ...        10700\n",
              "1     https://gratka.pl/nieruchomosci/mieszkania/krakow/pierwotny  ...         7024\n",
              "2     https://gratka.pl/nieruchomosci/mieszkania/krakow/pierwotny  ...         9400\n",
              "3     https://gratka.pl/nieruchomosci/mieszkania/krakow/pierwotny  ...        10300\n",
              "4     https://gratka.pl/nieruchomosci/mieszkania/krakow/pierwotny  ...         9700\n",
              "...                                                           ...  ...          ...\n",
              "3476  https://gratka.pl/nieruchomosci/mieszkania/krakow/pierwotny  ...         9995\n",
              "3477  https://gratka.pl/nieruchomosci/mieszkania/krakow/pierwotny  ...         8916\n",
              "3478  https://gratka.pl/nieruchomosci/mieszkania/krakow/pierwotny  ...         9056\n",
              "3479  https://gratka.pl/nieruchomosci/mieszkania/krakow/pierwotny  ...         9394\n",
              "3480  https://gratka.pl/nieruchomosci/mieszkania/krakow/pierwotny  ...         9032\n",
              "\n",
              "[3481 rows x 11 columns]"
            ]
          },
          "metadata": {
            "tags": []
          },
          "execution_count": 40
        }
      ]
    },
    {
      "cell_type": "code",
      "metadata": {
        "colab": {
          "base_uri": "https://localhost:8080/"
        },
        "id": "hSzsFvFucLXf",
        "outputId": "ab5471f1-ca3d-48a1-bb3b-4ccbe47f17ab"
      },
      "source": [
        "#rozmiar df po usunięciu braków\n",
        "gratka_df.shape"
      ],
      "execution_count": null,
      "outputs": [
        {
          "output_type": "execute_result",
          "data": {
            "text/plain": [
              "(3481, 11)"
            ]
          },
          "metadata": {
            "tags": []
          },
          "execution_count": 41
        }
      ]
    },
    {
      "cell_type": "code",
      "metadata": {
        "colab": {
          "base_uri": "https://localhost:8080/"
        },
        "id": "4zx00zt7hQnd",
        "outputId": "92322d0e-c494-47d7-a09a-6199214aef0a"
      },
      "source": [
        "#podstawowe informacje po przekształceniach\n",
        "gratka_df.info()"
      ],
      "execution_count": null,
      "outputs": [
        {
          "output_type": "stream",
          "text": [
            "<class 'pandas.core.frame.DataFrame'>\n",
            "RangeIndex: 3481 entries, 0 to 3480\n",
            "Data columns (total 11 columns):\n",
            " #   Column        Non-Null Count  Dtype  \n",
            "---  ------        --------------  -----  \n",
            " 0   url_base      3481 non-null   object \n",
            " 1   url_page      3481 non-null   object \n",
            " 2   page          3481 non-null   int64  \n",
            " 3   location      3481 non-null   object \n",
            " 4   title         3481 non-null   object \n",
            " 5   link          3481 non-null   object \n",
            " 6   description   3481 non-null   object \n",
            " 7   area_m2       3481 non-null   float64\n",
            " 8   n_rooms       3481 non-null   int64  \n",
            " 9   n_floor       3481 non-null   float64\n",
            " 10  price_per_m2  3481 non-null   int64  \n",
            "dtypes: float64(2), int64(3), object(6)\n",
            "memory usage: 299.3+ KB\n"
          ],
          "name": "stdout"
        }
      ]
    },
    {
      "cell_type": "code",
      "metadata": {
        "colab": {
          "base_uri": "https://localhost:8080/",
          "height": 300
        },
        "id": "o7FXhyaShTqu",
        "outputId": "94f66420-b076-48a4-c638-cbecf19773a7"
      },
      "source": [
        "#wstępne statystyki danych\n",
        "gratka_df.describe()"
      ],
      "execution_count": null,
      "outputs": [
        {
          "output_type": "execute_result",
          "data": {
            "text/html": [
              "<div>\n",
              "<style scoped>\n",
              "    .dataframe tbody tr th:only-of-type {\n",
              "        vertical-align: middle;\n",
              "    }\n",
              "\n",
              "    .dataframe tbody tr th {\n",
              "        vertical-align: top;\n",
              "    }\n",
              "\n",
              "    .dataframe thead th {\n",
              "        text-align: right;\n",
              "    }\n",
              "</style>\n",
              "<table border=\"1\" class=\"dataframe\">\n",
              "  <thead>\n",
              "    <tr style=\"text-align: right;\">\n",
              "      <th></th>\n",
              "      <th>page</th>\n",
              "      <th>area_m2</th>\n",
              "      <th>n_rooms</th>\n",
              "      <th>n_floor</th>\n",
              "      <th>price_per_m2</th>\n",
              "    </tr>\n",
              "  </thead>\n",
              "  <tbody>\n",
              "    <tr>\n",
              "      <th>count</th>\n",
              "      <td>3481.000000</td>\n",
              "      <td>3481.000000</td>\n",
              "      <td>3481.000000</td>\n",
              "      <td>3481.000000</td>\n",
              "      <td>3481.000000</td>\n",
              "    </tr>\n",
              "    <tr>\n",
              "      <th>mean</th>\n",
              "      <td>55.598966</td>\n",
              "      <td>55.448914</td>\n",
              "      <td>2.559609</td>\n",
              "      <td>2.392129</td>\n",
              "      <td>10631.935363</td>\n",
              "    </tr>\n",
              "    <tr>\n",
              "      <th>std</th>\n",
              "      <td>31.648347</td>\n",
              "      <td>26.350922</td>\n",
              "      <td>1.027479</td>\n",
              "      <td>2.197552</td>\n",
              "      <td>2941.337028</td>\n",
              "    </tr>\n",
              "    <tr>\n",
              "      <th>min</th>\n",
              "      <td>1.000000</td>\n",
              "      <td>13.300000</td>\n",
              "      <td>1.000000</td>\n",
              "      <td>0.000000</td>\n",
              "      <td>4999.000000</td>\n",
              "    </tr>\n",
              "    <tr>\n",
              "      <th>25%</th>\n",
              "      <td>28.000000</td>\n",
              "      <td>39.000000</td>\n",
              "      <td>2.000000</td>\n",
              "      <td>1.000000</td>\n",
              "      <td>8893.000000</td>\n",
              "    </tr>\n",
              "    <tr>\n",
              "      <th>50%</th>\n",
              "      <td>56.000000</td>\n",
              "      <td>51.080000</td>\n",
              "      <td>3.000000</td>\n",
              "      <td>2.000000</td>\n",
              "      <td>9940.000000</td>\n",
              "    </tr>\n",
              "    <tr>\n",
              "      <th>75%</th>\n",
              "      <td>83.000000</td>\n",
              "      <td>66.110000</td>\n",
              "      <td>3.000000</td>\n",
              "      <td>4.000000</td>\n",
              "      <td>11955.000000</td>\n",
              "    </tr>\n",
              "    <tr>\n",
              "      <th>max</th>\n",
              "      <td>110.000000</td>\n",
              "      <td>230.000000</td>\n",
              "      <td>6.000000</td>\n",
              "      <td>14.000000</td>\n",
              "      <td>40000.000000</td>\n",
              "    </tr>\n",
              "  </tbody>\n",
              "</table>\n",
              "</div>"
            ],
            "text/plain": [
              "              page      area_m2      n_rooms      n_floor  price_per_m2\n",
              "count  3481.000000  3481.000000  3481.000000  3481.000000   3481.000000\n",
              "mean     55.598966    55.448914     2.559609     2.392129  10631.935363\n",
              "std      31.648347    26.350922     1.027479     2.197552   2941.337028\n",
              "min       1.000000    13.300000     1.000000     0.000000   4999.000000\n",
              "25%      28.000000    39.000000     2.000000     1.000000   8893.000000\n",
              "50%      56.000000    51.080000     3.000000     2.000000   9940.000000\n",
              "75%      83.000000    66.110000     3.000000     4.000000  11955.000000\n",
              "max     110.000000   230.000000     6.000000    14.000000  40000.000000"
            ]
          },
          "metadata": {
            "tags": []
          },
          "execution_count": 43
        }
      ]
    },
    {
      "cell_type": "code",
      "metadata": {
        "id": "mof95ObZhWna"
      },
      "source": [
        "# zapisywanie pliku z danymi\n",
        "gratka_df.to_csv(\"gratka_dane_new.csv\", index=False)"
      ],
      "execution_count": null,
      "outputs": []
    }
  ]
}